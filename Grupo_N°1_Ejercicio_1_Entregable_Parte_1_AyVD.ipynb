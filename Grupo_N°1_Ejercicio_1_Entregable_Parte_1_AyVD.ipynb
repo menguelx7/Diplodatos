{
  "nbformat": 4,
  "nbformat_minor": 0,
  "metadata": {
    "colab": {
      "name": "Grupo N°1_Ejercicio 1-Entregable Parte 1-AyVD.ipynb",
      "provenance": [],
      "collapsed_sections": []
    },
    "kernelspec": {
      "name": "python3",
      "display_name": "Python 3"
    },
    "language_info": {
      "name": "python"
    }
  },
  "cells": [
    {
      "cell_type": "markdown",
      "source": [
        "# AyVD- Año 2022"
      ],
      "metadata": {
        "id": "Zq1KXoD6rs1d"
      }
    },
    {
      "cell_type": "markdown",
      "source": [
        "# GRUPO 1- Trabajo práctico entregable parte N°1- Ejercicio 1\n",
        "********************************************************************************"
      ],
      "metadata": {
        "id": "ex6oVF0ivNde"
      }
    },
    {
      "cell_type": "markdown",
      "source": [
        "Integrantes: \n",
        "\n",
        "\n",
        "*   Laura Ailin Feu Marquestau\n",
        "*   Matias Miguel Mengual Figueroa \n",
        "*   Marcelo Perea\n",
        "*   Natalia Giselle Tassin\n",
        "*   Ignacio Villagra Torcomian\n",
        "\n"
      ],
      "metadata": {
        "id": "MdEuDGWArSOf"
      }
    },
    {
      "cell_type": "markdown",
      "source": [
        "# CONSIGNA EJERCICIO 1 - Análisis descriptivo"
      ],
      "metadata": {
        "id": "Op5mnMEgvMiA"
      }
    },
    {
      "cell_type": "markdown",
      "source": [
        "Responder a la pregunta: \n",
        "**¿Cuáles son los lenguajes de programación asociados a los mejores salarios?**\n",
        "*******************************************************************************\n",
        "\n",
        "Para ello: \n",
        "\n",
        "1.   Seleccionar las columnas relevantes para analizar\n",
        "2.   Seleccionar las filas relevantes para analizar. Esto incluye la eliminación de valores extremos y erróneos, pero también puede enfocar el análisis en una sub-población. Por ejemplo, se pueden limitar a personas con un salario mayor que 10000 pesos, o a las personas que trabajan sólo en \"Data Science\", pero deben justificar su elección y reformular la pregunta inicial de ser necesario.\n",
        "  *   Obtener una lista de los lenguajes de programación más populares. Decidir cuántos y cuáles seleccionan para incluir en el análisis.\n",
        "  *    Para cada una de las otras columnas del punto anterior, elegir los rangos o valores seleccionan para incluir en el análisis.\n",
        "3. Seleccionar métricas que ayuden a responder la pregunta, y los métodos para analizarlas. Elegir UNA de las siguientes opciones:\n",
        "  * Comparar las distribuciones de salario para cada lenguaje utilizando visualizaciones. Como la visualización es el producto final, debe ser clara y mostrar información relevante.\n",
        "  * Comparar medidas de estadística descriptiva sobre la distribución de salario para cada lenguaje. Sean creativos, la estadística descriptiva nos permite decir cosas como: \"el 10% de los mejores sueldos los ganan, en su mayoría, programadores que saben kotlin!\" (donde *mayoría* es un término medio engañoso que sólo significa más del 50%). Para comparar múltiples lenguajes, les recomendamos usar también visualizaciones.\n",
        "  * Comparar probabilidades. Por ejemplo: \"Si sabés Python o Java, tenés un 30% más de chances de ganar arriba de 100K\".\n",
        "\n",
        "Si lo consideran necesario, realicen varias iteraciones. Es decir, si encuentran que las distribuciones de los lenguajes de programación que seleccionaron inicialmente no son muy diferentes, pueden re-hacer el análisis usando sólo los lenguajes de programación que son diferentes.\n",
        "******************************************************************************\n",
        "\n",
        "\n",
        "    \n",
        "   \n",
        "\n",
        "\n"
      ],
      "metadata": {
        "id": "rHh-5lscr639"
      }
    },
    {
      "cell_type": "code",
      "source": [
        "import io\n",
        "import matplotlib\n",
        "import matplotlib.pyplot as plt\n",
        "import numpy as np\n",
        "import pandas as pd\n",
        "import seaborn\n",
        "\n",
        "seaborn.set_context('talk')"
      ],
      "metadata": {
        "id": "1e6hwS8wrXIN"
      },
      "execution_count": null,
      "outputs": []
    },
    {
      "cell_type": "code",
      "execution_count": null,
      "metadata": {
        "id": "miTWCrU1q3vt"
      },
      "outputs": [],
      "source": [
        "#Lectura del dataset\n",
        "url = 'https://cs.famaf.unc.edu.ar/~mteruel/datasets/diplodatos/sysarmy_survey_2020_processed.csv'\n",
        "df = pd.read_csv(url)"
      ]
    },
    {
      "cell_type": "code",
      "source": [
        "df.shape"
      ],
      "metadata": {
        "colab": {
          "base_uri": "https://localhost:8080/"
        },
        "id": "4Sw7a48_x0vQ",
        "outputId": "282cb793-6684-4ce8-a274-b98e67259266"
      },
      "execution_count": null,
      "outputs": [
        {
          "output_type": "execute_result",
          "data": {
            "text/plain": [
              "(6095, 48)"
            ]
          },
          "metadata": {},
          "execution_count": 3
        }
      ]
    },
    {
      "cell_type": "markdown",
      "source": [
        "#  1. Selección de columnas relevantes para el análisis\n",
        "*******************************************************************************"
      ],
      "metadata": {
        "id": "Xcm4jlFU1SMQ"
      }
    },
    {
      "cell_type": "markdown",
      "source": [
        "En una primera instancia, se decidió estudiar la información referida a los salarios de los programadores en 2020 tanto de la columna de \"sueldo neto\" como de \"sueldo bruto\", llamadas `'salary_monthly_NETO'` y `'salary_monthly_BRUTO'` respectivamente en el dataframe. \n",
        "\n",
        "Este primer paso tiene como objetivo analizar si es pertinente trabajar con ambas variables (NETO y BRUTO) o sólo con la columna de sueldo NETO.\n",
        "\n",
        "Por otro lado, también se ha seleccionado la columna que contiene información sobre los lenguajes de programación utilizados por los programadores encuestados llamada: `'tools_programming_languages'`. Sus valores son strings con los lenguajes seleccionados separados por comas. "
      ],
      "metadata": {
        "id": "0ILDn1zHzi4j"
      }
    },
    {
      "cell_type": "code",
      "source": [
        "relevant_columns = ['tools_programming_languages', 'salary_monthly_NETO', 'salary_monthly_BRUTO']"
      ],
      "metadata": {
        "id": "EtcgfnUAyuGc"
      },
      "execution_count": null,
      "outputs": []
    },
    {
      "cell_type": "markdown",
      "source": [
        "# 2.   Seleccionar las filas relevantes para analizar\n",
        "*******************************************************************************"
      ],
      "metadata": {
        "id": "TEakI8f21lTB"
      }
    },
    {
      "cell_type": "markdown",
      "source": [
        "Este paso incluye la eliminación de valores extremos y erróneos, pero también puede enfocar el análisis en una sub-población.\n",
        "\n",
        "Se trabaja inicialmente con el dataframe original (df) para el estudio de las columnas de salario ya que se considera que de esta manera \"no se distorsiona\" la distribución y cantidad original de los datos.\n"
      ],
      "metadata": {
        "id": "8zvftakX1d-M"
      }
    },
    {
      "cell_type": "code",
      "source": [
        "salary_neto= 'salary_monthly_NETO'\n",
        "salary_bruto= 'salary_monthly_BRUTO'\n",
        "programming_languages= 'tools_programming_languages'"
      ],
      "metadata": {
        "id": "9FVmQpAFRPYW"
      },
      "execution_count": null,
      "outputs": []
    },
    {
      "cell_type": "markdown",
      "source": [
        "Para poder seleccionar las filas relevantes para el análisis, se exploran los datos de las variables salary_neto y salary_bruto, visualizándolos a través de un histograma, para poder detectar outliers o valores erróneos."
      ],
      "metadata": {
        "id": "F_iPBR_XYc4i"
      }
    },
    {
      "cell_type": "code",
      "source": [
        "#VISUALIZACIÓN DE DATOS INICIAL: Histograma de columna \"salary_neto\"\n",
        "seaborn.displot(df[\"salary_monthly_NETO\"], aspect=3, bins = 150, color='palegreen', label='Distribución de Salario Neto') \n",
        "plt.ticklabel_format(style='plain', axis='x')\n",
        "plt.xlim(-10000,500000)\n",
        "plt.legend()"
      ],
      "metadata": {
        "colab": {
          "base_uri": "https://localhost:8080/",
          "height": 302
        },
        "id": "2n23YagWAgEs",
        "outputId": "9210d24f-6790-4651-c9c2-e1457753f194"
      },
      "execution_count": null,
      "outputs": [
        {
          "output_type": "execute_result",
          "data": {
            "text/plain": [
              "<matplotlib.legend.Legend at 0x7f831350b4d0>"
            ]
          },
          "metadata": {},
          "execution_count": 6
        },
        {
          "output_type": "display_data",
          "data": {
            "text/plain": [
              "<Figure size 1080x360 with 1 Axes>"
            ],
            "image/png": "[encoded data removed]"
          },
          "metadata": {
            "needs_background": "light"
          }
        }
      ]
    },
    {
      "cell_type": "code",
      "source": [
        "#VISUALIZACIÓN DE DATOS INICIAL: Histograma de columna \"salary_bruto\"\n",
        "seaborn.displot(df[\"salary_monthly_BRUTO\"], aspect=3, bins = 100, color='goldenrod', label='Distribución de Salario Bruto') \n",
        "plt.ticklabel_format(style='plain', axis='x')\n",
        "plt.xlim(-20000,800000)\n",
        "plt.legend()"
      ],
      "metadata": {
        "colab": {
          "base_uri": "https://localhost:8080/",
          "height": 302
        },
        "id": "cyCxJIrIZPNd",
        "outputId": "e7de232d-d661-44ab-800c-306cfb47861e"
      },
      "execution_count": null,
      "outputs": [
        {
          "output_type": "execute_result",
          "data": {
            "text/plain": [
              "<matplotlib.legend.Legend at 0x7f8310b6b890>"
            ]
          },
          "metadata": {},
          "execution_count": 7
        },
        {
          "output_type": "display_data",
          "data": {
            "text/plain": [
              "<Figure size 1080x360 with 1 Axes>"
            ],
            "image/png": "[encoded data removed]"
          },
          "metadata": {
            "needs_background": "light"
          }
        }
      ]
    },
    {
      "cell_type": "markdown",
      "source": [
        "Si se analizan ambos histogramas, podemos ver que ambas distribuciones tienen una cola derecha (sesgo hacia la izquierda), es decir que tienen la mayoría de las frecuencias en el lado inferior del eje X. \n",
        "\n",
        "Asimismo, hay menor cantidad de elementos y frecuencias bajas en el valor superior del eje X (con salarios muy elevados).\n",
        "\n",
        "*******************************************************************************\n",
        "Se estudia a continuación la **estadística descriptiva** de las dos columnas numéricas de salarios neto y bruto:"
      ],
      "metadata": {
        "id": "XgDuGo8vE6zl"
      }
    },
    {
      "cell_type": "code",
      "source": [
        "#ESTADISTICA DESCRIPTIVA DE COLUMNAS DE SALARIO NETO Y BRUTO\n",
        "df[['salary_monthly_NETO', 'salary_monthly_BRUTO']].describe().round()"
      ],
      "metadata": {
        "colab": {
          "base_uri": "https://localhost:8080/",
          "height": 300
        },
        "id": "sOScIYdPZrXV",
        "outputId": "96fdd119-00c5-43c7-db11-fb259c797d38"
      },
      "execution_count": null,
      "outputs": [
        {
          "output_type": "execute_result",
          "data": {
            "text/plain": [
              "       salary_monthly_NETO  salary_monthly_BRUTO\n",
              "count               5883.0                6095.0\n",
              "mean               94908.0              124059.0\n",
              "std                96862.0              122912.0\n",
              "min                    1.0                   1.0\n",
              "25%                51480.0               61595.0\n",
              "50%                78000.0               96000.0\n",
              "75%               106000.0              145000.0\n",
              "max              2080000.0             2180000.0"
            ],
            "text/html": [
              "\n",
              "  <div id=\"df-88ec7b08-65c4-4509-b70e-e4592e8e052b\">\n",
              "    <div class=\"colab-df-container\">\n",
              "      <div>\n",
              "<style scoped>\n",
              "    .dataframe tbody tr th:only-of-type {\n",
              "        vertical-align: middle;\n",
              "    }\n",
              "\n",
              "    .dataframe tbody tr th {\n",
              "        vertical-align: top;\n",
              "    }\n",
              "\n",
              "    .dataframe thead th {\n",
              "        text-align: right;\n",
              "    }\n",
              "</style>\n",
              "<table border=\"1\" class=\"dataframe\">\n",
              "  <thead>\n",
              "    <tr style=\"text-align: right;\">\n",
              "      <th></th>\n",
              "      <th>salary_monthly_NETO</th>\n",
              "      <th>salary_monthly_BRUTO</th>\n",
              "    </tr>\n",
              "  </thead>\n",
              "  <tbody>\n",
              "    <tr>\n",
              "      <th>count</th>\n",
              "      <td>5883.0</td>\n",
              "      <td>6095.0</td>\n",
              "    </tr>\n",
              "    <tr>\n",
              "      <th>mean</th>\n",
              "      <td>94908.0</td>\n",
              "      <td>124059.0</td>\n",
              "    </tr>\n",
              "    <tr>\n",
              "      <th>std</th>\n",
              "      <td>96862.0</td>\n",
              "      <td>122912.0</td>\n",
              "    </tr>\n",
              "    <tr>\n",
              "      <th>min</th>\n",
              "      <td>1.0</td>\n",
              "      <td>1.0</td>\n",
              "    </tr>\n",
              "    <tr>\n",
              "      <th>25%</th>\n",
              "      <td>51480.0</td>\n",
              "      <td>61595.0</td>\n",
              "    </tr>\n",
              "    <tr>\n",
              "      <th>50%</th>\n",
              "      <td>78000.0</td>\n",
              "      <td>96000.0</td>\n",
              "    </tr>\n",
              "    <tr>\n",
              "      <th>75%</th>\n",
              "      <td>106000.0</td>\n",
              "      <td>145000.0</td>\n",
              "    </tr>\n",
              "    <tr>\n",
              "      <th>max</th>\n",
              "      <td>2080000.0</td>\n",
              "      <td>2180000.0</td>\n",
              "    </tr>\n",
              "  </tbody>\n",
              "</table>\n",
              "</div>\n",
              "      <button class=\"colab-df-convert\" onclick=\"convertToInteractive('df-88ec7b08-65c4-4509-b70e-e4592e8e052b')\"\n",
              "              title=\"Convert this dataframe to an interactive table.\"\n",
              "              style=\"display:none;\">\n",
              "        \n",
              "  <svg xmlns=\"http://www.w3.org/2000/svg\" height=\"24px\"viewBox=\"0 0 24 24\"\n",
              "       width=\"24px\">\n",
              "    <path d=\"M0 0h24v24H0V0z\" fill=\"none\"/>\n",
              "    <path d=\"M18.56 5.44l.94 2.06.94-2.06 2.06-.94-2.06-.94-.94-2.06-.94 2.06-2.06.94zm-11 1L8.5 8.5l.94-2.06 2.06-.94-2.06-.94L8.5 2.5l-.94 2.06-2.06.94zm10 10l.94 2.06.94-2.06 2.06-.94-2.06-.94-.94-2.06-.94 2.06-2.06.94z\"/><path d=\"M17.41 7.96l-1.37-1.37c-.4-.4-.92-.59-1.43-.59-.52 0-1.04.2-1.43.59L10.3 9.45l-7.72 7.72c-.78.78-.78 2.05 0 2.83L4 21.41c.39.39.9.59 1.41.59.51 0 1.02-.2 1.41-.59l7.78-7.78 2.81-2.81c.8-.78.8-2.07 0-2.86zM5.41 20L4 18.59l7.72-7.72 1.47 1.35L5.41 20z\"/>\n",
              "  </svg>\n",
              "      </button>\n",
              "      \n",
              "  <style>\n",
              "    .colab-df-container {\n",
              "      display:flex;\n",
              "      flex-wrap:wrap;\n",
              "      gap: 12px;\n",
              "    }\n",
              "\n",
              "    .colab-df-convert {\n",
              "      background-color: #E8F0FE;\n",
              "      border: none;\n",
              "      border-radius: 50%;\n",
              "      cursor: pointer;\n",
              "      display: none;\n",
              "      fill: #1967D2;\n",
              "      height: 32px;\n",
              "      padding: 0 0 0 0;\n",
              "      width: 32px;\n",
              "    }\n",
              "\n",
              "    .colab-df-convert:hover {\n",
              "      background-color: #E2EBFA;\n",
              "      box-shadow: 0px 1px 2px rgba(60, 64, 67, 0.3), 0px 1px 3px 1px rgba(60, 64, 67, 0.15);\n",
              "      fill: #174EA6;\n",
              "    }\n",
              "\n",
              "    [theme=dark] .colab-df-convert {\n",
              "      background-color: #3B4455;\n",
              "      fill: #D2E3FC;\n",
              "    }\n",
              "\n",
              "    [theme=dark] .colab-df-convert:hover {\n",
              "      background-color: #434B5C;\n",
              "      box-shadow: 0px 1px 3px 1px rgba(0, 0, 0, 0.15);\n",
              "      filter: drop-shadow(0px 1px 2px rgba(0, 0, 0, 0.3));\n",
              "      fill: #FFFFFF;\n",
              "    }\n",
              "  </style>\n",
              "\n",
              "      <script>\n",
              "        const buttonEl =\n",
              "          document.querySelector('#df-88ec7b08-65c4-4509-b70e-e4592e8e052b button.colab-df-convert');\n",
              "        buttonEl.style.display =\n",
              "          google.colab.kernel.accessAllowed ? 'block' : 'none';\n",
              "\n",
              "        async function convertToInteractive(key) {\n",
              "          const element = document.querySelector('#df-88ec7b08-65c4-4509-b70e-e4592e8e052b');\n",
              "          const dataTable =\n",
              "            await google.colab.kernel.invokeFunction('convertToInteractive',\n",
              "                                                     [key], {});\n",
              "          if (!dataTable) return;\n",
              "\n",
              "          const docLinkHtml = 'Like what you see? Visit the ' +\n",
              "            '<a target=\"_blank\" href=https://colab.research.google.com/notebooks/data_table.ipynb>data table notebook</a>'\n",
              "            + ' to learn more about interactive tables.';\n",
              "          element.innerHTML = '';\n",
              "          dataTable['output_type'] = 'display_data';\n",
              "          await google.colab.output.renderOutput(dataTable, element);\n",
              "          const docLink = document.createElement('div');\n",
              "          docLink.innerHTML = docLinkHtml;\n",
              "          element.appendChild(docLink);\n",
              "        }\n",
              "      </script>\n",
              "    </div>\n",
              "  </div>\n",
              "  "
            ]
          },
          "metadata": {},
          "execution_count": 8
        }
      ]
    },
    {
      "cell_type": "markdown",
      "source": [
        "Según la tabla anterior, se puede ver que las columnas de sueldo neto y bruto NO coinciden, siendo menor la cantidad de respuestas numéricas en la columna de sueldo neto (5883 versus 6095). Es decir que hubo 212 respuestas nulas en la encuesta tomada de base.\n",
        "\n",
        "El valor máximo para la columna de salario neto es 2.080.000 pesos y el máximo de la columna de salario bruto es 2.180.000 pesos. \n",
        "\n",
        "Los valores mínimos para ambos salarios son 1.0 peso, información que se sospecha que es errónea."
      ],
      "metadata": {
        "id": "bCthSu3WwJ1n"
      }
    },
    {
      "cell_type": "code",
      "source": [
        "df[\"salary_monthly_NETO\"].median()\n",
        "print(df[\"salary_monthly_NETO\"].median())\n",
        "\n",
        "df[\"salary_monthly_BRUTO\"].median()\n",
        "print(df[\"salary_monthly_BRUTO\"].median())"
      ],
      "metadata": {
        "colab": {
          "base_uri": "https://localhost:8080/"
        },
        "id": "w7-YgbdoIeIH",
        "outputId": "253fcded-6b7f-4e30-8c3a-015b2f2dc1c7"
      },
      "execution_count": null,
      "outputs": [
        {
          "output_type": "stream",
          "name": "stdout",
          "text": [
            "78000.0\n",
            "96000.0\n"
          ]
        }
      ]
    },
    {
      "cell_type": "markdown",
      "source": [
        "*   Los valores de media y mediana para la columna de sueldo neto son 94.908 pesos y 78.000 pesos respectivamente.\n",
        "*   Los valores de media y mediana para la columna de sueldo bruto son 124.059 y 96.000 pesos respectivamente.\n",
        "\n",
        "La media es muy sensible a valores extremos y la mediana es más robusta frente a este tipo de valores.\n",
        "\n",
        "Se observa que la distribución de los datos es asimétrica, ya que estas dos medidas son muy diferentes (acompañando esta conclusión con la visualización de los histogramas previos)."
      ],
      "metadata": {
        "id": "Az0pfFtLO-9B"
      }
    },
    {
      "cell_type": "code",
      "source": [
        "#VISUALIZACIÓN DE DATOS: Boxplot para columna de SALARIO NETO\n",
        "plt.figure(figsize=(20, 5))\n",
        "seaborn.boxplot(x=df[\"salary_monthly_NETO\"], color='palegreen')\n",
        "plt.ticklabel_format(style='plain', axis='x')\n",
        "plt.xlim(0,1000000)\n",
        "seaborn.despine()"
      ],
      "metadata": {
        "colab": {
          "base_uri": "https://localhost:8080/",
          "height": 258
        },
        "id": "7hAO9QYEHCly",
        "outputId": "a00e2da4-993d-4297-ecdb-13a076034eeb"
      },
      "execution_count": null,
      "outputs": [
        {
          "output_type": "display_data",
          "data": {
            "text/plain": [
              "<Figure size 1440x360 with 1 Axes>"
            ],
            "image/png": "[encoded data removed]"
          },
          "metadata": {
            "needs_background": "light"
          }
        }
      ]
    },
    {
      "cell_type": "code",
      "source": [
        "#VISUALIZACIÓN DE DATOS: Boxplot para columna de SALARIO BRUTO\n",
        "plt.figure(figsize=(20, 5))\n",
        "seaborn.boxplot(x=df[\"salary_monthly_BRUTO\"], color='goldenrod')\n",
        "plt.ticklabel_format(style='plain', axis='x')\n",
        "plt.xlim(0,1000000)\n",
        "seaborn.despine()"
      ],
      "metadata": {
        "colab": {
          "base_uri": "https://localhost:8080/",
          "height": 258
        },
        "id": "MQU9wF4EHjbv",
        "outputId": "b45d8759-5241-4f5a-cccf-1b95668c3cb8"
      },
      "execution_count": null,
      "outputs": [
        {
          "output_type": "display_data",
          "data": {
            "text/plain": [
              "<Figure size 1440x360 with 1 Axes>"
            ],
            "image/png": "[encoded data removed]"
          },
          "metadata": {
            "needs_background": "light"
          }
        }
      ]
    },
    {
      "cell_type": "markdown",
      "source": [
        "En los gráficos de caja se observa esta distribución asimétrica (cola hacia la derecha) con la presencia de muchos valores \"outliers\" del lado derecho.\n",
        "\n",
        "*******************************************************************************\n",
        "Las **medidas de tendencia central** representan cómo es la distribución de los datos (en torno a la media y mediana) considerando diferentes valores máximos:"
      ],
      "metadata": {
        "id": "VdDCncY9QRY8"
      }
    },
    {
      "cell_type": "code",
      "source": [
        "#Medidas de tendencia central para la columna de SALARIO NETO\n",
        "max_salaries = [df[salary_neto].max(), 10**6, 800000, 600000,400000, 300000, 200000, 150000, 100000, 90000, 80000]\n",
        "central_tendency = [\n",
        "    (max_salary, df[df[salary_neto] < max_salary][salary_neto].mean(),\n",
        "     df[df[salary_neto] < max_salary][salary_neto].median())\n",
        "    for max_salary in max_salaries\n",
        "]\n",
        "central_tendency"
      ],
      "metadata": {
        "colab": {
          "base_uri": "https://localhost:8080/"
        },
        "id": "z1ExQb4lRgqk",
        "outputId": "f48160c8-1818-480e-a6e9-b2e3a9bb86a5"
      },
      "execution_count": null,
      "outputs": [
        {
          "output_type": "execute_result",
          "data": {
            "text/plain": [
              "[(2080000.0, 94570.46320401224, 77900.0),\n",
              " (1000000, 92698.81889747956, 77522.5),\n",
              " (800000, 91104.13729795223, 77050.0),\n",
              " (600000, 89935.06234028729, 77000.0),\n",
              " (400000, 85670.75178384922, 76000.0),\n",
              " (300000, 82071.23510452473, 75000.0),\n",
              " (200000, 77205.32366377127, 74824.5),\n",
              " (150000, 72210.03814321179, 72000.0),\n",
              " (100000, 59763.166367996084, 62000.0),\n",
              " (90000, 55124.48706229143, 57077.979999999996),\n",
              " (80000, 49693.69284872559, 52000.0)]"
            ]
          },
          "metadata": {},
          "execution_count": 12
        }
      ]
    },
    {
      "cell_type": "code",
      "source": [
        "#Para visualizar en forma gráfica la tabla anterior. Se calcula la tendencia central máxima del SALARIO NETO\n",
        "\n",
        "central_tendency_max = [\n",
        "    (max_salary, df[df[salary_neto] < max_salary][salary_neto].mean(),\n",
        "     df[df[salary_neto] < max_salary][salary_neto].median())\n",
        "    for max_salary in range(50000, int(df[salary_neto].max()), 10**4)\n",
        "]\n",
        "central_tendency_max_SN_df = pd.DataFrame(central_tendency_max,\n",
        "                                   columns=['max_salary_NETO', 'mean', 'median'])\\\n",
        "  .melt(id_vars='max_salary_NETO', var_name='metric')\n",
        "\n",
        "central_tendency_max_SN_df.head()"
      ],
      "metadata": {
        "colab": {
          "base_uri": "https://localhost:8080/",
          "height": 206
        },
        "id": "th1M4F6p6ouA",
        "outputId": "9588f755-5deb-4b68-9f55-3bab646d7e3a"
      },
      "execution_count": null,
      "outputs": [
        {
          "output_type": "execute_result",
          "data": {
            "text/plain": [
              "   max_salary_NETO metric         value\n",
              "0            50000   mean  31760.877295\n",
              "1            60000   mean  38301.665653\n",
              "2            70000   mean  44085.591719\n",
              "3            80000   mean  49693.692849\n",
              "4            90000   mean  55124.487062"
            ],
            "text/html": [
              "\n",
              "  <div id=\"df-c30fecfe-a5ed-4705-9c97-bc08e3ccf86a\">\n",
              "    <div class=\"colab-df-container\">\n",
              "      <div>\n",
              "<style scoped>\n",
              "    .dataframe tbody tr th:only-of-type {\n",
              "        vertical-align: middle;\n",
              "    }\n",
              "\n",
              "    .dataframe tbody tr th {\n",
              "        vertical-align: top;\n",
              "    }\n",
              "\n",
              "    .dataframe thead th {\n",
              "        text-align: right;\n",
              "    }\n",
              "</style>\n",
              "<table border=\"1\" class=\"dataframe\">\n",
              "  <thead>\n",
              "    <tr style=\"text-align: right;\">\n",
              "      <th></th>\n",
              "      <th>max_salary_NETO</th>\n",
              "      <th>metric</th>\n",
              "      <th>value</th>\n",
              "    </tr>\n",
              "  </thead>\n",
              "  <tbody>\n",
              "    <tr>\n",
              "      <th>0</th>\n",
              "      <td>50000</td>\n",
              "      <td>mean</td>\n",
              "      <td>31760.877295</td>\n",
              "    </tr>\n",
              "    <tr>\n",
              "      <th>1</th>\n",
              "      <td>60000</td>\n",
              "      <td>mean</td>\n",
              "      <td>38301.665653</td>\n",
              "    </tr>\n",
              "    <tr>\n",
              "      <th>2</th>\n",
              "      <td>70000</td>\n",
              "      <td>mean</td>\n",
              "      <td>44085.591719</td>\n",
              "    </tr>\n",
              "    <tr>\n",
              "      <th>3</th>\n",
              "      <td>80000</td>\n",
              "      <td>mean</td>\n",
              "      <td>49693.692849</td>\n",
              "    </tr>\n",
              "    <tr>\n",
              "      <th>4</th>\n",
              "      <td>90000</td>\n",
              "      <td>mean</td>\n",
              "      <td>55124.487062</td>\n",
              "    </tr>\n",
              "  </tbody>\n",
              "</table>\n",
              "</div>\n",
              "      <button class=\"colab-df-convert\" onclick=\"convertToInteractive('df-c30fecfe-a5ed-4705-9c97-bc08e3ccf86a')\"\n",
              "              title=\"Convert this dataframe to an interactive table.\"\n",
              "              style=\"display:none;\">\n",
              "        \n",
              "  <svg xmlns=\"http://www.w3.org/2000/svg\" height=\"24px\"viewBox=\"0 0 24 24\"\n",
              "       width=\"24px\">\n",
              "    <path d=\"M0 0h24v24H0V0z\" fill=\"none\"/>\n",
              "    <path d=\"M18.56 5.44l.94 2.06.94-2.06 2.06-.94-2.06-.94-.94-2.06-.94 2.06-2.06.94zm-11 1L8.5 8.5l.94-2.06 2.06-.94-2.06-.94L8.5 2.5l-.94 2.06-2.06.94zm10 10l.94 2.06.94-2.06 2.06-.94-2.06-.94-.94-2.06-.94 2.06-2.06.94z\"/><path d=\"M17.41 7.96l-1.37-1.37c-.4-.4-.92-.59-1.43-.59-.52 0-1.04.2-1.43.59L10.3 9.45l-7.72 7.72c-.78.78-.78 2.05 0 2.83L4 21.41c.39.39.9.59 1.41.59.51 0 1.02-.2 1.41-.59l7.78-7.78 2.81-2.81c.8-.78.8-2.07 0-2.86zM5.41 20L4 18.59l7.72-7.72 1.47 1.35L5.41 20z\"/>\n",
              "  </svg>\n",
              "      </button>\n",
              "      \n",
              "  <style>\n",
              "    .colab-df-container {\n",
              "      display:flex;\n",
              "      flex-wrap:wrap;\n",
              "      gap: 12px;\n",
              "    }\n",
              "\n",
              "    .colab-df-convert {\n",
              "      background-color: #E8F0FE;\n",
              "      border: none;\n",
              "      border-radius: 50%;\n",
              "      cursor: pointer;\n",
              "      display: none;\n",
              "      fill: #1967D2;\n",
              "      height: 32px;\n",
              "      padding: 0 0 0 0;\n",
              "      width: 32px;\n",
              "    }\n",
              "\n",
              "    .colab-df-convert:hover {\n",
              "      background-color: #E2EBFA;\n",
              "      box-shadow: 0px 1px 2px rgba(60, 64, 67, 0.3), 0px 1px 3px 1px rgba(60, 64, 67, 0.15);\n",
              "      fill: #174EA6;\n",
              "    }\n",
              "\n",
              "    [theme=dark] .colab-df-convert {\n",
              "      background-color: #3B4455;\n",
              "      fill: #D2E3FC;\n",
              "    }\n",
              "\n",
              "    [theme=dark] .colab-df-convert:hover {\n",
              "      background-color: #434B5C;\n",
              "      box-shadow: 0px 1px 3px 1px rgba(0, 0, 0, 0.15);\n",
              "      filter: drop-shadow(0px 1px 2px rgba(0, 0, 0, 0.3));\n",
              "      fill: #FFFFFF;\n",
              "    }\n",
              "  </style>\n",
              "\n",
              "      <script>\n",
              "        const buttonEl =\n",
              "          document.querySelector('#df-c30fecfe-a5ed-4705-9c97-bc08e3ccf86a button.colab-df-convert');\n",
              "        buttonEl.style.display =\n",
              "          google.colab.kernel.accessAllowed ? 'block' : 'none';\n",
              "\n",
              "        async function convertToInteractive(key) {\n",
              "          const element = document.querySelector('#df-c30fecfe-a5ed-4705-9c97-bc08e3ccf86a');\n",
              "          const dataTable =\n",
              "            await google.colab.kernel.invokeFunction('convertToInteractive',\n",
              "                                                     [key], {});\n",
              "          if (!dataTable) return;\n",
              "\n",
              "          const docLinkHtml = 'Like what you see? Visit the ' +\n",
              "            '<a target=\"_blank\" href=https://colab.research.google.com/notebooks/data_table.ipynb>data table notebook</a>'\n",
              "            + ' to learn more about interactive tables.';\n",
              "          element.innerHTML = '';\n",
              "          dataTable['output_type'] = 'display_data';\n",
              "          await google.colab.output.renderOutput(dataTable, element);\n",
              "          const docLink = document.createElement('div');\n",
              "          docLink.innerHTML = docLinkHtml;\n",
              "          element.appendChild(docLink);\n",
              "        }\n",
              "      </script>\n",
              "    </div>\n",
              "  </div>\n",
              "  "
            ]
          },
          "metadata": {},
          "execution_count": 13
        }
      ]
    },
    {
      "cell_type": "code",
      "source": [
        "#A continuación se realiza la representación gráfica de la MEDIA y la MEDIANA para el SALARIO NETO\n",
        "fig = plt.figure(figsize=(20, 5))\n",
        "seaborn.lineplot(data=central_tendency_max_SN_df, x='max_salary_NETO', y='value', hue='metric')\n",
        "plt.ticklabel_format(style='plain', axis='x')\n",
        "plt.xlim(-50000,350000)\n",
        "plt.xticks( range(0,800000,50000) )\n",
        "seaborn.despine()"
      ],
      "metadata": {
        "colab": {
          "base_uri": "https://localhost:8080/",
          "height": 244
        },
        "id": "jfaWbVUq5An1",
        "outputId": "ae9fa1d8-d986-454d-d9bf-4a5446f875fb"
      },
      "execution_count": null,
      "outputs": [
        {
          "output_type": "display_data",
          "data": {
            "text/plain": [
              "<Figure size 1440x360 with 1 Axes>"
            ],
            "image/png": "[encoded data removed]"
          },
          "metadata": {
            "needs_background": "light"
          }
        }
      ]
    },
    {
      "cell_type": "markdown",
      "source": [
        "A simple vista, se observa que a partir de un valor de salario NETO de 150.000 pesos, los valores de media y mediana se alejan de manera significativa. "
      ],
      "metadata": {
        "id": "8GhlS9cPAG16"
      }
    },
    {
      "cell_type": "code",
      "source": [
        "#Medida de tendencia central para la columna de SALARIO BRUTO\n",
        "max_salaries = [df[salary_bruto].max(), 10**6, 800000, 600000,400000, 300000, 200000, 175000, 150000, 140000, 100000, 90000, 80000]\n",
        "central_tendency = [\n",
        "    (max_salary, df[df[salary_bruto] < max_salary][salary_bruto].mean(),\n",
        "     df[df[salary_bruto] < max_salary][salary_bruto].median())\n",
        "    for max_salary in max_salaries\n",
        "]\n",
        "central_tendency"
      ],
      "metadata": {
        "colab": {
          "base_uri": "https://localhost:8080/"
        },
        "id": "FAPsHaVtQQtQ",
        "outputId": "53f3ffa1-4aef-4f99-ab56-c06ac6740c55"
      },
      "execution_count": null,
      "outputs": [
        {
          "output_type": "execute_result",
          "data": {
            "text/plain": [
              "[(2180000.0, 123721.17819855602, 96000.0),\n",
              " (1000000, 120723.13043954605, 96000.0),\n",
              " (800000, 118841.94754980213, 96000.0),\n",
              " (600000, 115230.51949244818, 95000.0),\n",
              " (400000, 107991.96966661021, 94000.0),\n",
              " (300000, 102223.41686622657, 92000.0),\n",
              " (200000, 91461.11102857142, 88000.0),\n",
              " (175000, 86340.4693517159, 85000.0),\n",
              " (150000, 79580.67606806853, 80000.0),\n",
              " (140000, 76235.35873789951, 76000.0),\n",
              " (100000, 60116.26495582583, 62950.0),\n",
              " (90000, 55024.03194313148, 59000.0),\n",
              " (80000, 49864.62583202786, 53000.0)]"
            ]
          },
          "metadata": {},
          "execution_count": 15
        }
      ]
    },
    {
      "cell_type": "code",
      "source": [
        "#Para visualizar en forma gráfica la tabla anterior. Se calcula la tendencia central máxima del SALARIO BRUTO\n",
        "\n",
        "central_tendency_max = [\n",
        "    (max_salary, df[df[salary_bruto] < max_salary][salary_bruto].mean(),\n",
        "     df[df[salary_bruto] < max_salary][salary_bruto].median())\n",
        "    for max_salary in range(50000, int(df[salary_bruto].max()), 10**4)\n",
        "]\n",
        "central_tendency_max_SB_df = pd.DataFrame(central_tendency_max,\n",
        "                                   columns=['max_salary_BRUTO', 'mean', 'median'])\\\n",
        "  .melt(id_vars='max_salary_BRUTO', var_name='metric')\n",
        "\n",
        "central_tendency_max_SB_df.head()"
      ],
      "metadata": {
        "colab": {
          "base_uri": "https://localhost:8080/",
          "height": 206
        },
        "id": "BpftYzbN9AOJ",
        "outputId": "90e2affd-47a5-4e74-9570-1c1ca386f4fc"
      },
      "execution_count": null,
      "outputs": [
        {
          "output_type": "execute_result",
          "data": {
            "text/plain": [
              "   max_salary_BRUTO metric         value\n",
              "0             50000   mean  30339.534775\n",
              "1             60000   mean  37032.451850\n",
              "2             70000   mean  44179.526605\n",
              "3             80000   mean  49864.625832\n",
              "4             90000   mean  55024.031943"
            ],
            "text/html": [
              "\n",
              "  <div id=\"df-1f39c8c0-dfa8-4b68-b8c7-dc4ed2f4ee2f\">\n",
              "    <div class=\"colab-df-container\">\n",
              "      <div>\n",
              "<style scoped>\n",
              "    .dataframe tbody tr th:only-of-type {\n",
              "        vertical-align: middle;\n",
              "    }\n",
              "\n",
              "    .dataframe tbody tr th {\n",
              "        vertical-align: top;\n",
              "    }\n",
              "\n",
              "    .dataframe thead th {\n",
              "        text-align: right;\n",
              "    }\n",
              "</style>\n",
              "<table border=\"1\" class=\"dataframe\">\n",
              "  <thead>\n",
              "    <tr style=\"text-align: right;\">\n",
              "      <th></th>\n",
              "      <th>max_salary_BRUTO</th>\n",
              "      <th>metric</th>\n",
              "      <th>value</th>\n",
              "    </tr>\n",
              "  </thead>\n",
              "  <tbody>\n",
              "    <tr>\n",
              "      <th>0</th>\n",
              "      <td>50000</td>\n",
              "      <td>mean</td>\n",
              "      <td>30339.534775</td>\n",
              "    </tr>\n",
              "    <tr>\n",
              "      <th>1</th>\n",
              "      <td>60000</td>\n",
              "      <td>mean</td>\n",
              "      <td>37032.451850</td>\n",
              "    </tr>\n",
              "    <tr>\n",
              "      <th>2</th>\n",
              "      <td>70000</td>\n",
              "      <td>mean</td>\n",
              "      <td>44179.526605</td>\n",
              "    </tr>\n",
              "    <tr>\n",
              "      <th>3</th>\n",
              "      <td>80000</td>\n",
              "      <td>mean</td>\n",
              "      <td>49864.625832</td>\n",
              "    </tr>\n",
              "    <tr>\n",
              "      <th>4</th>\n",
              "      <td>90000</td>\n",
              "      <td>mean</td>\n",
              "      <td>55024.031943</td>\n",
              "    </tr>\n",
              "  </tbody>\n",
              "</table>\n",
              "</div>\n",
              "      <button class=\"colab-df-convert\" onclick=\"convertToInteractive('df-1f39c8c0-dfa8-4b68-b8c7-dc4ed2f4ee2f')\"\n",
              "              title=\"Convert this dataframe to an interactive table.\"\n",
              "              style=\"display:none;\">\n",
              "        \n",
              "  <svg xmlns=\"http://www.w3.org/2000/svg\" height=\"24px\"viewBox=\"0 0 24 24\"\n",
              "       width=\"24px\">\n",
              "    <path d=\"M0 0h24v24H0V0z\" fill=\"none\"/>\n",
              "    <path d=\"M18.56 5.44l.94 2.06.94-2.06 2.06-.94-2.06-.94-.94-2.06-.94 2.06-2.06.94zm-11 1L8.5 8.5l.94-2.06 2.06-.94-2.06-.94L8.5 2.5l-.94 2.06-2.06.94zm10 10l.94 2.06.94-2.06 2.06-.94-2.06-.94-.94-2.06-.94 2.06-2.06.94z\"/><path d=\"M17.41 7.96l-1.37-1.37c-.4-.4-.92-.59-1.43-.59-.52 0-1.04.2-1.43.59L10.3 9.45l-7.72 7.72c-.78.78-.78 2.05 0 2.83L4 21.41c.39.39.9.59 1.41.59.51 0 1.02-.2 1.41-.59l7.78-7.78 2.81-2.81c.8-.78.8-2.07 0-2.86zM5.41 20L4 18.59l7.72-7.72 1.47 1.35L5.41 20z\"/>\n",
              "  </svg>\n",
              "      </button>\n",
              "      \n",
              "  <style>\n",
              "    .colab-df-container {\n",
              "      display:flex;\n",
              "      flex-wrap:wrap;\n",
              "      gap: 12px;\n",
              "    }\n",
              "\n",
              "    .colab-df-convert {\n",
              "      background-color: #E8F0FE;\n",
              "      border: none;\n",
              "      border-radius: 50%;\n",
              "      cursor: pointer;\n",
              "      display: none;\n",
              "      fill: #1967D2;\n",
              "      height: 32px;\n",
              "      padding: 0 0 0 0;\n",
              "      width: 32px;\n",
              "    }\n",
              "\n",
              "    .colab-df-convert:hover {\n",
              "      background-color: #E2EBFA;\n",
              "      box-shadow: 0px 1px 2px rgba(60, 64, 67, 0.3), 0px 1px 3px 1px rgba(60, 64, 67, 0.15);\n",
              "      fill: #174EA6;\n",
              "    }\n",
              "\n",
              "    [theme=dark] .colab-df-convert {\n",
              "      background-color: #3B4455;\n",
              "      fill: #D2E3FC;\n",
              "    }\n",
              "\n",
              "    [theme=dark] .colab-df-convert:hover {\n",
              "      background-color: #434B5C;\n",
              "      box-shadow: 0px 1px 3px 1px rgba(0, 0, 0, 0.15);\n",
              "      filter: drop-shadow(0px 1px 2px rgba(0, 0, 0, 0.3));\n",
              "      fill: #FFFFFF;\n",
              "    }\n",
              "  </style>\n",
              "\n",
              "      <script>\n",
              "        const buttonEl =\n",
              "          document.querySelector('#df-1f39c8c0-dfa8-4b68-b8c7-dc4ed2f4ee2f button.colab-df-convert');\n",
              "        buttonEl.style.display =\n",
              "          google.colab.kernel.accessAllowed ? 'block' : 'none';\n",
              "\n",
              "        async function convertToInteractive(key) {\n",
              "          const element = document.querySelector('#df-1f39c8c0-dfa8-4b68-b8c7-dc4ed2f4ee2f');\n",
              "          const dataTable =\n",
              "            await google.colab.kernel.invokeFunction('convertToInteractive',\n",
              "                                                     [key], {});\n",
              "          if (!dataTable) return;\n",
              "\n",
              "          const docLinkHtml = 'Like what you see? Visit the ' +\n",
              "            '<a target=\"_blank\" href=https://colab.research.google.com/notebooks/data_table.ipynb>data table notebook</a>'\n",
              "            + ' to learn more about interactive tables.';\n",
              "          element.innerHTML = '';\n",
              "          dataTable['output_type'] = 'display_data';\n",
              "          await google.colab.output.renderOutput(dataTable, element);\n",
              "          const docLink = document.createElement('div');\n",
              "          docLink.innerHTML = docLinkHtml;\n",
              "          element.appendChild(docLink);\n",
              "        }\n",
              "      </script>\n",
              "    </div>\n",
              "  </div>\n",
              "  "
            ]
          },
          "metadata": {},
          "execution_count": 16
        }
      ]
    },
    {
      "cell_type": "code",
      "source": [
        "# A continuación se realiza la representación gráfica de la MEDIA y la MEDIANA para el SALARIO BRUTO\n",
        "fig = plt.figure(figsize=(20, 5))\n",
        "seaborn.lineplot(data=central_tendency_max_SB_df, x='max_salary_BRUTO', y='value', hue='metric')\n",
        "plt.ticklabel_format(style='plain', axis='x')\n",
        "plt.xlim(-50000,750000)\n",
        "plt.xticks( range(0,800000,50000) )\n",
        "seaborn.despine()"
      ],
      "metadata": {
        "colab": {
          "base_uri": "https://localhost:8080/",
          "height": 242
        },
        "id": "y1ee9pK29uS0",
        "outputId": "b0d811b0-b0ec-40fd-b326-40c1259db0e7"
      },
      "execution_count": null,
      "outputs": [
        {
          "output_type": "display_data",
          "data": {
            "text/plain": [
              "<Figure size 1440x360 with 1 Axes>"
            ],
            "image/png": "[encoded data removed]"
          },
          "metadata": {
            "needs_background": "light"
          }
        }
      ]
    },
    {
      "cell_type": "markdown",
      "source": [
        "Las líneas de código previas muestran las diferencias en los valores calculados de la media y la mediana para los sueldos, considerando diversos valores \"máximos\" para los cálculos. \n",
        "\n",
        "Da una idea de la distribución de los datos y a partir de qué valores máximos de salarios, la media y la mediana se comienzan a acercar, dando una distribución más simétrica de los datos.\n",
        "\n",
        "En ambos gŕaficos se observa que a partir de un sueldo de 150.000 pesos aproximadamente, los valores de la media y la mediana se alejan.\n",
        "********************************************************************************\n"
      ],
      "metadata": {
        "id": "UyoRDPdeSyQ9"
      }
    },
    {
      "cell_type": "markdown",
      "source": [
        "**Cálculo de percentiles** para las columnas de sueldo neto y bruto:"
      ],
      "metadata": {
        "id": "m3AzpIj-UEj1"
      }
    },
    {
      "cell_type": "code",
      "source": [
        "df['salary_monthly_NETO'].quantile([.03, .04, 0.045, 0.05, .10, .90, .95, .96, .97, .99, .995, .998])"
      ],
      "metadata": {
        "colab": {
          "base_uri": "https://localhost:8080/"
        },
        "id": "xeiB4JZTUD8l",
        "outputId": "79bd98a3-2a44-4ddb-bf29-b2520e217580"
      },
      "execution_count": null,
      "outputs": [
        {
          "output_type": "execute_result",
          "data": {
            "text/plain": [
              "0.030      1046.00\n",
              "0.040     16000.00\n",
              "0.045     20000.00\n",
              "0.050     22500.00\n",
              "0.100     35000.00\n",
              "0.900    150000.00\n",
              "0.950    210000.00\n",
              "0.960    250720.00\n",
              "0.970    300000.00\n",
              "0.990    491800.00\n",
              "0.995    650000.00\n",
              "0.998    955289.52\n",
              "Name: salary_monthly_NETO, dtype: float64"
            ]
          },
          "metadata": {},
          "execution_count": 18
        }
      ]
    },
    {
      "cell_type": "code",
      "source": [
        "df['salary_monthly_BRUTO'].quantile([0.6, 0.7, 0.73, 0.75, 0.8, 0.83, 0.85, 0.88, .90, .955, .98, .99, .995, .998])"
      ],
      "metadata": {
        "colab": {
          "base_uri": "https://localhost:8080/"
        },
        "id": "Ula1ih8rUamC",
        "outputId": "c1602cd4-9d88-427c-b7bb-4e8893201ccf"
      },
      "execution_count": null,
      "outputs": [
        {
          "output_type": "execute_result",
          "data": {
            "text/plain": [
              "0.600     112739.394\n",
              "0.700     133632.000\n",
              "0.730     140000.000\n",
              "0.750     145000.000\n",
              "0.800     160000.000\n",
              "0.830     175000.000\n",
              "0.850     180573.500\n",
              "0.880     200000.000\n",
              "0.900     220000.000\n",
              "0.955     320842.410\n",
              "0.980     480000.000\n",
              "0.990     630600.000\n",
              "0.995     796240.000\n",
              "0.998    1032671.000\n",
              "Name: salary_monthly_BRUTO, dtype: float64"
            ]
          },
          "metadata": {},
          "execution_count": 19
        }
      ]
    },
    {
      "cell_type": "markdown",
      "source": [
        "CONCLUSIÓN DEL USO DE TODAS LAS HERRAMIENTAS ESTADÍSTICAS:\n",
        "********************************************************************************\n",
        "\n",
        "Analizando ambos gráficos de tendencia central del SUELDO BRUTO y SUELDO NETO (junto con los percentiles) se observa que utilizando un percentil 90 en el SUELDO NETO (150.000 pesos como sueldo máximo) podríamos trabajar con datos con menor dispersión (en el gráfico, la mediana y media son muy similares).\n",
        "\n",
        "Sin embargo, para trabajar con datos menos dispersos en el SUELDO BRUTO deberíamos trabajar con un percentil menor a k=0.75 (alrededor de 140.000 pesos como valor máximo de sueldo), dejando afuera una cantidad importante de datos. \n",
        "\n",
        "**Es por ello que se concluye que el SUELDO NETO sería una mejor variable para continuar con el análisis y se continúa sólo con esta columna de datos de acá en adelante.**\n",
        "*******************************************************************************"
      ],
      "metadata": {
        "id": "zQhzkla9srsU"
      }
    },
    {
      "cell_type": "markdown",
      "source": [
        "#2. a) Definición de valor mínimo para el Sueldo Neto\n",
        "********************************************************************************\n",
        "\n",
        "Luego de analizar la información presentada previamente junto con los gráficos, se consideran estos criterios para la selección de filas relevantes:\n",
        "\n",
        "*   Considerar un “sueldo piso” para las columnas de sueldo neto segun el salario Minimo, Vital y Movil del año 2020 que fue ($20.587,50) a partir del 1/12/20. Entonces como valor mínimo se tomará un sueldo neto de 20.000 pesos.\n",
        "\n",
        "*   IMPORTANTE: Los sueldos menores a ese valor **NO** se tendrán en cuenta para el análisis. Estos valores pueden estar dolarizados, o simplemente pueden haber sido cargados erróneamente.\n",
        "\n"
      ],
      "metadata": {
        "id": "g7UkUmg0W7mP"
      }
    },
    {
      "cell_type": "code",
      "source": [
        "#Selección de valor mínimo para la columna de Salario NETO\n",
        "\n",
        "#El valor mínimo es el salario Mínimo Vital y Móvil de 2020 y coincide con el percentil 0.045 de la columna salario neto.\n",
        "df['salary_monthly_NETO'].quantile(.045)\n",
        "min_limit = df['salary_monthly_NETO'].quantile(.045)\n",
        "print(min_limit)"
      ],
      "metadata": {
        "colab": {
          "base_uri": "https://localhost:8080/"
        },
        "id": "z1lEHj9ulEZx",
        "outputId": "72e856da-fa15-4ed8-e7ea-a5be8eff23ff"
      },
      "execution_count": null,
      "outputs": [
        {
          "output_type": "stream",
          "name": "stdout",
          "text": [
            "20000.0\n"
          ]
        }
      ]
    },
    {
      "cell_type": "code",
      "source": [
        "# Se define el nuevo dataframe (df_modif) a analizar incluyendo sólo los valores superiores al límite inferior\n",
        "df_modif = df[(df['salary_monthly_NETO'] >= min_limit)]"
      ],
      "metadata": {
        "id": "jekIZlfNYTy3"
      },
      "execution_count": null,
      "outputs": []
    },
    {
      "cell_type": "code",
      "source": [
        "print(df.shape)\n",
        "print(df_modif.shape)"
      ],
      "metadata": {
        "colab": {
          "base_uri": "https://localhost:8080/"
        },
        "id": "mknyiU3-Yd94",
        "outputId": "7439b891-1314-455d-b07d-ea42fbd1ef17"
      },
      "execution_count": null,
      "outputs": [
        {
          "output_type": "stream",
          "name": "stdout",
          "text": [
            "(6095, 48)\n",
            "(5624, 48)\n"
          ]
        }
      ]
    },
    {
      "cell_type": "markdown",
      "source": [
        "Eliminando los **sueldos menores a 20.000 pesos**, la cantidad de datos a analizar disminuye de 6095 a 5624 respuestas.\n",
        "*******************************************************************************"
      ],
      "metadata": {
        "id": "xEiVGAuNYkDn"
      }
    },
    {
      "cell_type": "code",
      "source": [
        "#Medidas de tendencia central para la columna de SALARIO NETO con el DATAFRAME MODIFICADO\n",
        "max_salaries = [df_modif[salary_neto].max(), 10**6, 800000, 600000,400000, 300000, 200000, 150000, 130000, 100000, 90000, 80000]\n",
        "central_tendency = [\n",
        "    (max_salary, df_modif[df_modif[salary_neto] < max_salary][salary_neto].mean(),\n",
        "     df_modif[df_modif[salary_neto] < max_salary][salary_neto].median())\n",
        "    for max_salary in max_salaries\n",
        "]\n",
        "central_tendency"
      ],
      "metadata": {
        "colab": {
          "base_uri": "https://localhost:8080/"
        },
        "outputId": "ce6009bb-d195-4eea-9a5b-43171621b6e7",
        "id": "F-BK6nWOY2R9"
      },
      "execution_count": null,
      "outputs": [
        {
          "output_type": "execute_result",
          "data": {
            "text/plain": [
              "[(2080000.0, 98742.02572114531, 80000.0),\n",
              " (1000000, 96791.450317121, 80000.0),\n",
              " (800000, 95131.7962203178, 80000.0),\n",
              " (600000, 93917.19281266775, 80000.0),\n",
              " (400000, 89499.80152606807, 79947.5),\n",
              " (300000, 85785.98725519016, 78000.0),\n",
              " (200000, 80804.92968103284, 76000.0),\n",
              " (150000, 75758.7215387706, 74000.0),\n",
              " (130000, 72531.21244867727, 72000.0),\n",
              " (100000, 63535.79075496343, 64000.0),\n",
              " (90000, 59092.179065028475, 60000.0),\n",
              " (80000, 53978.1289500362, 54518.0)]"
            ]
          },
          "metadata": {},
          "execution_count": 23
        }
      ]
    },
    {
      "cell_type": "code",
      "source": [
        "#Para visualizar en forma gráfica la tabla anterior. Se calcula la tendencia central máxima del SALARIO NETO con el DATAFRAME MODIFICADO\n",
        "\n",
        "central_tendency_max = [\n",
        "    (max_salary, df_modif[df_modif[salary_neto] < max_salary][salary_neto].mean(),\n",
        "     df_modif[df_modif[salary_neto] < max_salary][salary_neto].median())\n",
        "    for max_salary in range(50000, int(df[salary_neto].max()), 10**4)\n",
        "]\n",
        "central_tendency_max_SN_df = pd.DataFrame(central_tendency_max,\n",
        "                                   columns=['max_salary_NETO', 'mean', 'median'])\\\n",
        "  .melt(id_vars='max_salary_NETO', var_name='metric')\n",
        "\n",
        "central_tendency_max_SN_df.head()"
      ],
      "metadata": {
        "colab": {
          "base_uri": "https://localhost:8080/",
          "height": 206
        },
        "outputId": "022d047a-16a2-4d60-f767-09afdaa4249d",
        "id": "PtzD-6BvY2SB"
      },
      "execution_count": null,
      "outputs": [
        {
          "output_type": "execute_result",
          "data": {
            "text/plain": [
              "   max_salary_NETO metric         value\n",
              "0            50000   mean  38368.426268\n",
              "1            60000   mean  43711.578849\n",
              "2            70000   mean  48817.184389\n",
              "3            80000   mean  53978.128950\n",
              "4            90000   mean  59092.179065"
            ],
            "text/html": [
              "\n",
              "  <div id=\"df-c3dfea68-1e53-432e-972a-21b7db2ed4c2\">\n",
              "    <div class=\"colab-df-container\">\n",
              "      <div>\n",
              "<style scoped>\n",
              "    .dataframe tbody tr th:only-of-type {\n",
              "        vertical-align: middle;\n",
              "    }\n",
              "\n",
              "    .dataframe tbody tr th {\n",
              "        vertical-align: top;\n",
              "    }\n",
              "\n",
              "    .dataframe thead th {\n",
              "        text-align: right;\n",
              "    }\n",
              "</style>\n",
              "<table border=\"1\" class=\"dataframe\">\n",
              "  <thead>\n",
              "    <tr style=\"text-align: right;\">\n",
              "      <th></th>\n",
              "      <th>max_salary_NETO</th>\n",
              "      <th>metric</th>\n",
              "      <th>value</th>\n",
              "    </tr>\n",
              "  </thead>\n",
              "  <tbody>\n",
              "    <tr>\n",
              "      <th>0</th>\n",
              "      <td>50000</td>\n",
              "      <td>mean</td>\n",
              "      <td>38368.426268</td>\n",
              "    </tr>\n",
              "    <tr>\n",
              "      <th>1</th>\n",
              "      <td>60000</td>\n",
              "      <td>mean</td>\n",
              "      <td>43711.578849</td>\n",
              "    </tr>\n",
              "    <tr>\n",
              "      <th>2</th>\n",
              "      <td>70000</td>\n",
              "      <td>mean</td>\n",
              "      <td>48817.184389</td>\n",
              "    </tr>\n",
              "    <tr>\n",
              "      <th>3</th>\n",
              "      <td>80000</td>\n",
              "      <td>mean</td>\n",
              "      <td>53978.128950</td>\n",
              "    </tr>\n",
              "    <tr>\n",
              "      <th>4</th>\n",
              "      <td>90000</td>\n",
              "      <td>mean</td>\n",
              "      <td>59092.179065</td>\n",
              "    </tr>\n",
              "  </tbody>\n",
              "</table>\n",
              "</div>\n",
              "      <button class=\"colab-df-convert\" onclick=\"convertToInteractive('df-c3dfea68-1e53-432e-972a-21b7db2ed4c2')\"\n",
              "              title=\"Convert this dataframe to an interactive table.\"\n",
              "              style=\"display:none;\">\n",
              "        \n",
              "  <svg xmlns=\"http://www.w3.org/2000/svg\" height=\"24px\"viewBox=\"0 0 24 24\"\n",
              "       width=\"24px\">\n",
              "    <path d=\"M0 0h24v24H0V0z\" fill=\"none\"/>\n",
              "    <path d=\"M18.56 5.44l.94 2.06.94-2.06 2.06-.94-2.06-.94-.94-2.06-.94 2.06-2.06.94zm-11 1L8.5 8.5l.94-2.06 2.06-.94-2.06-.94L8.5 2.5l-.94 2.06-2.06.94zm10 10l.94 2.06.94-2.06 2.06-.94-2.06-.94-.94-2.06-.94 2.06-2.06.94z\"/><path d=\"M17.41 7.96l-1.37-1.37c-.4-.4-.92-.59-1.43-.59-.52 0-1.04.2-1.43.59L10.3 9.45l-7.72 7.72c-.78.78-.78 2.05 0 2.83L4 21.41c.39.39.9.59 1.41.59.51 0 1.02-.2 1.41-.59l7.78-7.78 2.81-2.81c.8-.78.8-2.07 0-2.86zM5.41 20L4 18.59l7.72-7.72 1.47 1.35L5.41 20z\"/>\n",
              "  </svg>\n",
              "      </button>\n",
              "      \n",
              "  <style>\n",
              "    .colab-df-container {\n",
              "      display:flex;\n",
              "      flex-wrap:wrap;\n",
              "      gap: 12px;\n",
              "    }\n",
              "\n",
              "    .colab-df-convert {\n",
              "      background-color: #E8F0FE;\n",
              "      border: none;\n",
              "      border-radius: 50%;\n",
              "      cursor: pointer;\n",
              "      display: none;\n",
              "      fill: #1967D2;\n",
              "      height: 32px;\n",
              "      padding: 0 0 0 0;\n",
              "      width: 32px;\n",
              "    }\n",
              "\n",
              "    .colab-df-convert:hover {\n",
              "      background-color: #E2EBFA;\n",
              "      box-shadow: 0px 1px 2px rgba(60, 64, 67, 0.3), 0px 1px 3px 1px rgba(60, 64, 67, 0.15);\n",
              "      fill: #174EA6;\n",
              "    }\n",
              "\n",
              "    [theme=dark] .colab-df-convert {\n",
              "      background-color: #3B4455;\n",
              "      fill: #D2E3FC;\n",
              "    }\n",
              "\n",
              "    [theme=dark] .colab-df-convert:hover {\n",
              "      background-color: #434B5C;\n",
              "      box-shadow: 0px 1px 3px 1px rgba(0, 0, 0, 0.15);\n",
              "      filter: drop-shadow(0px 1px 2px rgba(0, 0, 0, 0.3));\n",
              "      fill: #FFFFFF;\n",
              "    }\n",
              "  </style>\n",
              "\n",
              "      <script>\n",
              "        const buttonEl =\n",
              "          document.querySelector('#df-c3dfea68-1e53-432e-972a-21b7db2ed4c2 button.colab-df-convert');\n",
              "        buttonEl.style.display =\n",
              "          google.colab.kernel.accessAllowed ? 'block' : 'none';\n",
              "\n",
              "        async function convertToInteractive(key) {\n",
              "          const element = document.querySelector('#df-c3dfea68-1e53-432e-972a-21b7db2ed4c2');\n",
              "          const dataTable =\n",
              "            await google.colab.kernel.invokeFunction('convertToInteractive',\n",
              "                                                     [key], {});\n",
              "          if (!dataTable) return;\n",
              "\n",
              "          const docLinkHtml = 'Like what you see? Visit the ' +\n",
              "            '<a target=\"_blank\" href=https://colab.research.google.com/notebooks/data_table.ipynb>data table notebook</a>'\n",
              "            + ' to learn more about interactive tables.';\n",
              "          element.innerHTML = '';\n",
              "          dataTable['output_type'] = 'display_data';\n",
              "          await google.colab.output.renderOutput(dataTable, element);\n",
              "          const docLink = document.createElement('div');\n",
              "          docLink.innerHTML = docLinkHtml;\n",
              "          element.appendChild(docLink);\n",
              "        }\n",
              "      </script>\n",
              "    </div>\n",
              "  </div>\n",
              "  "
            ]
          },
          "metadata": {},
          "execution_count": 24
        }
      ]
    },
    {
      "cell_type": "code",
      "source": [
        "#A continuación se realiza la representación gráfica de la MEDIA y la MEDIANA para el SALARIO NETO con el DATAFRAME MODIFICADO\n",
        "fig = plt.figure(figsize=(20, 5))\n",
        "seaborn.lineplot(data=central_tendency_max_SN_df, x='max_salary_NETO', y='value', hue='metric')\n",
        "plt.ticklabel_format(style='plain', axis='x')\n",
        "plt.xlim(-50000,350000)\n",
        "plt.xticks( range(0,800000,50000) )\n",
        "seaborn.despine()"
      ],
      "metadata": {
        "colab": {
          "base_uri": "https://localhost:8080/",
          "height": 242
        },
        "outputId": "3cf27e33-930f-4664-ad4a-8e19d1756838",
        "id": "agg_Q0amY2SD"
      },
      "execution_count": null,
      "outputs": [
        {
          "output_type": "display_data",
          "data": {
            "text/plain": [
              "<Figure size 1440x360 with 1 Axes>"
            ],
            "image/png": "[encoded data removed]"
          },
          "metadata": {
            "needs_background": "light"
          }
        }
      ]
    },
    {
      "cell_type": "code",
      "source": [
        "#CÁLCULO DE PERCENTILES PARA LA COLUMNA DE SALARIO NETO EN EL DATAFRAME MODIFICADO\n",
        "df_modif['salary_monthly_NETO'].quantile([.03, .04, 0.045, 0.05, .10, 0.85, .90, .95, .96, .97, .99, .995, .998])"
      ],
      "metadata": {
        "colab": {
          "base_uri": "https://localhost:8080/"
        },
        "id": "kMdGGAVJZM0w",
        "outputId": "65c2cf04-5a59-4f81-e2a7-1093d9dd2854"
      },
      "execution_count": null,
      "outputs": [
        {
          "output_type": "execute_result",
          "data": {
            "text/plain": [
              "0.030     31000.00\n",
              "0.040     32900.00\n",
              "0.045     33400.00\n",
              "0.050     34500.00\n",
              "0.100     40000.00\n",
              "0.850    130000.00\n",
              "0.900    155940.00\n",
              "0.950    220000.00\n",
              "0.960    260000.00\n",
              "0.970    300000.00\n",
              "0.990    500000.00\n",
              "0.995    650000.00\n",
              "0.998    961412.28\n",
              "Name: salary_monthly_NETO, dtype: float64"
            ]
          },
          "metadata": {},
          "execution_count": 26
        }
      ]
    },
    {
      "cell_type": "markdown",
      "source": [
        "# 2. b) Definición de valor máximo para el Sueldo Neto\n",
        "*******************************************************************************\n",
        "\n",
        "*   Se analizaron los percentiles junto con las medidas de tendencia central en el df_modif y el objetivo fue definir algún percentil \"k\" para tomar como valor máximo. En este caso, una vez definido el valor máximo, **SI** nos interesa estudiar la subpoblación de programadores que cobran por encima de ese límite superior.\n",
        "\n",
        "*   Se considera el percentil k=0.85 (130.000 pesos) como límite máximo ya que definiendo ese valor límite se tiene una distribución simétrica de los datos, siendo el valor de la media 72.531 pesos y la mediana 72.000 pesos (según las medidas de tendencia central mostradas previamente).\n",
        "\n",
        "En el análisis anexo del final, se estudiará cómo es la relación de los sueldos/lenguajes de programación de la subpoblación de programadores que ganan más de 130.000 pesos. \n",
        "*******************************************************************************\n",
        "\n"
      ],
      "metadata": {
        "id": "7Ln0_y7cqurx"
      }
    },
    {
      "cell_type": "code",
      "source": [
        "#Selección de valor máximo para la columna de Salario NETO\n",
        "#Se elige como valor máximo el percentil 0.90 de esa columna\n",
        "df_modif['salary_monthly_NETO'].quantile(.85)\n",
        "max_limit = df_modif['salary_monthly_NETO'].quantile(.85)\n",
        "print(max_limit)\n"
      ],
      "metadata": {
        "id": "IfahJx2lW4sf",
        "colab": {
          "base_uri": "https://localhost:8080/"
        },
        "outputId": "97f8a54f-bc4c-408a-d0ea-1fb81daf8ffb"
      },
      "execution_count": null,
      "outputs": [
        {
          "output_type": "stream",
          "name": "stdout",
          "text": [
            "130000.0\n"
          ]
        }
      ]
    },
    {
      "cell_type": "code",
      "source": [
        "# Se define el nuevo dataframe (df_modif) a analizar incluyendo solo los valores entre el límite inferior y el límite superior de salario Neto\n",
        "df_modif = df[(df['salary_monthly_NETO'] >= min_limit) & (df['salary_monthly_NETO'] <= max_limit)]"
      ],
      "metadata": {
        "id": "LI5hq--Cun0k"
      },
      "execution_count": null,
      "outputs": []
    },
    {
      "cell_type": "code",
      "source": [
        "print(df.shape)\n",
        "print(df_modif.shape)"
      ],
      "metadata": {
        "colab": {
          "base_uri": "https://localhost:8080/"
        },
        "id": "HLZtXekzU7z0",
        "outputId": "9f6e20fa-f93f-4ca8-9be4-e4ecbc683925"
      },
      "execution_count": null,
      "outputs": [
        {
          "output_type": "stream",
          "name": "stdout",
          "text": [
            "(6095, 48)\n",
            "(4801, 48)\n"
          ]
        }
      ]
    },
    {
      "cell_type": "markdown",
      "source": [
        "Eliminando los sueldos mayores a 130.000 pesos (para analizarlos posteriormente) y los sueldos menores a 20.000 pesos, la cantidad de datos a analizar disminuye de 6095 a 4801 respuestas.\n",
        "********************************************************************************"
      ],
      "metadata": {
        "id": "c7cyzKcDzZxr"
      }
    },
    {
      "cell_type": "code",
      "source": [
        "#Cálculo nuevamente de las medidas estadísticas para el df modif\n",
        "df_modif[['salary_monthly_NETO']].describe().round()"
      ],
      "metadata": {
        "colab": {
          "base_uri": "https://localhost:8080/",
          "height": 300
        },
        "id": "GA3Kejh9kap9",
        "outputId": "c521e08c-7fdf-452b-9a23-a11e6c1d9ae8"
      },
      "execution_count": null,
      "outputs": [
        {
          "output_type": "execute_result",
          "data": {
            "text/plain": [
              "       salary_monthly_NETO\n",
              "count               4801.0\n",
              "mean               73441.0\n",
              "std                27003.0\n",
              "min                20000.0\n",
              "25%                51000.0\n",
              "50%                72500.0\n",
              "75%                94000.0\n",
              "max               130000.0"
            ],
            "text/html": [
              "\n",
              "  <div id=\"df-d169a7db-30ed-444a-9335-c1651efc9fc1\">\n",
              "    <div class=\"colab-df-container\">\n",
              "      <div>\n",
              "<style scoped>\n",
              "    .dataframe tbody tr th:only-of-type {\n",
              "        vertical-align: middle;\n",
              "    }\n",
              "\n",
              "    .dataframe tbody tr th {\n",
              "        vertical-align: top;\n",
              "    }\n",
              "\n",
              "    .dataframe thead th {\n",
              "        text-align: right;\n",
              "    }\n",
              "</style>\n",
              "<table border=\"1\" class=\"dataframe\">\n",
              "  <thead>\n",
              "    <tr style=\"text-align: right;\">\n",
              "      <th></th>\n",
              "      <th>salary_monthly_NETO</th>\n",
              "    </tr>\n",
              "  </thead>\n",
              "  <tbody>\n",
              "    <tr>\n",
              "      <th>count</th>\n",
              "      <td>4801.0</td>\n",
              "    </tr>\n",
              "    <tr>\n",
              "      <th>mean</th>\n",
              "      <td>73441.0</td>\n",
              "    </tr>\n",
              "    <tr>\n",
              "      <th>std</th>\n",
              "      <td>27003.0</td>\n",
              "    </tr>\n",
              "    <tr>\n",
              "      <th>min</th>\n",
              "      <td>20000.0</td>\n",
              "    </tr>\n",
              "    <tr>\n",
              "      <th>25%</th>\n",
              "      <td>51000.0</td>\n",
              "    </tr>\n",
              "    <tr>\n",
              "      <th>50%</th>\n",
              "      <td>72500.0</td>\n",
              "    </tr>\n",
              "    <tr>\n",
              "      <th>75%</th>\n",
              "      <td>94000.0</td>\n",
              "    </tr>\n",
              "    <tr>\n",
              "      <th>max</th>\n",
              "      <td>130000.0</td>\n",
              "    </tr>\n",
              "  </tbody>\n",
              "</table>\n",
              "</div>\n",
              "      <button class=\"colab-df-convert\" onclick=\"convertToInteractive('df-d169a7db-30ed-444a-9335-c1651efc9fc1')\"\n",
              "              title=\"Convert this dataframe to an interactive table.\"\n",
              "              style=\"display:none;\">\n",
              "        \n",
              "  <svg xmlns=\"http://www.w3.org/2000/svg\" height=\"24px\"viewBox=\"0 0 24 24\"\n",
              "       width=\"24px\">\n",
              "    <path d=\"M0 0h24v24H0V0z\" fill=\"none\"/>\n",
              "    <path d=\"M18.56 5.44l.94 2.06.94-2.06 2.06-.94-2.06-.94-.94-2.06-.94 2.06-2.06.94zm-11 1L8.5 8.5l.94-2.06 2.06-.94-2.06-.94L8.5 2.5l-.94 2.06-2.06.94zm10 10l.94 2.06.94-2.06 2.06-.94-2.06-.94-.94-2.06-.94 2.06-2.06.94z\"/><path d=\"M17.41 7.96l-1.37-1.37c-.4-.4-.92-.59-1.43-.59-.52 0-1.04.2-1.43.59L10.3 9.45l-7.72 7.72c-.78.78-.78 2.05 0 2.83L4 21.41c.39.39.9.59 1.41.59.51 0 1.02-.2 1.41-.59l7.78-7.78 2.81-2.81c.8-.78.8-2.07 0-2.86zM5.41 20L4 18.59l7.72-7.72 1.47 1.35L5.41 20z\"/>\n",
              "  </svg>\n",
              "      </button>\n",
              "      \n",
              "  <style>\n",
              "    .colab-df-container {\n",
              "      display:flex;\n",
              "      flex-wrap:wrap;\n",
              "      gap: 12px;\n",
              "    }\n",
              "\n",
              "    .colab-df-convert {\n",
              "      background-color: #E8F0FE;\n",
              "      border: none;\n",
              "      border-radius: 50%;\n",
              "      cursor: pointer;\n",
              "      display: none;\n",
              "      fill: #1967D2;\n",
              "      height: 32px;\n",
              "      padding: 0 0 0 0;\n",
              "      width: 32px;\n",
              "    }\n",
              "\n",
              "    .colab-df-convert:hover {\n",
              "      background-color: #E2EBFA;\n",
              "      box-shadow: 0px 1px 2px rgba(60, 64, 67, 0.3), 0px 1px 3px 1px rgba(60, 64, 67, 0.15);\n",
              "      fill: #174EA6;\n",
              "    }\n",
              "\n",
              "    [theme=dark] .colab-df-convert {\n",
              "      background-color: #3B4455;\n",
              "      fill: #D2E3FC;\n",
              "    }\n",
              "\n",
              "    [theme=dark] .colab-df-convert:hover {\n",
              "      background-color: #434B5C;\n",
              "      box-shadow: 0px 1px 3px 1px rgba(0, 0, 0, 0.15);\n",
              "      filter: drop-shadow(0px 1px 2px rgba(0, 0, 0, 0.3));\n",
              "      fill: #FFFFFF;\n",
              "    }\n",
              "  </style>\n",
              "\n",
              "      <script>\n",
              "        const buttonEl =\n",
              "          document.querySelector('#df-d169a7db-30ed-444a-9335-c1651efc9fc1 button.colab-df-convert');\n",
              "        buttonEl.style.display =\n",
              "          google.colab.kernel.accessAllowed ? 'block' : 'none';\n",
              "\n",
              "        async function convertToInteractive(key) {\n",
              "          const element = document.querySelector('#df-d169a7db-30ed-444a-9335-c1651efc9fc1');\n",
              "          const dataTable =\n",
              "            await google.colab.kernel.invokeFunction('convertToInteractive',\n",
              "                                                     [key], {});\n",
              "          if (!dataTable) return;\n",
              "\n",
              "          const docLinkHtml = 'Like what you see? Visit the ' +\n",
              "            '<a target=\"_blank\" href=https://colab.research.google.com/notebooks/data_table.ipynb>data table notebook</a>'\n",
              "            + ' to learn more about interactive tables.';\n",
              "          element.innerHTML = '';\n",
              "          dataTable['output_type'] = 'display_data';\n",
              "          await google.colab.output.renderOutput(dataTable, element);\n",
              "          const docLink = document.createElement('div');\n",
              "          docLink.innerHTML = docLinkHtml;\n",
              "          element.appendChild(docLink);\n",
              "        }\n",
              "      </script>\n",
              "    </div>\n",
              "  </div>\n",
              "  "
            ]
          },
          "metadata": {},
          "execution_count": 30
        }
      ]
    },
    {
      "cell_type": "code",
      "source": [
        "df_modif[\"salary_monthly_NETO\"].median()\n",
        "print(df_modif[\"salary_monthly_NETO\"].median())"
      ],
      "metadata": {
        "colab": {
          "base_uri": "https://localhost:8080/"
        },
        "id": "GtjxPoe7YAqv",
        "outputId": "bd6c01e8-41a1-448e-b633-1fa16ab2eb53"
      },
      "execution_count": null,
      "outputs": [
        {
          "output_type": "stream",
          "name": "stdout",
          "text": [
            "72500.0\n"
          ]
        }
      ]
    },
    {
      "cell_type": "markdown",
      "source": [
        "Se observa que en el dataframe modificado (df_modif) con los valores límites para el sueldo neto, la media y la mediana asumen valores similares (73.441 pesos versus 72.500 pesos) dando una idea de una distribución más simétrica que la original."
      ],
      "metadata": {
        "id": "YLsi5us6vHJ6"
      }
    },
    {
      "cell_type": "code",
      "source": [
        "#VISUALIZACIÓN DE DATOS: Histograma de columna \"salary_neto\" en df modif\n",
        "seaborn.displot(df_modif[\"salary_monthly_NETO\"], aspect=3, bins = 60, color='palegreen') \n",
        "plt.ticklabel_format(style='plain', axis='x')"
      ],
      "metadata": {
        "colab": {
          "base_uri": "https://localhost:8080/",
          "height": 292
        },
        "id": "7ihPnCTH0GUS",
        "outputId": "f6c71af8-14c9-4b52-f299-578036063f4e"
      },
      "execution_count": null,
      "outputs": [
        {
          "output_type": "display_data",
          "data": {
            "text/plain": [
              "<Figure size 1080x360 with 1 Axes>"
            ],
            "image/png": "[encoded data removed]"
          },
          "metadata": {
            "needs_background": "light"
          }
        }
      ]
    },
    {
      "cell_type": "code",
      "source": [
        "#Gráfico de caja para sueldo neto en df modif\n",
        "plt.figure(figsize=(15, 5))\n",
        "seaborn.boxplot(x=df_modif[\"salary_monthly_NETO\"], color='palegreen')\n",
        "plt.ticklabel_format(style='plain', axis='x')\n",
        "seaborn.despine()"
      ],
      "metadata": {
        "colab": {
          "base_uri": "https://localhost:8080/",
          "height": 346
        },
        "id": "LLwjznF013XV",
        "outputId": "c9116bde-d225-4d6a-db8d-1dd32de33b36"
      },
      "execution_count": null,
      "outputs": [
        {
          "output_type": "display_data",
          "data": {
            "text/plain": [
              "<Figure size 1080x360 with 1 Axes>"
            ],
            "image/png": "[encoded data removed]"
          },
          "metadata": {
            "needs_background": "light"
          }
        }
      ]
    },
    {
      "cell_type": "code",
      "source": [
        "#Otra visualización de más percentiles\n",
        "plt.figure(figsize=(15, 5))\n",
        "max_limit = df_modif[salary_neto].quantile(.99)\n",
        "seaborn.boxenplot(x=df_modif[df_modif[salary_neto] < max_limit][salary_neto])"
      ],
      "metadata": {
        "colab": {
          "base_uri": "https://localhost:8080/",
          "height": 364
        },
        "id": "j2GNM_Q9423c",
        "outputId": "5db53a0b-28f9-4947-f20e-9ecb3821fda7"
      },
      "execution_count": null,
      "outputs": [
        {
          "output_type": "execute_result",
          "data": {
            "text/plain": [
              "<matplotlib.axes._subplots.AxesSubplot at 0x7f830ff0ea50>"
            ]
          },
          "metadata": {},
          "execution_count": 34
        },
        {
          "output_type": "display_data",
          "data": {
            "text/plain": [
              "<Figure size 1080x360 with 1 Axes>"
            ],
            "image/png": "[encoded data removed]"
          },
          "metadata": {
            "needs_background": "light"
          }
        }
      ]
    },
    {
      "cell_type": "markdown",
      "source": [
        "# 2. c) Lenguajes de programación más populares\n",
        "*************************************************"
      ],
      "metadata": {
        "id": "CoUs65M85xdW"
      }
    },
    {
      "cell_type": "markdown",
      "source": [
        "La otra columna de interés es **tools_programming_languages**. Sus valores son strings con los lenguajes seleccionados separados por comas. \n",
        "\n",
        "A continuación, se separan estos lenguajes de programación (creando un nuevo dataframe, denominado \"df_lang\") ya que luego será de interés contar la frecuencia con la que aparecen para poder confeccionar una lista de lenguajes \"populares\"."
      ],
      "metadata": {
        "id": "ymdEZIfMU6I0"
      }
    },
    {
      "cell_type": "code",
      "source": [
        "relevant_columns = ['tools_programming_languages', 'salary_monthly_NETO']"
      ],
      "metadata": {
        "id": "7O219MhaXVhs"
      },
      "execution_count": null,
      "outputs": []
    },
    {
      "cell_type": "code",
      "source": [
        "# Convert the comma-separated string of languages to a list of string.\n",
        "# Remove 'ninguno de los anteriores' option, spaces and training commas.\n",
        "def split_languages(languages_str):\n",
        "  if not isinstance(languages_str, str):\n",
        "    return []\n",
        "  # Remove 'other' option\n",
        "  languages_str = languages_str.lower()\\\n",
        "    .replace('ninguno de los anteriores', '')\n",
        "  # Split string into list of items\n",
        "  # Remove spaces and commas for each item\n",
        "  return [lang.strip().replace(',', '')\n",
        "          for lang in languages_str.split()]\n",
        "\n",
        "# Create a new column with the list of languages\n",
        "df_modif.loc[:, 'cured_programming_languages'] = df_modif.tools_programming_languages\\\n",
        "    .apply(split_languages)\n",
        "if 'cured_programming_languages' not in relevant_columns:\n",
        "    relevant_columns.append('cured_programming_languages') \n",
        "\n",
        "# Duplicate each row of df for each programming language\n",
        "# mentioned in the response.\n",
        "# We only include in df_lang the columns we are going to analyze later, so we\n",
        "# don't duplicate innecesary information.\n",
        "df_lang = df_modif.cured_programming_languages\\\n",
        "    .apply(pd.Series).stack()\\\n",
        "    .reset_index(level=-1, drop=True).to_frame()\\\n",
        "    .join(df_modif[relevant_columns])\\\n",
        "    .rename(columns={0: 'programming_language'})\n",
        "# Horrible programming style! But a lot of data science code can be written with\n",
        "# as concatenations of functions (pipelines), and there's no elegant way of\n",
        "# doing that on Python."
      ],
      "metadata": {
        "colab": {
          "base_uri": "https://localhost:8080/"
        },
        "id": "wltxTPlGzxSo",
        "outputId": "5c45a0a3-5cbd-41fc-a3ed-d2daaddce6c4"
      },
      "execution_count": null,
      "outputs": [
        {
          "output_type": "stream",
          "name": "stderr",
          "text": [
            "/usr/local/lib/python3.7/dist-packages/pandas/core/indexing.py:1667: SettingWithCopyWarning: \n",
            "A value is trying to be set on a copy of a slice from a DataFrame.\n",
            "Try using .loc[row_indexer,col_indexer] = value instead\n",
            "\n",
            "See the caveats in the documentation: https://pandas.pydata.org/pandas-docs/stable/user_guide/indexing.html#returning-a-view-versus-a-copy\n",
            "  self.obj[key] = value\n"
          ]
        }
      ]
    },
    {
      "cell_type": "code",
      "source": [
        "#Con esta línea de código sólo queremos visualizar las 2 columnas que seleccionamos de interés.\n",
        "df_lang[[\"salary_monthly_NETO\", \"programming_language\"]]"
      ],
      "metadata": {
        "colab": {
          "base_uri": "https://localhost:8080/",
          "height": 424
        },
        "id": "f2KmVmhn2Tuh",
        "outputId": "dda24ded-45c3-4523-a043-b3cbf389c61a"
      },
      "execution_count": null,
      "outputs": [
        {
          "output_type": "execute_result",
          "data": {
            "text/plain": [
              "      salary_monthly_NETO programming_language\n",
              "0                 43000.0              ninguno\n",
              "1                 63000.0                 html\n",
              "1                 63000.0           javascript\n",
              "1                 63000.0               python\n",
              "2                127000.0              ninguno\n",
              "...                   ...                  ...\n",
              "6090              97000.0                 html\n",
              "6090              97000.0           javascript\n",
              "6090              97000.0                  php\n",
              "6090              97000.0                  sql\n",
              "6090              97000.0                  vba\n",
              "\n",
              "[13765 rows x 2 columns]"
            ],
            "text/html": [
              "\n",
              "  <div id=\"df-a73049a2-cb50-4104-8d0f-c2dbd2f87e82\">\n",
              "    <div class=\"colab-df-container\">\n",
              "      <div>\n",
              "<style scoped>\n",
              "    .dataframe tbody tr th:only-of-type {\n",
              "        vertical-align: middle;\n",
              "    }\n",
              "\n",
              "    .dataframe tbody tr th {\n",
              "        vertical-align: top;\n",
              "    }\n",
              "\n",
              "    .dataframe thead th {\n",
              "        text-align: right;\n",
              "    }\n",
              "</style>\n",
              "<table border=\"1\" class=\"dataframe\">\n",
              "  <thead>\n",
              "    <tr style=\"text-align: right;\">\n",
              "      <th></th>\n",
              "      <th>salary_monthly_NETO</th>\n",
              "      <th>programming_language</th>\n",
              "    </tr>\n",
              "  </thead>\n",
              "  <tbody>\n",
              "    <tr>\n",
              "      <th>0</th>\n",
              "      <td>43000.0</td>\n",
              "      <td>ninguno</td>\n",
              "    </tr>\n",
              "    <tr>\n",
              "      <th>1</th>\n",
              "      <td>63000.0</td>\n",
              "      <td>html</td>\n",
              "    </tr>\n",
              "    <tr>\n",
              "      <th>1</th>\n",
              "      <td>63000.0</td>\n",
              "      <td>javascript</td>\n",
              "    </tr>\n",
              "    <tr>\n",
              "      <th>1</th>\n",
              "      <td>63000.0</td>\n",
              "      <td>python</td>\n",
              "    </tr>\n",
              "    <tr>\n",
              "      <th>2</th>\n",
              "      <td>127000.0</td>\n",
              "      <td>ninguno</td>\n",
              "    </tr>\n",
              "    <tr>\n",
              "      <th>...</th>\n",
              "      <td>...</td>\n",
              "      <td>...</td>\n",
              "    </tr>\n",
              "    <tr>\n",
              "      <th>6090</th>\n",
              "      <td>97000.0</td>\n",
              "      <td>html</td>\n",
              "    </tr>\n",
              "    <tr>\n",
              "      <th>6090</th>\n",
              "      <td>97000.0</td>\n",
              "      <td>javascript</td>\n",
              "    </tr>\n",
              "    <tr>\n",
              "      <th>6090</th>\n",
              "      <td>97000.0</td>\n",
              "      <td>php</td>\n",
              "    </tr>\n",
              "    <tr>\n",
              "      <th>6090</th>\n",
              "      <td>97000.0</td>\n",
              "      <td>sql</td>\n",
              "    </tr>\n",
              "    <tr>\n",
              "      <th>6090</th>\n",
              "      <td>97000.0</td>\n",
              "      <td>vba</td>\n",
              "    </tr>\n",
              "  </tbody>\n",
              "</table>\n",
              "<p>13765 rows × 2 columns</p>\n",
              "</div>\n",
              "      <button class=\"colab-df-convert\" onclick=\"convertToInteractive('df-a73049a2-cb50-4104-8d0f-c2dbd2f87e82')\"\n",
              "              title=\"Convert this dataframe to an interactive table.\"\n",
              "              style=\"display:none;\">\n",
              "        \n",
              "  <svg xmlns=\"http://www.w3.org/2000/svg\" height=\"24px\"viewBox=\"0 0 24 24\"\n",
              "       width=\"24px\">\n",
              "    <path d=\"M0 0h24v24H0V0z\" fill=\"none\"/>\n",
              "    <path d=\"M18.56 5.44l.94 2.06.94-2.06 2.06-.94-2.06-.94-.94-2.06-.94 2.06-2.06.94zm-11 1L8.5 8.5l.94-2.06 2.06-.94-2.06-.94L8.5 2.5l-.94 2.06-2.06.94zm10 10l.94 2.06.94-2.06 2.06-.94-2.06-.94-.94-2.06-.94 2.06-2.06.94z\"/><path d=\"M17.41 7.96l-1.37-1.37c-.4-.4-.92-.59-1.43-.59-.52 0-1.04.2-1.43.59L10.3 9.45l-7.72 7.72c-.78.78-.78 2.05 0 2.83L4 21.41c.39.39.9.59 1.41.59.51 0 1.02-.2 1.41-.59l7.78-7.78 2.81-2.81c.8-.78.8-2.07 0-2.86zM5.41 20L4 18.59l7.72-7.72 1.47 1.35L5.41 20z\"/>\n",
              "  </svg>\n",
              "      </button>\n",
              "      \n",
              "  <style>\n",
              "    .colab-df-container {\n",
              "      display:flex;\n",
              "      flex-wrap:wrap;\n",
              "      gap: 12px;\n",
              "    }\n",
              "\n",
              "    .colab-df-convert {\n",
              "      background-color: #E8F0FE;\n",
              "      border: none;\n",
              "      border-radius: 50%;\n",
              "      cursor: pointer;\n",
              "      display: none;\n",
              "      fill: #1967D2;\n",
              "      height: 32px;\n",
              "      padding: 0 0 0 0;\n",
              "      width: 32px;\n",
              "    }\n",
              "\n",
              "    .colab-df-convert:hover {\n",
              "      background-color: #E2EBFA;\n",
              "      box-shadow: 0px 1px 2px rgba(60, 64, 67, 0.3), 0px 1px 3px 1px rgba(60, 64, 67, 0.15);\n",
              "      fill: #174EA6;\n",
              "    }\n",
              "\n",
              "    [theme=dark] .colab-df-convert {\n",
              "      background-color: #3B4455;\n",
              "      fill: #D2E3FC;\n",
              "    }\n",
              "\n",
              "    [theme=dark] .colab-df-convert:hover {\n",
              "      background-color: #434B5C;\n",
              "      box-shadow: 0px 1px 3px 1px rgba(0, 0, 0, 0.15);\n",
              "      filter: drop-shadow(0px 1px 2px rgba(0, 0, 0, 0.3));\n",
              "      fill: #FFFFFF;\n",
              "    }\n",
              "  </style>\n",
              "\n",
              "      <script>\n",
              "        const buttonEl =\n",
              "          document.querySelector('#df-a73049a2-cb50-4104-8d0f-c2dbd2f87e82 button.colab-df-convert');\n",
              "        buttonEl.style.display =\n",
              "          google.colab.kernel.accessAllowed ? 'block' : 'none';\n",
              "\n",
              "        async function convertToInteractive(key) {\n",
              "          const element = document.querySelector('#df-a73049a2-cb50-4104-8d0f-c2dbd2f87e82');\n",
              "          const dataTable =\n",
              "            await google.colab.kernel.invokeFunction('convertToInteractive',\n",
              "                                                     [key], {});\n",
              "          if (!dataTable) return;\n",
              "\n",
              "          const docLinkHtml = 'Like what you see? Visit the ' +\n",
              "            '<a target=\"_blank\" href=https://colab.research.google.com/notebooks/data_table.ipynb>data table notebook</a>'\n",
              "            + ' to learn more about interactive tables.';\n",
              "          element.innerHTML = '';\n",
              "          dataTable['output_type'] = 'display_data';\n",
              "          await google.colab.output.renderOutput(dataTable, element);\n",
              "          const docLink = document.createElement('div');\n",
              "          docLink.innerHTML = docLinkHtml;\n",
              "          element.appendChild(docLink);\n",
              "        }\n",
              "      </script>\n",
              "    </div>\n",
              "  </div>\n",
              "  "
            ]
          },
          "metadata": {},
          "execution_count": 38
        }
      ]
    },
    {
      "cell_type": "code",
      "source": [
        "print(df_modif.shape)\n",
        "print(df_lang.shape)"
      ],
      "metadata": {
        "colab": {
          "base_uri": "https://localhost:8080/"
        },
        "id": "OFBX2wBZ2nLA",
        "outputId": "8e1c4df5-9aad-40ba-ebc2-ba0d34d02045"
      },
      "execution_count": null,
      "outputs": [
        {
          "output_type": "stream",
          "name": "stdout",
          "text": [
            "(4801, 49)\n",
            "(13765, 4)\n"
          ]
        }
      ]
    },
    {
      "cell_type": "markdown",
      "source": [
        "Con las líneas de código anterior se puede ver que si se compara el tamaño del dataFrame modificado con los límites superior e inferior (df_modif) con el que se acaba de crear separando los lenguajes de programación de quienes manejan más de 1 lenguaje (df_lang) se puede visualizar cómo la cantidad de filas se incrementó desde 4801 respuestas originales en la encuesta a 13765 respuestas.\n",
        "\n",
        "Esto da indicio de que muchos de los programadores encuestados manejan 2 o más lenguajes de programación.\n",
        "*************************************************"
      ],
      "metadata": {
        "id": "FSJq0_oL2oVV"
      }
    },
    {
      "cell_type": "code",
      "source": [
        "df_lang.head()"
      ],
      "metadata": {
        "colab": {
          "base_uri": "https://localhost:8080/",
          "height": 270
        },
        "id": "3eoQFf2KlwWy",
        "outputId": "a2f8b506-c2b3-4bc9-beaa-b4d3cc1cc00c"
      },
      "execution_count": null,
      "outputs": [
        {
          "output_type": "execute_result",
          "data": {
            "text/plain": [
              "  programming_language tools_programming_languages  salary_monthly_NETO  \\\n",
              "0              ninguno                     Ninguno              43000.0   \n",
              "1                 html    HTML, Javascript, Python              63000.0   \n",
              "1           javascript    HTML, Javascript, Python              63000.0   \n",
              "1               python    HTML, Javascript, Python              63000.0   \n",
              "2              ninguno                     Ninguno             127000.0   \n",
              "\n",
              "  cured_programming_languages  \n",
              "0                   [ninguno]  \n",
              "1  [html, javascript, python]  \n",
              "1  [html, javascript, python]  \n",
              "1  [html, javascript, python]  \n",
              "2                   [ninguno]  "
            ],
            "text/html": [
              "\n",
              "  <div id=\"df-b89f0a23-bc45-4f41-9038-fd790494f210\">\n",
              "    <div class=\"colab-df-container\">\n",
              "      <div>\n",
              "<style scoped>\n",
              "    .dataframe tbody tr th:only-of-type {\n",
              "        vertical-align: middle;\n",
              "    }\n",
              "\n",
              "    .dataframe tbody tr th {\n",
              "        vertical-align: top;\n",
              "    }\n",
              "\n",
              "    .dataframe thead th {\n",
              "        text-align: right;\n",
              "    }\n",
              "</style>\n",
              "<table border=\"1\" class=\"dataframe\">\n",
              "  <thead>\n",
              "    <tr style=\"text-align: right;\">\n",
              "      <th></th>\n",
              "      <th>programming_language</th>\n",
              "      <th>tools_programming_languages</th>\n",
              "      <th>salary_monthly_NETO</th>\n",
              "      <th>cured_programming_languages</th>\n",
              "    </tr>\n",
              "  </thead>\n",
              "  <tbody>\n",
              "    <tr>\n",
              "      <th>0</th>\n",
              "      <td>ninguno</td>\n",
              "      <td>Ninguno</td>\n",
              "      <td>43000.0</td>\n",
              "      <td>[ninguno]</td>\n",
              "    </tr>\n",
              "    <tr>\n",
              "      <th>1</th>\n",
              "      <td>html</td>\n",
              "      <td>HTML, Javascript, Python</td>\n",
              "      <td>63000.0</td>\n",
              "      <td>[html, javascript, python]</td>\n",
              "    </tr>\n",
              "    <tr>\n",
              "      <th>1</th>\n",
              "      <td>javascript</td>\n",
              "      <td>HTML, Javascript, Python</td>\n",
              "      <td>63000.0</td>\n",
              "      <td>[html, javascript, python]</td>\n",
              "    </tr>\n",
              "    <tr>\n",
              "      <th>1</th>\n",
              "      <td>python</td>\n",
              "      <td>HTML, Javascript, Python</td>\n",
              "      <td>63000.0</td>\n",
              "      <td>[html, javascript, python]</td>\n",
              "    </tr>\n",
              "    <tr>\n",
              "      <th>2</th>\n",
              "      <td>ninguno</td>\n",
              "      <td>Ninguno</td>\n",
              "      <td>127000.0</td>\n",
              "      <td>[ninguno]</td>\n",
              "    </tr>\n",
              "  </tbody>\n",
              "</table>\n",
              "</div>\n",
              "      <button class=\"colab-df-convert\" onclick=\"convertToInteractive('df-b89f0a23-bc45-4f41-9038-fd790494f210')\"\n",
              "              title=\"Convert this dataframe to an interactive table.\"\n",
              "              style=\"display:none;\">\n",
              "        \n",
              "  <svg xmlns=\"http://www.w3.org/2000/svg\" height=\"24px\"viewBox=\"0 0 24 24\"\n",
              "       width=\"24px\">\n",
              "    <path d=\"M0 0h24v24H0V0z\" fill=\"none\"/>\n",
              "    <path d=\"M18.56 5.44l.94 2.06.94-2.06 2.06-.94-2.06-.94-.94-2.06-.94 2.06-2.06.94zm-11 1L8.5 8.5l.94-2.06 2.06-.94-2.06-.94L8.5 2.5l-.94 2.06-2.06.94zm10 10l.94 2.06.94-2.06 2.06-.94-2.06-.94-.94-2.06-.94 2.06-2.06.94z\"/><path d=\"M17.41 7.96l-1.37-1.37c-.4-.4-.92-.59-1.43-.59-.52 0-1.04.2-1.43.59L10.3 9.45l-7.72 7.72c-.78.78-.78 2.05 0 2.83L4 21.41c.39.39.9.59 1.41.59.51 0 1.02-.2 1.41-.59l7.78-7.78 2.81-2.81c.8-.78.8-2.07 0-2.86zM5.41 20L4 18.59l7.72-7.72 1.47 1.35L5.41 20z\"/>\n",
              "  </svg>\n",
              "      </button>\n",
              "      \n",
              "  <style>\n",
              "    .colab-df-container {\n",
              "      display:flex;\n",
              "      flex-wrap:wrap;\n",
              "      gap: 12px;\n",
              "    }\n",
              "\n",
              "    .colab-df-convert {\n",
              "      background-color: #E8F0FE;\n",
              "      border: none;\n",
              "      border-radius: 50%;\n",
              "      cursor: pointer;\n",
              "      display: none;\n",
              "      fill: #1967D2;\n",
              "      height: 32px;\n",
              "      padding: 0 0 0 0;\n",
              "      width: 32px;\n",
              "    }\n",
              "\n",
              "    .colab-df-convert:hover {\n",
              "      background-color: #E2EBFA;\n",
              "      box-shadow: 0px 1px 2px rgba(60, 64, 67, 0.3), 0px 1px 3px 1px rgba(60, 64, 67, 0.15);\n",
              "      fill: #174EA6;\n",
              "    }\n",
              "\n",
              "    [theme=dark] .colab-df-convert {\n",
              "      background-color: #3B4455;\n",
              "      fill: #D2E3FC;\n",
              "    }\n",
              "\n",
              "    [theme=dark] .colab-df-convert:hover {\n",
              "      background-color: #434B5C;\n",
              "      box-shadow: 0px 1px 3px 1px rgba(0, 0, 0, 0.15);\n",
              "      filter: drop-shadow(0px 1px 2px rgba(0, 0, 0, 0.3));\n",
              "      fill: #FFFFFF;\n",
              "    }\n",
              "  </style>\n",
              "\n",
              "      <script>\n",
              "        const buttonEl =\n",
              "          document.querySelector('#df-b89f0a23-bc45-4f41-9038-fd790494f210 button.colab-df-convert');\n",
              "        buttonEl.style.display =\n",
              "          google.colab.kernel.accessAllowed ? 'block' : 'none';\n",
              "\n",
              "        async function convertToInteractive(key) {\n",
              "          const element = document.querySelector('#df-b89f0a23-bc45-4f41-9038-fd790494f210');\n",
              "          const dataTable =\n",
              "            await google.colab.kernel.invokeFunction('convertToInteractive',\n",
              "                                                     [key], {});\n",
              "          if (!dataTable) return;\n",
              "\n",
              "          const docLinkHtml = 'Like what you see? Visit the ' +\n",
              "            '<a target=\"_blank\" href=https://colab.research.google.com/notebooks/data_table.ipynb>data table notebook</a>'\n",
              "            + ' to learn more about interactive tables.';\n",
              "          element.innerHTML = '';\n",
              "          dataTable['output_type'] = 'display_data';\n",
              "          await google.colab.output.renderOutput(dataTable, element);\n",
              "          const docLink = document.createElement('div');\n",
              "          docLink.innerHTML = docLinkHtml;\n",
              "          element.appendChild(docLink);\n",
              "        }\n",
              "      </script>\n",
              "    </div>\n",
              "  </div>\n",
              "  "
            ]
          },
          "metadata": {},
          "execution_count": 40
        }
      ]
    },
    {
      "cell_type": "code",
      "source": [
        "# Se busca visualizar cuáles son los tipos de lenguajes de programación que manejan los encuestados\n",
        "df_lang['programming_language'].value_counts() "
      ],
      "metadata": {
        "colab": {
          "base_uri": "https://localhost:8080/"
        },
        "id": "g1FDzCkW6L3R",
        "outputId": "c9ac8a7c-d78d-437e-d952-e01e9b9f43e4"
      },
      "execution_count": null,
      "outputs": [
        {
          "output_type": "execute_result",
          "data": {
            "text/plain": [
              "javascript    1913\n",
              "sql           1742\n",
              "html          1465\n",
              "java          1107\n",
              "python        1086\n",
              "              ... \n",
              "asp              1\n",
              "kdb              1\n",
              "adabas           1\n",
              "natural          1\n",
              "infobasic        1\n",
              "Name: programming_language, Length: 179, dtype: int64"
            ]
          },
          "metadata": {},
          "execution_count": 41
        }
      ]
    },
    {
      "cell_type": "markdown",
      "source": [
        "El listado muestra 179 lenguajes de programación diferentes que manejan los programadores encuestados."
      ],
      "metadata": {
        "id": "R11Ci49OwShV"
      }
    },
    {
      "cell_type": "code",
      "source": [
        "# Se quiere obtener los 20 lenguajes de programación más populares\n",
        "language_count = df_lang.programming_language.value_counts()\\\n",
        "    .reset_index()\\\n",
        "    .rename(columns={'index': 'language', 'programming_language': 'frequency'})\n",
        "language_count[:20]"
      ],
      "metadata": {
        "colab": {
          "base_uri": "https://localhost:8080/",
          "height": 677
        },
        "id": "3UG4otwJ-kxv",
        "outputId": "96913e0d-9d93-4e2b-d191-eadfa447d5e5"
      },
      "execution_count": null,
      "outputs": [
        {
          "output_type": "execute_result",
          "data": {
            "text/plain": [
              "      language  frequency\n",
              "0   javascript       1913\n",
              "1          sql       1742\n",
              "2         html       1465\n",
              "3         java       1107\n",
              "4       python       1086\n",
              "5          css        982\n",
              "6   bash/shell        757\n",
              "7          php        684\n",
              "8         .net        651\n",
              "9           c#        587\n",
              "10  typescript        573\n",
              "11     ninguno        276\n",
              "12         c++        207\n",
              "13         vba        194\n",
              "14          go        184\n",
              "15           c        181\n",
              "16      kotlin        119\n",
              "17      groovy        112\n",
              "18        ruby         90\n",
              "19       swift         65"
            ],
            "text/html": [
              "\n",
              "  <div id=\"df-db9eda1f-1789-429f-9d48-d309fc16e3fe\">\n",
              "    <div class=\"colab-df-container\">\n",
              "      <div>\n",
              "<style scoped>\n",
              "    .dataframe tbody tr th:only-of-type {\n",
              "        vertical-align: middle;\n",
              "    }\n",
              "\n",
              "    .dataframe tbody tr th {\n",
              "        vertical-align: top;\n",
              "    }\n",
              "\n",
              "    .dataframe thead th {\n",
              "        text-align: right;\n",
              "    }\n",
              "</style>\n",
              "<table border=\"1\" class=\"dataframe\">\n",
              "  <thead>\n",
              "    <tr style=\"text-align: right;\">\n",
              "      <th></th>\n",
              "      <th>language</th>\n",
              "      <th>frequency</th>\n",
              "    </tr>\n",
              "  </thead>\n",
              "  <tbody>\n",
              "    <tr>\n",
              "      <th>0</th>\n",
              "      <td>javascript</td>\n",
              "      <td>1913</td>\n",
              "    </tr>\n",
              "    <tr>\n",
              "      <th>1</th>\n",
              "      <td>sql</td>\n",
              "      <td>1742</td>\n",
              "    </tr>\n",
              "    <tr>\n",
              "      <th>2</th>\n",
              "      <td>html</td>\n",
              "      <td>1465</td>\n",
              "    </tr>\n",
              "    <tr>\n",
              "      <th>3</th>\n",
              "      <td>java</td>\n",
              "      <td>1107</td>\n",
              "    </tr>\n",
              "    <tr>\n",
              "      <th>4</th>\n",
              "      <td>python</td>\n",
              "      <td>1086</td>\n",
              "    </tr>\n",
              "    <tr>\n",
              "      <th>5</th>\n",
              "      <td>css</td>\n",
              "      <td>982</td>\n",
              "    </tr>\n",
              "    <tr>\n",
              "      <th>6</th>\n",
              "      <td>bash/shell</td>\n",
              "      <td>757</td>\n",
              "    </tr>\n",
              "    <tr>\n",
              "      <th>7</th>\n",
              "      <td>php</td>\n",
              "      <td>684</td>\n",
              "    </tr>\n",
              "    <tr>\n",
              "      <th>8</th>\n",
              "      <td>.net</td>\n",
              "      <td>651</td>\n",
              "    </tr>\n",
              "    <tr>\n",
              "      <th>9</th>\n",
              "      <td>c#</td>\n",
              "      <td>587</td>\n",
              "    </tr>\n",
              "    <tr>\n",
              "      <th>10</th>\n",
              "      <td>typescript</td>\n",
              "      <td>573</td>\n",
              "    </tr>\n",
              "    <tr>\n",
              "      <th>11</th>\n",
              "      <td>ninguno</td>\n",
              "      <td>276</td>\n",
              "    </tr>\n",
              "    <tr>\n",
              "      <th>12</th>\n",
              "      <td>c++</td>\n",
              "      <td>207</td>\n",
              "    </tr>\n",
              "    <tr>\n",
              "      <th>13</th>\n",
              "      <td>vba</td>\n",
              "      <td>194</td>\n",
              "    </tr>\n",
              "    <tr>\n",
              "      <th>14</th>\n",
              "      <td>go</td>\n",
              "      <td>184</td>\n",
              "    </tr>\n",
              "    <tr>\n",
              "      <th>15</th>\n",
              "      <td>c</td>\n",
              "      <td>181</td>\n",
              "    </tr>\n",
              "    <tr>\n",
              "      <th>16</th>\n",
              "      <td>kotlin</td>\n",
              "      <td>119</td>\n",
              "    </tr>\n",
              "    <tr>\n",
              "      <th>17</th>\n",
              "      <td>groovy</td>\n",
              "      <td>112</td>\n",
              "    </tr>\n",
              "    <tr>\n",
              "      <th>18</th>\n",
              "      <td>ruby</td>\n",
              "      <td>90</td>\n",
              "    </tr>\n",
              "    <tr>\n",
              "      <th>19</th>\n",
              "      <td>swift</td>\n",
              "      <td>65</td>\n",
              "    </tr>\n",
              "  </tbody>\n",
              "</table>\n",
              "</div>\n",
              "      <button class=\"colab-df-convert\" onclick=\"convertToInteractive('df-db9eda1f-1789-429f-9d48-d309fc16e3fe')\"\n",
              "              title=\"Convert this dataframe to an interactive table.\"\n",
              "              style=\"display:none;\">\n",
              "        \n",
              "  <svg xmlns=\"http://www.w3.org/2000/svg\" height=\"24px\"viewBox=\"0 0 24 24\"\n",
              "       width=\"24px\">\n",
              "    <path d=\"M0 0h24v24H0V0z\" fill=\"none\"/>\n",
              "    <path d=\"M18.56 5.44l.94 2.06.94-2.06 2.06-.94-2.06-.94-.94-2.06-.94 2.06-2.06.94zm-11 1L8.5 8.5l.94-2.06 2.06-.94-2.06-.94L8.5 2.5l-.94 2.06-2.06.94zm10 10l.94 2.06.94-2.06 2.06-.94-2.06-.94-.94-2.06-.94 2.06-2.06.94z\"/><path d=\"M17.41 7.96l-1.37-1.37c-.4-.4-.92-.59-1.43-.59-.52 0-1.04.2-1.43.59L10.3 9.45l-7.72 7.72c-.78.78-.78 2.05 0 2.83L4 21.41c.39.39.9.59 1.41.59.51 0 1.02-.2 1.41-.59l7.78-7.78 2.81-2.81c.8-.78.8-2.07 0-2.86zM5.41 20L4 18.59l7.72-7.72 1.47 1.35L5.41 20z\"/>\n",
              "  </svg>\n",
              "      </button>\n",
              "      \n",
              "  <style>\n",
              "    .colab-df-container {\n",
              "      display:flex;\n",
              "      flex-wrap:wrap;\n",
              "      gap: 12px;\n",
              "    }\n",
              "\n",
              "    .colab-df-convert {\n",
              "      background-color: #E8F0FE;\n",
              "      border: none;\n",
              "      border-radius: 50%;\n",
              "      cursor: pointer;\n",
              "      display: none;\n",
              "      fill: #1967D2;\n",
              "      height: 32px;\n",
              "      padding: 0 0 0 0;\n",
              "      width: 32px;\n",
              "    }\n",
              "\n",
              "    .colab-df-convert:hover {\n",
              "      background-color: #E2EBFA;\n",
              "      box-shadow: 0px 1px 2px rgba(60, 64, 67, 0.3), 0px 1px 3px 1px rgba(60, 64, 67, 0.15);\n",
              "      fill: #174EA6;\n",
              "    }\n",
              "\n",
              "    [theme=dark] .colab-df-convert {\n",
              "      background-color: #3B4455;\n",
              "      fill: #D2E3FC;\n",
              "    }\n",
              "\n",
              "    [theme=dark] .colab-df-convert:hover {\n",
              "      background-color: #434B5C;\n",
              "      box-shadow: 0px 1px 3px 1px rgba(0, 0, 0, 0.15);\n",
              "      filter: drop-shadow(0px 1px 2px rgba(0, 0, 0, 0.3));\n",
              "      fill: #FFFFFF;\n",
              "    }\n",
              "  </style>\n",
              "\n",
              "      <script>\n",
              "        const buttonEl =\n",
              "          document.querySelector('#df-db9eda1f-1789-429f-9d48-d309fc16e3fe button.colab-df-convert');\n",
              "        buttonEl.style.display =\n",
              "          google.colab.kernel.accessAllowed ? 'block' : 'none';\n",
              "\n",
              "        async function convertToInteractive(key) {\n",
              "          const element = document.querySelector('#df-db9eda1f-1789-429f-9d48-d309fc16e3fe');\n",
              "          const dataTable =\n",
              "            await google.colab.kernel.invokeFunction('convertToInteractive',\n",
              "                                                     [key], {});\n",
              "          if (!dataTable) return;\n",
              "\n",
              "          const docLinkHtml = 'Like what you see? Visit the ' +\n",
              "            '<a target=\"_blank\" href=https://colab.research.google.com/notebooks/data_table.ipynb>data table notebook</a>'\n",
              "            + ' to learn more about interactive tables.';\n",
              "          element.innerHTML = '';\n",
              "          dataTable['output_type'] = 'display_data';\n",
              "          await google.colab.output.renderOutput(dataTable, element);\n",
              "          const docLink = document.createElement('div');\n",
              "          docLink.innerHTML = docLinkHtml;\n",
              "          element.appendChild(docLink);\n",
              "        }\n",
              "      </script>\n",
              "    </div>\n",
              "  </div>\n",
              "  "
            ]
          },
          "metadata": {},
          "execution_count": 42
        }
      ]
    },
    {
      "cell_type": "code",
      "source": [
        "# Se ordenan todos los lenguajes de programación según su frencuencia y en orden descendente:\n",
        "language_count = language_count.sort_values(by='frequency',ascending=False)"
      ],
      "metadata": {
        "id": "fRrm4GP2FYpn"
      },
      "execution_count": null,
      "outputs": []
    },
    {
      "cell_type": "code",
      "source": [
        "#Se calculan las frecuencias relativas de todos los lenguajes de programación:\n",
        "relative_frequency=language_count[[\"frequency\"]].cumsum()\n",
        "total_frequency=language_count[[\"frequency\"]].sum()\n",
        "language_count[\"cum_frequency\"]=relative_frequency/total_frequency*100"
      ],
      "metadata": {
        "id": "vBGMm6eEAhsF"
      },
      "execution_count": null,
      "outputs": []
    },
    {
      "cell_type": "code",
      "source": [
        "language_count[:20]"
      ],
      "metadata": {
        "colab": {
          "base_uri": "https://localhost:8080/",
          "height": 677
        },
        "id": "e-JJ94J5FjVS",
        "outputId": "6d694b03-9e93-4505-eb92-a6db2a167703"
      },
      "execution_count": null,
      "outputs": [
        {
          "output_type": "execute_result",
          "data": {
            "text/plain": [
              "      language  frequency  cum_frequency\n",
              "0   javascript       1913      13.897566\n",
              "1          sql       1742      26.552851\n",
              "2         html       1465      37.195786\n",
              "3         java       1107      45.237922\n",
              "4       python       1086      53.127497\n",
              "5          css        982      60.261533\n",
              "6   bash/shell        757      65.760988\n",
              "7          php        684      70.730113\n",
              "8         .net        651      75.459499\n",
              "9           c#        587      79.723938\n",
              "10  typescript        573      83.886669\n",
              "11     ninguno        276      85.891754\n",
              "12         c++        207      87.395568\n",
              "13         vba        194      88.804940\n",
              "14          go        184      90.141664\n",
              "15           c        181      91.456593\n",
              "16      kotlin        119      92.321104\n",
              "17      groovy        112      93.134762\n",
              "18        ruby         90      93.788594\n",
              "19       swift         65      94.260806"
            ],
            "text/html": [
              "\n",
              "  <div id=\"df-10d30695-3577-4ad9-8aa9-fb3439622fc2\">\n",
              "    <div class=\"colab-df-container\">\n",
              "      <div>\n",
              "<style scoped>\n",
              "    .dataframe tbody tr th:only-of-type {\n",
              "        vertical-align: middle;\n",
              "    }\n",
              "\n",
              "    .dataframe tbody tr th {\n",
              "        vertical-align: top;\n",
              "    }\n",
              "\n",
              "    .dataframe thead th {\n",
              "        text-align: right;\n",
              "    }\n",
              "</style>\n",
              "<table border=\"1\" class=\"dataframe\">\n",
              "  <thead>\n",
              "    <tr style=\"text-align: right;\">\n",
              "      <th></th>\n",
              "      <th>language</th>\n",
              "      <th>frequency</th>\n",
              "      <th>cum_frequency</th>\n",
              "    </tr>\n",
              "  </thead>\n",
              "  <tbody>\n",
              "    <tr>\n",
              "      <th>0</th>\n",
              "      <td>javascript</td>\n",
              "      <td>1913</td>\n",
              "      <td>13.897566</td>\n",
              "    </tr>\n",
              "    <tr>\n",
              "      <th>1</th>\n",
              "      <td>sql</td>\n",
              "      <td>1742</td>\n",
              "      <td>26.552851</td>\n",
              "    </tr>\n",
              "    <tr>\n",
              "      <th>2</th>\n",
              "      <td>html</td>\n",
              "      <td>1465</td>\n",
              "      <td>37.195786</td>\n",
              "    </tr>\n",
              "    <tr>\n",
              "      <th>3</th>\n",
              "      <td>java</td>\n",
              "      <td>1107</td>\n",
              "      <td>45.237922</td>\n",
              "    </tr>\n",
              "    <tr>\n",
              "      <th>4</th>\n",
              "      <td>python</td>\n",
              "      <td>1086</td>\n",
              "      <td>53.127497</td>\n",
              "    </tr>\n",
              "    <tr>\n",
              "      <th>5</th>\n",
              "      <td>css</td>\n",
              "      <td>982</td>\n",
              "      <td>60.261533</td>\n",
              "    </tr>\n",
              "    <tr>\n",
              "      <th>6</th>\n",
              "      <td>bash/shell</td>\n",
              "      <td>757</td>\n",
              "      <td>65.760988</td>\n",
              "    </tr>\n",
              "    <tr>\n",
              "      <th>7</th>\n",
              "      <td>php</td>\n",
              "      <td>684</td>\n",
              "      <td>70.730113</td>\n",
              "    </tr>\n",
              "    <tr>\n",
              "      <th>8</th>\n",
              "      <td>.net</td>\n",
              "      <td>651</td>\n",
              "      <td>75.459499</td>\n",
              "    </tr>\n",
              "    <tr>\n",
              "      <th>9</th>\n",
              "      <td>c#</td>\n",
              "      <td>587</td>\n",
              "      <td>79.723938</td>\n",
              "    </tr>\n",
              "    <tr>\n",
              "      <th>10</th>\n",
              "      <td>typescript</td>\n",
              "      <td>573</td>\n",
              "      <td>83.886669</td>\n",
              "    </tr>\n",
              "    <tr>\n",
              "      <th>11</th>\n",
              "      <td>ninguno</td>\n",
              "      <td>276</td>\n",
              "      <td>85.891754</td>\n",
              "    </tr>\n",
              "    <tr>\n",
              "      <th>12</th>\n",
              "      <td>c++</td>\n",
              "      <td>207</td>\n",
              "      <td>87.395568</td>\n",
              "    </tr>\n",
              "    <tr>\n",
              "      <th>13</th>\n",
              "      <td>vba</td>\n",
              "      <td>194</td>\n",
              "      <td>88.804940</td>\n",
              "    </tr>\n",
              "    <tr>\n",
              "      <th>14</th>\n",
              "      <td>go</td>\n",
              "      <td>184</td>\n",
              "      <td>90.141664</td>\n",
              "    </tr>\n",
              "    <tr>\n",
              "      <th>15</th>\n",
              "      <td>c</td>\n",
              "      <td>181</td>\n",
              "      <td>91.456593</td>\n",
              "    </tr>\n",
              "    <tr>\n",
              "      <th>16</th>\n",
              "      <td>kotlin</td>\n",
              "      <td>119</td>\n",
              "      <td>92.321104</td>\n",
              "    </tr>\n",
              "    <tr>\n",
              "      <th>17</th>\n",
              "      <td>groovy</td>\n",
              "      <td>112</td>\n",
              "      <td>93.134762</td>\n",
              "    </tr>\n",
              "    <tr>\n",
              "      <th>18</th>\n",
              "      <td>ruby</td>\n",
              "      <td>90</td>\n",
              "      <td>93.788594</td>\n",
              "    </tr>\n",
              "    <tr>\n",
              "      <th>19</th>\n",
              "      <td>swift</td>\n",
              "      <td>65</td>\n",
              "      <td>94.260806</td>\n",
              "    </tr>\n",
              "  </tbody>\n",
              "</table>\n",
              "</div>\n",
              "      <button class=\"colab-df-convert\" onclick=\"convertToInteractive('df-10d30695-3577-4ad9-8aa9-fb3439622fc2')\"\n",
              "              title=\"Convert this dataframe to an interactive table.\"\n",
              "              style=\"display:none;\">\n",
              "        \n",
              "  <svg xmlns=\"http://www.w3.org/2000/svg\" height=\"24px\"viewBox=\"0 0 24 24\"\n",
              "       width=\"24px\">\n",
              "    <path d=\"M0 0h24v24H0V0z\" fill=\"none\"/>\n",
              "    <path d=\"M18.56 5.44l.94 2.06.94-2.06 2.06-.94-2.06-.94-.94-2.06-.94 2.06-2.06.94zm-11 1L8.5 8.5l.94-2.06 2.06-.94-2.06-.94L8.5 2.5l-.94 2.06-2.06.94zm10 10l.94 2.06.94-2.06 2.06-.94-2.06-.94-.94-2.06-.94 2.06-2.06.94z\"/><path d=\"M17.41 7.96l-1.37-1.37c-.4-.4-.92-.59-1.43-.59-.52 0-1.04.2-1.43.59L10.3 9.45l-7.72 7.72c-.78.78-.78 2.05 0 2.83L4 21.41c.39.39.9.59 1.41.59.51 0 1.02-.2 1.41-.59l7.78-7.78 2.81-2.81c.8-.78.8-2.07 0-2.86zM5.41 20L4 18.59l7.72-7.72 1.47 1.35L5.41 20z\"/>\n",
              "  </svg>\n",
              "      </button>\n",
              "      \n",
              "  <style>\n",
              "    .colab-df-container {\n",
              "      display:flex;\n",
              "      flex-wrap:wrap;\n",
              "      gap: 12px;\n",
              "    }\n",
              "\n",
              "    .colab-df-convert {\n",
              "      background-color: #E8F0FE;\n",
              "      border: none;\n",
              "      border-radius: 50%;\n",
              "      cursor: pointer;\n",
              "      display: none;\n",
              "      fill: #1967D2;\n",
              "      height: 32px;\n",
              "      padding: 0 0 0 0;\n",
              "      width: 32px;\n",
              "    }\n",
              "\n",
              "    .colab-df-convert:hover {\n",
              "      background-color: #E2EBFA;\n",
              "      box-shadow: 0px 1px 2px rgba(60, 64, 67, 0.3), 0px 1px 3px 1px rgba(60, 64, 67, 0.15);\n",
              "      fill: #174EA6;\n",
              "    }\n",
              "\n",
              "    [theme=dark] .colab-df-convert {\n",
              "      background-color: #3B4455;\n",
              "      fill: #D2E3FC;\n",
              "    }\n",
              "\n",
              "    [theme=dark] .colab-df-convert:hover {\n",
              "      background-color: #434B5C;\n",
              "      box-shadow: 0px 1px 3px 1px rgba(0, 0, 0, 0.15);\n",
              "      filter: drop-shadow(0px 1px 2px rgba(0, 0, 0, 0.3));\n",
              "      fill: #FFFFFF;\n",
              "    }\n",
              "  </style>\n",
              "\n",
              "      <script>\n",
              "        const buttonEl =\n",
              "          document.querySelector('#df-10d30695-3577-4ad9-8aa9-fb3439622fc2 button.colab-df-convert');\n",
              "        buttonEl.style.display =\n",
              "          google.colab.kernel.accessAllowed ? 'block' : 'none';\n",
              "\n",
              "        async function convertToInteractive(key) {\n",
              "          const element = document.querySelector('#df-10d30695-3577-4ad9-8aa9-fb3439622fc2');\n",
              "          const dataTable =\n",
              "            await google.colab.kernel.invokeFunction('convertToInteractive',\n",
              "                                                     [key], {});\n",
              "          if (!dataTable) return;\n",
              "\n",
              "          const docLinkHtml = 'Like what you see? Visit the ' +\n",
              "            '<a target=\"_blank\" href=https://colab.research.google.com/notebooks/data_table.ipynb>data table notebook</a>'\n",
              "            + ' to learn more about interactive tables.';\n",
              "          element.innerHTML = '';\n",
              "          dataTable['output_type'] = 'display_data';\n",
              "          await google.colab.output.renderOutput(dataTable, element);\n",
              "          const docLink = document.createElement('div');\n",
              "          docLink.innerHTML = docLinkHtml;\n",
              "          element.appendChild(docLink);\n",
              "        }\n",
              "      </script>\n",
              "    </div>\n",
              "  </div>\n",
              "  "
            ]
          },
          "metadata": {},
          "execution_count": 49
        }
      ]
    },
    {
      "cell_type": "markdown",
      "source": [
        "Se utiliza la **REGLA DE PARETO** para definir los lenguajes a seleccionar:\n",
        "\n",
        "Analizando la tabla anterior, se puede concluir que el 20% de los lenguajes de programación que representan (aproximadamente) el 80% del total de las frecuencias de lenguajes \"más populares\" son los siguientes:\n",
        "\n",
        "1.   Javascript\n",
        "2.   SQL\n",
        "3.   HTML\n",
        "4.   Java\n",
        "5.   Python\n",
        "6.   CSS\n",
        "7.   Bash/Shell\n",
        "8.   PHP\n",
        "9.   .net\n",
        "10.   c#\n",
        "\n"
      ],
      "metadata": {
        "id": "7w81_qSqK2Vk"
      }
    },
    {
      "cell_type": "markdown",
      "source": [
        "# 3. Salarios asociados a los lenguajes de programación más populares\n",
        "*************************************************"
      ],
      "metadata": {
        "id": "Nh8ufosoPLNn"
      }
    },
    {
      "cell_type": "code",
      "source": [
        "# Se crea una lista con esos 10 lenguajes de programación que representan el 80% de las frecuencias.\n",
        "main_lang = ['javascript', 'sql', 'html', 'java', 'python', 'css', 'bash/shell', 'php', '.net', 'c#']"
      ],
      "metadata": {
        "id": "mM8isA0oNX0a"
      },
      "execution_count": null,
      "outputs": []
    },
    {
      "cell_type": "code",
      "source": [
        "#Se grafican las distribuciones de salario neto por cada uno de los 10 lenguajes seleccionados:\n",
        "df1 = pd.DataFrame(dict(javascript=df_lang[df_lang['programming_language']=='javascript']['salary_monthly_NETO']))\n",
        "df2 = pd.DataFrame(dict(sql=df_lang[df_lang['programming_language']=='sql']['salary_monthly_NETO']))\n",
        "df3 = pd.DataFrame(dict(html=df_lang[df_lang['programming_language']=='html']['salary_monthly_NETO']))\n",
        "df4 = pd.DataFrame(dict(java=df_lang[df_lang['programming_language']=='java']['salary_monthly_NETO']))\n",
        "df5 = pd.DataFrame(dict(python=df_lang[df_lang['programming_language']=='python']['salary_monthly_NETO']))\n",
        "df6 = pd.DataFrame(dict(css=df_lang[df_lang['programming_language']=='css']['salary_monthly_NETO']))\n",
        "df7 = pd.DataFrame(dict(bash=df_lang[df_lang['programming_language']=='bash/shell']['salary_monthly_NETO']))\n",
        "df8 = pd.DataFrame(dict(php=df_lang[df_lang['programming_language']=='php']['salary_monthly_NETO']))\n",
        "df9 = pd.DataFrame(dict(net=df_lang[df_lang['programming_language']=='.net']['salary_monthly_NETO']))\n",
        "df10 = pd.DataFrame(dict(c_num=df_lang[df_lang['programming_language']=='c#']['salary_monthly_NETO']))"
      ],
      "metadata": {
        "id": "JSy9U04DNqkR"
      },
      "execution_count": null,
      "outputs": []
    },
    {
      "cell_type": "code",
      "source": [
        "fig, axes = plt.subplots(2, 1, figsize=(15,10))\n",
        "\n",
        "df1.hist('javascript', bins=100, ax=axes[0], color='red')\n",
        "df2.hist('sql', bins=100, ax=axes[1])\n",
        "plt.ticklabel_format(style='plain', axis='x')\n",
        "plt.xlabel('Sueldo Neto')"
      ],
      "metadata": {
        "colab": {
          "base_uri": "https://localhost:8080/",
          "height": 632
        },
        "id": "k2xyDESIcZrm",
        "outputId": "6cd51d3e-7a14-43f4-a360-a27ddf5e0769"
      },
      "execution_count": null,
      "outputs": [
        {
          "output_type": "execute_result",
          "data": {
            "text/plain": [
              "Text(0.5, 0, 'Sueldo Neto')"
            ]
          },
          "metadata": {},
          "execution_count": 55
        },
        {
          "output_type": "display_data",
          "data": {
            "text/plain": [
              "<Figure size 1080x720 with 2 Axes>"
            ],
            "image/png": "[encoded data removed]"
          },
          "metadata": {
            "needs_background": "light"
          }
        }
      ]
    },
    {
      "cell_type": "code",
      "source": [
        "fig, axes = plt.subplots(2, 1, figsize=(15,10))\n",
        "\n",
        "df3.hist('html', bins=100, ax=axes[0], color='goldenrod')\n",
        "df4.hist('java', bins=100, ax=axes[1], color='coral')\n",
        "plt.xlabel('Sueldo Neto')"
      ],
      "metadata": {
        "colab": {
          "base_uri": "https://localhost:8080/",
          "height": 632
        },
        "id": "AYHHPzrEb5hI",
        "outputId": "3715e2d4-c2fb-4458-d0a8-b24111a5a2ec"
      },
      "execution_count": null,
      "outputs": [
        {
          "output_type": "execute_result",
          "data": {
            "text/plain": [
              "Text(0.5, 0, 'Sueldo Neto')"
            ]
          },
          "metadata": {},
          "execution_count": 58
        },
        {
          "output_type": "display_data",
          "data": {
            "text/plain": [
              "<Figure size 1080x720 with 2 Axes>"
            ],
            "image/png": "[encoded data removed]"
          },
          "metadata": {
            "needs_background": "light"
          }
        }
      ]
    },
    {
      "cell_type": "code",
      "source": [
        "fig, axes = plt.subplots(2, 1, figsize=(15,10))\n",
        "\n",
        "\n",
        "df5.hist('python', bins=100, ax=axes[0], color='purple')\n",
        "df6.hist('css', bins=100, ax=axes[1], color='orange')\n",
        "plt.xlabel('Sueldo Neto')"
      ],
      "metadata": {
        "colab": {
          "base_uri": "https://localhost:8080/",
          "height": 632
        },
        "id": "BgmKy8d5cu4O",
        "outputId": "28359878-44b0-427f-e1e6-337912c3e6d9"
      },
      "execution_count": null,
      "outputs": [
        {
          "output_type": "execute_result",
          "data": {
            "text/plain": [
              "Text(0.5, 0, 'Sueldo Neto')"
            ]
          },
          "metadata": {},
          "execution_count": 60
        },
        {
          "output_type": "display_data",
          "data": {
            "text/plain": [
              "<Figure size 1080x720 with 2 Axes>"
            ],
            "image/png": "[encoded data removed]"
          },
          "metadata": {
            "needs_background": "light"
          }
        }
      ]
    },
    {
      "cell_type": "code",
      "source": [
        "fig, axes = plt.subplots(2, 1, figsize=(15,10))\n",
        "\n",
        "df7.hist('bash', bins=100, ax=axes[0], color='palegreen')\n",
        "df8.hist('php', bins=100, ax=axes[1], color='pink')\n",
        "plt.xlabel('Sueldo Neto')"
      ],
      "metadata": {
        "colab": {
          "base_uri": "https://localhost:8080/",
          "height": 632
        },
        "id": "c5zFti09c4Ok",
        "outputId": "9ce33cc4-16c7-42b0-b6b0-5b5992cbe17b"
      },
      "execution_count": null,
      "outputs": [
        {
          "output_type": "execute_result",
          "data": {
            "text/plain": [
              "Text(0.5, 0, 'Sueldo Neto')"
            ]
          },
          "metadata": {},
          "execution_count": 63
        },
        {
          "output_type": "display_data",
          "data": {
            "text/plain": [
              "<Figure size 1080x720 with 2 Axes>"
            ],
            "image/png": "[encoded data removed]"
          },
          "metadata": {
            "needs_background": "light"
          }
        }
      ]
    },
    {
      "cell_type": "code",
      "source": [
        "fig, axes = plt.subplots(2, 1, figsize=(15,10))\n",
        "\n",
        "df9.hist('net', bins=100, ax=axes[0], color='green')\n",
        "df10.hist('c_num', bins=100, ax=axes[1], color='tomato')\n",
        "plt.xlabel('Sueldo Neto')"
      ],
      "metadata": {
        "colab": {
          "base_uri": "https://localhost:8080/",
          "height": 632
        },
        "id": "iHq4Sebwc-PV",
        "outputId": "8475c73f-28ee-44b2-a26f-fcba71cb57c2"
      },
      "execution_count": null,
      "outputs": [
        {
          "output_type": "execute_result",
          "data": {
            "text/plain": [
              "Text(0.5, 0, 'Sueldo Neto')"
            ]
          },
          "metadata": {},
          "execution_count": 65
        },
        {
          "output_type": "display_data",
          "data": {
            "text/plain": [
              "<Figure size 1080x720 with 2 Axes>"
            ],
            "image/png": "[encoded data removed]"
          },
          "metadata": {
            "needs_background": "light"
          }
        }
      ]
    },
    {
      "cell_type": "markdown",
      "source": [
        "Los histogramas anteriores son similares entre sí, cambiando principalmente los sueldos \"más frecuentes\" para un cierto lenguaje de programación."
      ],
      "metadata": {
        "id": "rIvyKMWVySaL"
      }
    },
    {
      "cell_type": "code",
      "source": [
        "# Se presenta el sueldo promedio de cada lenguaje ordenado de mayor a menor\n",
        "round(df_lang[df_lang['programming_language'].isin(main_lang)].groupby('programming_language').mean().sort_values\n",
        "      (by='salary_monthly_NETO', ascending=False),2)"
      ],
      "metadata": {
        "colab": {
          "base_uri": "https://localhost:8080/",
          "height": 394
        },
        "id": "7AVAukgMOKu7",
        "outputId": "f560fd26-965e-40bd-beaa-a1a6425fee9f"
      },
      "execution_count": null,
      "outputs": [
        {
          "output_type": "execute_result",
          "data": {
            "text/plain": [
              "                      salary_monthly_NETO\n",
              "programming_language                     \n",
              "bash/shell                       79607.79\n",
              "python                           79356.91\n",
              "java                             78618.50\n",
              "sql                              73872.53\n",
              ".net                             73852.85\n",
              "c#                               73355.88\n",
              "javascript                       73050.95\n",
              "html                             70498.86\n",
              "css                              70284.47\n",
              "php                              70217.41"
            ],
            "text/html": [
              "\n",
              "  <div id=\"df-9177f0ff-9c88-4451-b6ea-481ea5bf5f85\">\n",
              "    <div class=\"colab-df-container\">\n",
              "      <div>\n",
              "<style scoped>\n",
              "    .dataframe tbody tr th:only-of-type {\n",
              "        vertical-align: middle;\n",
              "    }\n",
              "\n",
              "    .dataframe tbody tr th {\n",
              "        vertical-align: top;\n",
              "    }\n",
              "\n",
              "    .dataframe thead th {\n",
              "        text-align: right;\n",
              "    }\n",
              "</style>\n",
              "<table border=\"1\" class=\"dataframe\">\n",
              "  <thead>\n",
              "    <tr style=\"text-align: right;\">\n",
              "      <th></th>\n",
              "      <th>salary_monthly_NETO</th>\n",
              "    </tr>\n",
              "    <tr>\n",
              "      <th>programming_language</th>\n",
              "      <th></th>\n",
              "    </tr>\n",
              "  </thead>\n",
              "  <tbody>\n",
              "    <tr>\n",
              "      <th>bash/shell</th>\n",
              "      <td>79607.79</td>\n",
              "    </tr>\n",
              "    <tr>\n",
              "      <th>python</th>\n",
              "      <td>79356.91</td>\n",
              "    </tr>\n",
              "    <tr>\n",
              "      <th>java</th>\n",
              "      <td>78618.50</td>\n",
              "    </tr>\n",
              "    <tr>\n",
              "      <th>sql</th>\n",
              "      <td>73872.53</td>\n",
              "    </tr>\n",
              "    <tr>\n",
              "      <th>.net</th>\n",
              "      <td>73852.85</td>\n",
              "    </tr>\n",
              "    <tr>\n",
              "      <th>c#</th>\n",
              "      <td>73355.88</td>\n",
              "    </tr>\n",
              "    <tr>\n",
              "      <th>javascript</th>\n",
              "      <td>73050.95</td>\n",
              "    </tr>\n",
              "    <tr>\n",
              "      <th>html</th>\n",
              "      <td>70498.86</td>\n",
              "    </tr>\n",
              "    <tr>\n",
              "      <th>css</th>\n",
              "      <td>70284.47</td>\n",
              "    </tr>\n",
              "    <tr>\n",
              "      <th>php</th>\n",
              "      <td>70217.41</td>\n",
              "    </tr>\n",
              "  </tbody>\n",
              "</table>\n",
              "</div>\n",
              "      <button class=\"colab-df-convert\" onclick=\"convertToInteractive('df-9177f0ff-9c88-4451-b6ea-481ea5bf5f85')\"\n",
              "              title=\"Convert this dataframe to an interactive table.\"\n",
              "              style=\"display:none;\">\n",
              "        \n",
              "  <svg xmlns=\"http://www.w3.org/2000/svg\" height=\"24px\"viewBox=\"0 0 24 24\"\n",
              "       width=\"24px\">\n",
              "    <path d=\"M0 0h24v24H0V0z\" fill=\"none\"/>\n",
              "    <path d=\"M18.56 5.44l.94 2.06.94-2.06 2.06-.94-2.06-.94-.94-2.06-.94 2.06-2.06.94zm-11 1L8.5 8.5l.94-2.06 2.06-.94-2.06-.94L8.5 2.5l-.94 2.06-2.06.94zm10 10l.94 2.06.94-2.06 2.06-.94-2.06-.94-.94-2.06-.94 2.06-2.06.94z\"/><path d=\"M17.41 7.96l-1.37-1.37c-.4-.4-.92-.59-1.43-.59-.52 0-1.04.2-1.43.59L10.3 9.45l-7.72 7.72c-.78.78-.78 2.05 0 2.83L4 21.41c.39.39.9.59 1.41.59.51 0 1.02-.2 1.41-.59l7.78-7.78 2.81-2.81c.8-.78.8-2.07 0-2.86zM5.41 20L4 18.59l7.72-7.72 1.47 1.35L5.41 20z\"/>\n",
              "  </svg>\n",
              "      </button>\n",
              "      \n",
              "  <style>\n",
              "    .colab-df-container {\n",
              "      display:flex;\n",
              "      flex-wrap:wrap;\n",
              "      gap: 12px;\n",
              "    }\n",
              "\n",
              "    .colab-df-convert {\n",
              "      background-color: #E8F0FE;\n",
              "      border: none;\n",
              "      border-radius: 50%;\n",
              "      cursor: pointer;\n",
              "      display: none;\n",
              "      fill: #1967D2;\n",
              "      height: 32px;\n",
              "      padding: 0 0 0 0;\n",
              "      width: 32px;\n",
              "    }\n",
              "\n",
              "    .colab-df-convert:hover {\n",
              "      background-color: #E2EBFA;\n",
              "      box-shadow: 0px 1px 2px rgba(60, 64, 67, 0.3), 0px 1px 3px 1px rgba(60, 64, 67, 0.15);\n",
              "      fill: #174EA6;\n",
              "    }\n",
              "\n",
              "    [theme=dark] .colab-df-convert {\n",
              "      background-color: #3B4455;\n",
              "      fill: #D2E3FC;\n",
              "    }\n",
              "\n",
              "    [theme=dark] .colab-df-convert:hover {\n",
              "      background-color: #434B5C;\n",
              "      box-shadow: 0px 1px 3px 1px rgba(0, 0, 0, 0.15);\n",
              "      filter: drop-shadow(0px 1px 2px rgba(0, 0, 0, 0.3));\n",
              "      fill: #FFFFFF;\n",
              "    }\n",
              "  </style>\n",
              "\n",
              "      <script>\n",
              "        const buttonEl =\n",
              "          document.querySelector('#df-9177f0ff-9c88-4451-b6ea-481ea5bf5f85 button.colab-df-convert');\n",
              "        buttonEl.style.display =\n",
              "          google.colab.kernel.accessAllowed ? 'block' : 'none';\n",
              "\n",
              "        async function convertToInteractive(key) {\n",
              "          const element = document.querySelector('#df-9177f0ff-9c88-4451-b6ea-481ea5bf5f85');\n",
              "          const dataTable =\n",
              "            await google.colab.kernel.invokeFunction('convertToInteractive',\n",
              "                                                     [key], {});\n",
              "          if (!dataTable) return;\n",
              "\n",
              "          const docLinkHtml = 'Like what you see? Visit the ' +\n",
              "            '<a target=\"_blank\" href=https://colab.research.google.com/notebooks/data_table.ipynb>data table notebook</a>'\n",
              "            + ' to learn more about interactive tables.';\n",
              "          element.innerHTML = '';\n",
              "          dataTable['output_type'] = 'display_data';\n",
              "          await google.colab.output.renderOutput(dataTable, element);\n",
              "          const docLink = document.createElement('div');\n",
              "          docLink.innerHTML = docLinkHtml;\n",
              "          element.appendChild(docLink);\n",
              "        }\n",
              "      </script>\n",
              "    </div>\n",
              "  </div>\n",
              "  "
            ]
          },
          "metadata": {},
          "execution_count": 73
        }
      ]
    },
    {
      "cell_type": "markdown",
      "source": [
        "El sueldo promedio más alto (79.607 pesos) corresponde al lenguaje bash/shell (teniendo en cuenta el df_lang)"
      ],
      "metadata": {
        "id": "Oh1gEbMxyxYu"
      }
    },
    {
      "cell_type": "code",
      "source": [
        "# Se presenta la mediana de cada lenguaje ordenado de mayor a menor\n",
        "round(df_lang[df_lang['programming_language'].isin(main_lang)].groupby('programming_language').median().sort_values\n",
        "      (by='salary_monthly_NETO', ascending=False),2)"
      ],
      "metadata": {
        "colab": {
          "base_uri": "https://localhost:8080/",
          "height": 394
        },
        "id": "vaGt5ncoObXQ",
        "outputId": "5b193e43-90ba-40c2-9708-9ad0cc8ff24d"
      },
      "execution_count": null,
      "outputs": [
        {
          "output_type": "execute_result",
          "data": {
            "text/plain": [
              "                      salary_monthly_NETO\n",
              "programming_language                     \n",
              "bash/shell                        80564.0\n",
              "java                              80000.0\n",
              "python                            80000.0\n",
              ".net                              74000.0\n",
              "c#                                73200.0\n",
              "sql                               73095.0\n",
              "javascript                        72000.0\n",
              "html                              69000.0\n",
              "css                               68000.0\n",
              "php                               67750.0"
            ],
            "text/html": [
              "\n",
              "  <div id=\"df-5dc6a645-7f53-43aa-a7d6-0be6a32cbae2\">\n",
              "    <div class=\"colab-df-container\">\n",
              "      <div>\n",
              "<style scoped>\n",
              "    .dataframe tbody tr th:only-of-type {\n",
              "        vertical-align: middle;\n",
              "    }\n",
              "\n",
              "    .dataframe tbody tr th {\n",
              "        vertical-align: top;\n",
              "    }\n",
              "\n",
              "    .dataframe thead th {\n",
              "        text-align: right;\n",
              "    }\n",
              "</style>\n",
              "<table border=\"1\" class=\"dataframe\">\n",
              "  <thead>\n",
              "    <tr style=\"text-align: right;\">\n",
              "      <th></th>\n",
              "      <th>salary_monthly_NETO</th>\n",
              "    </tr>\n",
              "    <tr>\n",
              "      <th>programming_language</th>\n",
              "      <th></th>\n",
              "    </tr>\n",
              "  </thead>\n",
              "  <tbody>\n",
              "    <tr>\n",
              "      <th>bash/shell</th>\n",
              "      <td>80564.0</td>\n",
              "    </tr>\n",
              "    <tr>\n",
              "      <th>java</th>\n",
              "      <td>80000.0</td>\n",
              "    </tr>\n",
              "    <tr>\n",
              "      <th>python</th>\n",
              "      <td>80000.0</td>\n",
              "    </tr>\n",
              "    <tr>\n",
              "      <th>.net</th>\n",
              "      <td>74000.0</td>\n",
              "    </tr>\n",
              "    <tr>\n",
              "      <th>c#</th>\n",
              "      <td>73200.0</td>\n",
              "    </tr>\n",
              "    <tr>\n",
              "      <th>sql</th>\n",
              "      <td>73095.0</td>\n",
              "    </tr>\n",
              "    <tr>\n",
              "      <th>javascript</th>\n",
              "      <td>72000.0</td>\n",
              "    </tr>\n",
              "    <tr>\n",
              "      <th>html</th>\n",
              "      <td>69000.0</td>\n",
              "    </tr>\n",
              "    <tr>\n",
              "      <th>css</th>\n",
              "      <td>68000.0</td>\n",
              "    </tr>\n",
              "    <tr>\n",
              "      <th>php</th>\n",
              "      <td>67750.0</td>\n",
              "    </tr>\n",
              "  </tbody>\n",
              "</table>\n",
              "</div>\n",
              "      <button class=\"colab-df-convert\" onclick=\"convertToInteractive('df-5dc6a645-7f53-43aa-a7d6-0be6a32cbae2')\"\n",
              "              title=\"Convert this dataframe to an interactive table.\"\n",
              "              style=\"display:none;\">\n",
              "        \n",
              "  <svg xmlns=\"http://www.w3.org/2000/svg\" height=\"24px\"viewBox=\"0 0 24 24\"\n",
              "       width=\"24px\">\n",
              "    <path d=\"M0 0h24v24H0V0z\" fill=\"none\"/>\n",
              "    <path d=\"M18.56 5.44l.94 2.06.94-2.06 2.06-.94-2.06-.94-.94-2.06-.94 2.06-2.06.94zm-11 1L8.5 8.5l.94-2.06 2.06-.94-2.06-.94L8.5 2.5l-.94 2.06-2.06.94zm10 10l.94 2.06.94-2.06 2.06-.94-2.06-.94-.94-2.06-.94 2.06-2.06.94z\"/><path d=\"M17.41 7.96l-1.37-1.37c-.4-.4-.92-.59-1.43-.59-.52 0-1.04.2-1.43.59L10.3 9.45l-7.72 7.72c-.78.78-.78 2.05 0 2.83L4 21.41c.39.39.9.59 1.41.59.51 0 1.02-.2 1.41-.59l7.78-7.78 2.81-2.81c.8-.78.8-2.07 0-2.86zM5.41 20L4 18.59l7.72-7.72 1.47 1.35L5.41 20z\"/>\n",
              "  </svg>\n",
              "      </button>\n",
              "      \n",
              "  <style>\n",
              "    .colab-df-container {\n",
              "      display:flex;\n",
              "      flex-wrap:wrap;\n",
              "      gap: 12px;\n",
              "    }\n",
              "\n",
              "    .colab-df-convert {\n",
              "      background-color: #E8F0FE;\n",
              "      border: none;\n",
              "      border-radius: 50%;\n",
              "      cursor: pointer;\n",
              "      display: none;\n",
              "      fill: #1967D2;\n",
              "      height: 32px;\n",
              "      padding: 0 0 0 0;\n",
              "      width: 32px;\n",
              "    }\n",
              "\n",
              "    .colab-df-convert:hover {\n",
              "      background-color: #E2EBFA;\n",
              "      box-shadow: 0px 1px 2px rgba(60, 64, 67, 0.3), 0px 1px 3px 1px rgba(60, 64, 67, 0.15);\n",
              "      fill: #174EA6;\n",
              "    }\n",
              "\n",
              "    [theme=dark] .colab-df-convert {\n",
              "      background-color: #3B4455;\n",
              "      fill: #D2E3FC;\n",
              "    }\n",
              "\n",
              "    [theme=dark] .colab-df-convert:hover {\n",
              "      background-color: #434B5C;\n",
              "      box-shadow: 0px 1px 3px 1px rgba(0, 0, 0, 0.15);\n",
              "      filter: drop-shadow(0px 1px 2px rgba(0, 0, 0, 0.3));\n",
              "      fill: #FFFFFF;\n",
              "    }\n",
              "  </style>\n",
              "\n",
              "      <script>\n",
              "        const buttonEl =\n",
              "          document.querySelector('#df-5dc6a645-7f53-43aa-a7d6-0be6a32cbae2 button.colab-df-convert');\n",
              "        buttonEl.style.display =\n",
              "          google.colab.kernel.accessAllowed ? 'block' : 'none';\n",
              "\n",
              "        async function convertToInteractive(key) {\n",
              "          const element = document.querySelector('#df-5dc6a645-7f53-43aa-a7d6-0be6a32cbae2');\n",
              "          const dataTable =\n",
              "            await google.colab.kernel.invokeFunction('convertToInteractive',\n",
              "                                                     [key], {});\n",
              "          if (!dataTable) return;\n",
              "\n",
              "          const docLinkHtml = 'Like what you see? Visit the ' +\n",
              "            '<a target=\"_blank\" href=https://colab.research.google.com/notebooks/data_table.ipynb>data table notebook</a>'\n",
              "            + ' to learn more about interactive tables.';\n",
              "          element.innerHTML = '';\n",
              "          dataTable['output_type'] = 'display_data';\n",
              "          await google.colab.output.renderOutput(dataTable, element);\n",
              "          const docLink = document.createElement('div');\n",
              "          docLink.innerHTML = docLinkHtml;\n",
              "          element.appendChild(docLink);\n",
              "        }\n",
              "      </script>\n",
              "    </div>\n",
              "  </div>\n",
              "  "
            ]
          },
          "metadata": {},
          "execution_count": 66
        }
      ]
    },
    {
      "cell_type": "markdown",
      "source": [
        "La mediana más alta (80.564 pesos) corresponde nuevamente al lenguaje bash/shell (teniendo en cuenta el df_lang)"
      ],
      "metadata": {
        "id": "bBwDTLhby7lD"
      }
    },
    {
      "cell_type": "code",
      "source": [
        "#Se presentan los boxplot para cada uno de los diez lenguajes más populares\n",
        "plt.figure(figsize=(12, 6))\n",
        "seaborn.boxplot(data=df_lang[df_lang['programming_language'].isin(main_lang)].sort_values(by='salary_monthly_NETO', ascending=True), x='salary_monthly_NETO', y='programming_language',\n",
        "                color='orangered')\n",
        "plt.ticklabel_format(style='plain', axis='x')"
      ],
      "metadata": {
        "colab": {
          "base_uri": "https://localhost:8080/",
          "height": 410
        },
        "id": "DC9Y7kgIOqBS",
        "outputId": "7546ea80-04d1-446b-993f-0a0d3688aaeb"
      },
      "execution_count": null,
      "outputs": [
        {
          "output_type": "display_data",
          "data": {
            "text/plain": [
              "<Figure size 864x432 with 1 Axes>"
            ],
            "image/png": "[encoded data removed]"
          },
          "metadata": {
            "needs_background": "light"
          }
        }
      ]
    },
    {
      "cell_type": "code",
      "source": [
        "# Este gráfico de barras muestra los sueldos medios de cada lenguaje. La línea negra sobre cada barra indica el intervalo de confianza en el que\n",
        "# se encuentra le media. \n",
        "plt.figure(figsize=(12, 6))\n",
        "seaborn.barplot(data=df_lang[df_lang['programming_language'].isin(main_lang)].sort_values(by='salary_monthly_NETO', ascending=True), x='salary_monthly_NETO', y='programming_language',\n",
        "                color='green')\n",
        "plt.ticklabel_format(style='plain', axis='x')"
      ],
      "metadata": {
        "colab": {
          "base_uri": "https://localhost:8080/",
          "height": 410
        },
        "id": "LeFKuYSdO0Fm",
        "outputId": "703e72c8-0fbf-4b2d-afe9-021cc8d1b257"
      },
      "execution_count": null,
      "outputs": [
        {
          "output_type": "display_data",
          "data": {
            "text/plain": [
              "<Figure size 864x432 with 1 Axes>"
            ],
            "image/png": "[encoded data removed]"
          },
          "metadata": {
            "needs_background": "light"
          }
        }
      ]
    },
    {
      "cell_type": "markdown",
      "source": [
        "# Probabilidad condicional de salarios altos según lenguaje de programación"
      ],
      "metadata": {
        "id": "jQuhgqI8Pe5D"
      }
    },
    {
      "cell_type": "code",
      "source": [
        "# Se calcula el sueldo promedio de la base modificada con el data frame que contiene los valores maximo y minimo\n",
        "avg_salary = df_modif['salary_monthly_NETO'].mean()\n",
        "avg_salary"
      ],
      "metadata": {
        "colab": {
          "base_uri": "https://localhost:8080/"
        },
        "id": "qPml4WIjQH60",
        "outputId": "8df69fcf-3a4b-4b6c-905c-9105babd643b"
      },
      "execution_count": null,
      "outputs": [
        {
          "output_type": "execute_result",
          "data": {
            "text/plain": [
              "73440.94539054365"
            ]
          },
          "metadata": {},
          "execution_count": 72
        }
      ]
    },
    {
      "cell_type": "code",
      "source": [
        "# Se calcula la probabilidad de que un sueldo esté por encima del sueldo promedio\n",
        "prob_above_avg = len(df_lang[df_lang['salary_monthly_NETO'] >= avg_salary]) / len(df_lang)  \n",
        "prob_above_avg"
      ],
      "metadata": {
        "colab": {
          "base_uri": "https://localhost:8080/"
        },
        "id": "JUA4V2jjQPzU",
        "outputId": "814f0ccd-659d-4b73-d345-06c421b2929a"
      },
      "execution_count": null,
      "outputs": [
        {
          "output_type": "execute_result",
          "data": {
            "text/plain": [
              "0.5144932800581185"
            ]
          },
          "metadata": {},
          "execution_count": 73
        }
      ]
    },
    {
      "cell_type": "markdown",
      "source": [
        "La probablidad de ganar más que el sueldo promedio (73.440 pesos) en el data frame estudiado (df_lang) es del 51.45%\n",
        "*************************************************"
      ],
      "metadata": {
        "id": "fyf6_Kq5huZO"
      }
    },
    {
      "cell_type": "code",
      "source": [
        "# Se crean variables que son listas de booleanos que indican True cuando el salario es mayor al salario promedio\n",
        "# y otras que indican True cuando el lenguaje de programación es alguno de los principales\n",
        "\n",
        "is_above_avg = df_lang['salary_monthly_NETO'] > avg_salary\n",
        "\n",
        "lang_python = (df_lang['programming_language'] == 'python')\n",
        "lang_bash = (df_lang['programming_language'] == 'bash/shell')\n",
        "lang_java = (df_lang['programming_language'] == 'java')\n",
        "lang_c_num = (df_lang['programming_language'] == 'c#')\n",
        "lang_javascr = (df_lang['programming_language'] == 'javascript')\n",
        "lang_sql = (df_lang['programming_language'] == 'sql')\n",
        "lang_net = (df_lang['programming_language'] == '.net')\n",
        "lang_php = (df_lang['programming_language'] == 'php')\n",
        "lang_html = (df_lang['programming_language'] == 'html')\n",
        "lang_css = (df_lang['programming_language'] == 'css')"
      ],
      "metadata": {
        "id": "iNkbK4fNRAUx"
      },
      "execution_count": null,
      "outputs": []
    },
    {
      "cell_type": "code",
      "source": [
        "#Se calculan las probabilidades condicionales de los lenguajes de programación y el salario medio\n",
        "p_condic_python = len(df_lang[is_above_avg & lang_python])/len(df_lang[lang_python])\n",
        "print('La probablidad condicional de python es:', p_condic_python)\n",
        "p_condic_bash = len(df_lang[is_above_avg & lang_bash])/len(df_lang[lang_bash])\n",
        "print('La probablidad condicional de bash/shell es:',p_condic_bash)\n",
        "p_condic_java = len(df_lang[is_above_avg & lang_java])/len(df_lang[lang_java])\n",
        "print('La probablidad condicional de java es:',p_condic_java)\n",
        "p_condic_c_num = len(df_lang[is_above_avg & lang_c_num])/len(df_lang[lang_c_num])\n",
        "print('La probablidad condicional de C# es:',p_condic_c_num)\n",
        "p_condic_javascr = len(df_lang[is_above_avg & lang_javascr])/len(df_lang[lang_javascr])\n",
        "print('La probablidad condicional de javascript es:',p_condic_javascr)\n",
        "p_condic_sql = len(df_lang[is_above_avg & lang_sql])/len(df_lang[lang_sql])\n",
        "print('La probablidad condicional de sql es:',p_condic_sql)\n",
        "p_condic_net = len(df_lang[is_above_avg & lang_net])/len(df_lang[lang_net])\n",
        "print('La probablidad condicional de net es:',p_condic_net)\n",
        "p_condic_php = len(df_lang[is_above_avg & lang_php])/len(df_lang[lang_php])\n",
        "print('La probablidad condicional de php es:',p_condic_php)\n",
        "p_condic_html = len(df_lang[is_above_avg & lang_html])/len(df_lang[lang_html])\n",
        "print('La probablidad condicional de html es:',p_condic_html)\n",
        "p_condic_css = len(df_lang[is_above_avg & lang_css])/len(df_lang[lang_css])\n",
        "print('La probablidad condicional de css es:',p_condic_css)"
      ],
      "metadata": {
        "colab": {
          "base_uri": "https://localhost:8080/"
        },
        "id": "VKfwsLsrRUKr",
        "outputId": "b95fb870-4580-4fb7-fcdf-f9051bfa7fe3"
      },
      "execution_count": null,
      "outputs": [
        {
          "output_type": "stream",
          "name": "stdout",
          "text": [
            "La probablidad condicional de python es: 0.5847145488029466\n",
            "La probablidad condicional de bash/shell es: 0.5997357992073976\n",
            "La probablidad condicional de java es: 0.5727190605239386\n",
            "La probablidad condicional de C# es: 0.4957410562180579\n",
            "La probablidad condicional de javascript es: 0.4887611082070047\n",
            "La probablidad condicional de sql es: 0.49598163030998854\n",
            "La probablidad condicional de net es: 0.5053763440860215\n",
            "La probablidad condicional de php es: 0.4371345029239766\n",
            "La probablidad condicional de html es: 0.442320819112628\n",
            "La probablidad condicional de css es: 0.434826883910387\n"
          ]
        }
      ]
    },
    {
      "cell_type": "markdown",
      "source": [
        "Analizando estos valores, los lenguajes que incrementan la probabilidad de ganar más del sueldo promedio son:\n",
        "\n",
        "1.   Bash/Shell  (0.5997 versus 0.5145)\n",
        "2.   Python (0.5847 versus 0.5145)\n",
        "3.   Java (0.5727 versus 0.5145)"
      ],
      "metadata": {
        "id": "fiScK2ogckwZ"
      }
    },
    {
      "cell_type": "code",
      "source": [
        "# Se crea un diccionario llamado \"data\" donde la key es el lenguaje y el value es la probabilidad condicional\n",
        "main_lang = ['javascript', 'sql', 'html', 'java', 'python', 'css', 'bash/shell', 'php', '.net', 'c#']\n",
        "values = [p_condic_javascr, p_condic_sql, p_condic_html, p_condic_java, p_condic_python, \n",
        "          p_condic_css, p_condic_bash, p_condic_php, p_condic_net, p_condic_c_num]\n",
        "\n",
        "data = {}\n",
        "for key in main_lang:\n",
        "    for value in values:\n",
        "        data[key] = value\n",
        "        values.remove(value)\n",
        "        break "
      ],
      "metadata": {
        "id": "XxhUCC-8R8gc"
      },
      "execution_count": null,
      "outputs": []
    },
    {
      "cell_type": "code",
      "source": [
        "data"
      ],
      "metadata": {
        "colab": {
          "base_uri": "https://localhost:8080/"
        },
        "id": "9r8NICD8SBuU",
        "outputId": "d2e3e607-1865-4a05-95b8-844dc8c5a44a"
      },
      "execution_count": null,
      "outputs": [
        {
          "output_type": "execute_result",
          "data": {
            "text/plain": [
              "{'.net': 0.5053763440860215,\n",
              " 'bash/shell': 0.5997357992073976,\n",
              " 'c#': 0.4957410562180579,\n",
              " 'css': 0.434826883910387,\n",
              " 'html': 0.442320819112628,\n",
              " 'java': 0.5727190605239386,\n",
              " 'javascript': 0.4887611082070047,\n",
              " 'php': 0.4371345029239766,\n",
              " 'python': 0.5847145488029466,\n",
              " 'sql': 0.49598163030998854}"
            ]
          },
          "metadata": {},
          "execution_count": 87
        }
      ]
    },
    {
      "cell_type": "code",
      "source": [
        "# Se ordenan los valores del diccionario de mayor a menor\n",
        "data\n",
        "sorted_data = {}\n",
        "sorted_keys = sorted(data, key=data.get)  \n",
        "for w in sorted_keys:\n",
        "    sorted_data[w] = data[w]\n",
        "\n",
        "print(sorted_data)"
      ],
      "metadata": {
        "colab": {
          "base_uri": "https://localhost:8080/"
        },
        "id": "NdQe9dpDSFb9",
        "outputId": "2569883b-ba46-45ca-f92f-dc1cdd508820"
      },
      "execution_count": null,
      "outputs": [
        {
          "output_type": "stream",
          "name": "stdout",
          "text": [
            "{'css': 0.434826883910387, 'php': 0.4371345029239766, 'html': 0.442320819112628, 'javascript': 0.4887611082070047, 'c#': 0.4957410562180579, 'sql': 0.49598163030998854, '.net': 0.5053763440860215, 'java': 0.5727190605239386, 'python': 0.5847145488029466, 'bash/shell': 0.5997357992073976}\n"
          ]
        }
      ]
    },
    {
      "cell_type": "code",
      "source": [
        "#Se grafican las probabilidades de tener un sueldo mayor al promedio dado \n",
        "#que la persona sabe cada uno de los lenguajes:\n",
        "languages = list(sorted_data.keys())\n",
        "values = list(sorted_data.values())\n",
        "\n",
        "fig = plt.figure(figsize = (20, 5))\n",
        "\n",
        "plt.bar(languages, values, color ='blue',\n",
        "        width = 0.4)\n",
        "plt.xlabel(\"Main languages\")\n",
        "plt.ylabel(\"Probabilidad condicional\")\n",
        "plt.show()\n"
      ],
      "metadata": {
        "colab": {
          "base_uri": "https://localhost:8080/",
          "height": 255
        },
        "id": "-zfQN8IoSLce",
        "outputId": "c83d5b0c-adca-4ba9-d60e-eae5dff41771"
      },
      "execution_count": null,
      "outputs": [
        {
          "output_type": "display_data",
          "data": {
            "text/plain": [
              "<Figure size 1440x360 with 1 Axes>"
            ],
            "image/png": "[encoded data removed]"
          },
          "metadata": {
            "needs_background": "light"
          }
        }
      ]
    },
    {
      "cell_type": "markdown",
      "source": [
        "1.   Bash/Shell  (0.5997 versus 0.5145)\n",
        "2.   Python (0.5847 versus 0.5145)\n",
        "3.   Java (0.5727 versus 0.5145)\n",
        "\n",
        "Por lo tanto la probabilidad de tener un sueldo mayor al sueldo promedio es mayor si se conocen esos lenguajes de programación.\n",
        "*************************************************\n",
        "\n"
      ],
      "metadata": {
        "id": "-J-UGZPWhNfh"
      }
    },
    {
      "cell_type": "markdown",
      "source": [
        "Es interesante tambien por ejemplo, analizar cómo son las probabilidades condicionales de los lenguajes de programación pero ahora considerando que se quiere ganar un 25% más del valor del sueldo promedio:"
      ],
      "metadata": {
        "id": "8LokFLQSePGK"
      }
    },
    {
      "cell_type": "code",
      "source": [
        "# Se calcula un sueldo sea un 25% mayor que el sueldo promedio\n",
        "quarter_plus_avg = avg_salary + 0.25*avg_salary\n",
        "quarter_plus_avg"
      ],
      "metadata": {
        "colab": {
          "base_uri": "https://localhost:8080/"
        },
        "id": "zM42yM-eQZ4W",
        "outputId": "bd189cca-d437-4959-af21-34a7b59e39c3"
      },
      "execution_count": null,
      "outputs": [
        {
          "output_type": "execute_result",
          "data": {
            "text/plain": [
              "91801.18173817957"
            ]
          },
          "metadata": {},
          "execution_count": 91
        }
      ]
    },
    {
      "cell_type": "code",
      "source": [
        "# Se calcula la probabilidad de que un sueldo sea un 25% mayor que el sueldo promedio\n",
        "prob_above_quarter_plus= len(df_lang[df_lang['salary_monthly_NETO'] >= quarter_plus_avg]) /len(df_lang)  \n",
        "prob_above_quarter_plus"
      ],
      "metadata": {
        "colab": {
          "base_uri": "https://localhost:8080/"
        },
        "id": "36tC0Gy4Ql5-",
        "outputId": "85d09924-8f2e-43e1-b198-f1b8c4c5da82"
      },
      "execution_count": null,
      "outputs": [
        {
          "output_type": "execute_result",
          "data": {
            "text/plain": [
              "0.289647657101344"
            ]
          },
          "metadata": {},
          "execution_count": 92
        }
      ]
    },
    {
      "cell_type": "markdown",
      "source": [
        "La probablidad de ganar un 25% más que el sueldo promedio (91.801 pesos) en el data frame estudiado es del 28.96%\n",
        "*************************************************"
      ],
      "metadata": {
        "id": "dKbOj-hnh49k"
      }
    },
    {
      "cell_type": "code",
      "source": [
        "#Se calculan las probabilidades condicionales de los lenguajes de programación y el salario un 25% mayor al sueldo medio:\n",
        "\n",
        "is_above_quarter_plus = df_lang['salary_monthly_NETO'] > quarter_plus_avg\n",
        "\n",
        "p_condic_python = len(df_lang[is_above_quarter_plus & lang_python])/len(df_lang[lang_python])\n",
        "print('La probablidad condicional de python es:', p_condic_python)\n",
        "p_condic_bash = len(df_lang[is_above_quarter_plus & lang_bash])/len(df_lang[lang_bash])\n",
        "print('La probablidad condicional de bash/shell es:',p_condic_bash)\n",
        "p_condic_java = len(df_lang[is_above_quarter_plus & lang_java])/len(df_lang[lang_java])\n",
        "print('La probablidad condicional de java es:',p_condic_java)\n",
        "p_condic_c_num = len(df_lang[is_above_quarter_plus & lang_c_num])/len(df_lang[lang_c_num])\n",
        "print('La probablidad condicional de C# es:',p_condic_c_num)\n",
        "p_condic_javascr = len(df_lang[is_above_quarter_plus & lang_javascr])/len(df_lang[lang_javascr])\n",
        "print('La probablidad condicional de javascript es:',p_condic_javascr)\n",
        "p_condic_sql = len(df_lang[is_above_quarter_plus & lang_sql])/len(df_lang[lang_sql])\n",
        "print('La probablidad condicional de sql es:',p_condic_sql)\n",
        "p_condic_net = len(df_lang[is_above_quarter_plus & lang_net])/len(df_lang[lang_net])\n",
        "print('La probablidad condicional de net es:',p_condic_net)\n",
        "p_condic_php = len(df_lang[is_above_quarter_plus & lang_php])/len(df_lang[lang_php])\n",
        "print('La probablidad condicional de php es:',p_condic_php)\n",
        "p_condic_html = len(df_lang[is_above_quarter_plus & lang_html])/len(df_lang[lang_html])\n",
        "print('La probablidad condicional de html es:',p_condic_html)\n",
        "p_condic_css = len(df_lang[is_above_quarter_plus & lang_css])/len(df_lang[lang_css])\n",
        "print('La probablidad condicional de css es:',p_condic_css)"
      ],
      "metadata": {
        "colab": {
          "base_uri": "https://localhost:8080/"
        },
        "id": "X-0J1BS_eN_g",
        "outputId": "f0a4974d-af7c-49ba-958d-3ae7cbef3465"
      },
      "execution_count": null,
      "outputs": [
        {
          "output_type": "stream",
          "name": "stdout",
          "text": [
            "La probablidad condicional de python es: 0.34898710865561694\n",
            "La probablidad condicional de bash/shell es: 0.3619550858652576\n",
            "La probablidad condicional de java es: 0.34959349593495936\n",
            "La probablidad condicional de C# es: 0.24872231686541738\n",
            "La probablidad condicional de javascript es: 0.2692106638787245\n",
            "La probablidad condicional de sql es: 0.2766934557979334\n",
            "La probablidad condicional de net es: 0.250384024577573\n",
            "La probablidad condicional de php es: 0.23684210526315788\n",
            "La probablidad condicional de html es: 0.23208191126279865\n",
            "La probablidad condicional de css es: 0.23930753564154786\n"
          ]
        }
      ]
    },
    {
      "cell_type": "markdown",
      "source": [
        "Analizando estos valores, los lenguajes que incrementan la probabilidad de ganar más del 25% del sueldo promedio son:\n",
        "\n",
        "1.   Bash/Shell  (0.3619 versus 0.2896)\n",
        "2.   Java (0.3496 versus 0.2896)\n",
        "3.   Python (0.3490 versus 0.2896)\n",
        "\n",
        "\n",
        "Se mantiene la misma tendencia en los lenguajes de programación, si se considera la probabilidad de ganar un sueldo que es un 25% mayor al sueldo promedio.\n",
        "*************************************************"
      ],
      "metadata": {
        "id": "g8le6_GNfLP-"
      }
    },
    {
      "cell_type": "markdown",
      "source": [
        "# ANALISIS ANEXO"
      ],
      "metadata": {
        "id": "-N_ef_FBy-q5"
      }
    },
    {
      "cell_type": "markdown",
      "source": [
        "# a) Subpoblación con salarios mayores a valor máximo elegido"
      ],
      "metadata": {
        "id": "s2g07VjOTAIF"
      }
    },
    {
      "cell_type": "markdown",
      "source": [
        "Se realiza un análisis adicional para determinar qué sucede con la subpoblación de programadores que ganan más del salario máximo definido previamente de 130.000 pesos\n",
        "\n",
        "Se crea un nuevo dataframe (df_modif_1) con esta subpoblación."
      ],
      "metadata": {
        "id": "4HZhJMSQS_lx"
      }
    },
    {
      "cell_type": "code",
      "source": [
        "# Se define el nuevo dataframe a analizar incluyendo solo los valores mayores al limite superior\n",
        "df_modif_1 = df[(df['salary_monthly_NETO'] > 130000)]\n"
      ],
      "metadata": {
        "id": "99HeRvkfTfM9"
      },
      "execution_count": null,
      "outputs": []
    },
    {
      "cell_type": "code",
      "source": [
        "df_modif_1.shape"
      ],
      "metadata": {
        "colab": {
          "base_uri": "https://localhost:8080/"
        },
        "id": "A9TzBRxUVoRu",
        "outputId": "5cfbe161-44fb-48bc-eb68-8b163ca97d20"
      },
      "execution_count": null,
      "outputs": [
        {
          "output_type": "execute_result",
          "data": {
            "text/plain": [
              "(823, 48)"
            ]
          },
          "metadata": {},
          "execution_count": 96
        }
      ]
    },
    {
      "cell_type": "markdown",
      "source": [
        "Se puede ver que hay 823 programadores que cobran más que el valor máximo definido.\n",
        "Se repite el análisis previo para esta sub-población y se busca analizar si se repiten las tendencias observadas para los lenguajes de programación \"mejores pagos\""
      ],
      "metadata": {
        "id": "yHgHVZowVsCR"
      }
    },
    {
      "cell_type": "code",
      "source": [
        "#VISUALIZACIÓN DE DATOS: Histograma de columna \"salary_neto\" para subpoblación de programadores que ganan más de 150.000 pesos\n",
        "seaborn.displot(df_modif_1[\"salary_monthly_NETO\"], aspect=3, bins = 60, color='blue') \n",
        "plt.ticklabel_format(style='plain', axis='x')"
      ],
      "metadata": {
        "colab": {
          "base_uri": "https://localhost:8080/",
          "height": 292
        },
        "id": "sCjqPwPc9SXd",
        "outputId": "590764b3-d021-418e-f887-6d1b7c092b07"
      },
      "execution_count": null,
      "outputs": [
        {
          "output_type": "display_data",
          "data": {
            "text/plain": [
              "<Figure size 1080x360 with 1 Axes>"
            ],
            "image/png": "[encoded data removed]"
          },
          "metadata": {
            "needs_background": "light"
          }
        }
      ]
    },
    {
      "cell_type": "code",
      "source": [
        "df_modif_1[['salary_monthly_NETO']].describe().round()"
      ],
      "metadata": {
        "colab": {
          "base_uri": "https://localhost:8080/",
          "height": 300
        },
        "id": "4jFnOXHO9KrR",
        "outputId": "ac2fac94-11b3-4823-e444-81901b5c8174"
      },
      "execution_count": null,
      "outputs": [
        {
          "output_type": "execute_result",
          "data": {
            "text/plain": [
              "       salary_monthly_NETO\n",
              "count                823.0\n",
              "mean              248744.0\n",
              "std               184056.0\n",
              "min               130401.0\n",
              "25%               150000.0\n",
              "50%               180000.0\n",
              "75%               280000.0\n",
              "max              2080000.0"
            ],
            "text/html": [
              "\n",
              "  <div id=\"df-2650c371-5be2-4c98-8a31-803e170f9061\">\n",
              "    <div class=\"colab-df-container\">\n",
              "      <div>\n",
              "<style scoped>\n",
              "    .dataframe tbody tr th:only-of-type {\n",
              "        vertical-align: middle;\n",
              "    }\n",
              "\n",
              "    .dataframe tbody tr th {\n",
              "        vertical-align: top;\n",
              "    }\n",
              "\n",
              "    .dataframe thead th {\n",
              "        text-align: right;\n",
              "    }\n",
              "</style>\n",
              "<table border=\"1\" class=\"dataframe\">\n",
              "  <thead>\n",
              "    <tr style=\"text-align: right;\">\n",
              "      <th></th>\n",
              "      <th>salary_monthly_NETO</th>\n",
              "    </tr>\n",
              "  </thead>\n",
              "  <tbody>\n",
              "    <tr>\n",
              "      <th>count</th>\n",
              "      <td>823.0</td>\n",
              "    </tr>\n",
              "    <tr>\n",
              "      <th>mean</th>\n",
              "      <td>248744.0</td>\n",
              "    </tr>\n",
              "    <tr>\n",
              "      <th>std</th>\n",
              "      <td>184056.0</td>\n",
              "    </tr>\n",
              "    <tr>\n",
              "      <th>min</th>\n",
              "      <td>130401.0</td>\n",
              "    </tr>\n",
              "    <tr>\n",
              "      <th>25%</th>\n",
              "      <td>150000.0</td>\n",
              "    </tr>\n",
              "    <tr>\n",
              "      <th>50%</th>\n",
              "      <td>180000.0</td>\n",
              "    </tr>\n",
              "    <tr>\n",
              "      <th>75%</th>\n",
              "      <td>280000.0</td>\n",
              "    </tr>\n",
              "    <tr>\n",
              "      <th>max</th>\n",
              "      <td>2080000.0</td>\n",
              "    </tr>\n",
              "  </tbody>\n",
              "</table>\n",
              "</div>\n",
              "      <button class=\"colab-df-convert\" onclick=\"convertToInteractive('df-2650c371-5be2-4c98-8a31-803e170f9061')\"\n",
              "              title=\"Convert this dataframe to an interactive table.\"\n",
              "              style=\"display:none;\">\n",
              "        \n",
              "  <svg xmlns=\"http://www.w3.org/2000/svg\" height=\"24px\"viewBox=\"0 0 24 24\"\n",
              "       width=\"24px\">\n",
              "    <path d=\"M0 0h24v24H0V0z\" fill=\"none\"/>\n",
              "    <path d=\"M18.56 5.44l.94 2.06.94-2.06 2.06-.94-2.06-.94-.94-2.06-.94 2.06-2.06.94zm-11 1L8.5 8.5l.94-2.06 2.06-.94-2.06-.94L8.5 2.5l-.94 2.06-2.06.94zm10 10l.94 2.06.94-2.06 2.06-.94-2.06-.94-.94-2.06-.94 2.06-2.06.94z\"/><path d=\"M17.41 7.96l-1.37-1.37c-.4-.4-.92-.59-1.43-.59-.52 0-1.04.2-1.43.59L10.3 9.45l-7.72 7.72c-.78.78-.78 2.05 0 2.83L4 21.41c.39.39.9.59 1.41.59.51 0 1.02-.2 1.41-.59l7.78-7.78 2.81-2.81c.8-.78.8-2.07 0-2.86zM5.41 20L4 18.59l7.72-7.72 1.47 1.35L5.41 20z\"/>\n",
              "  </svg>\n",
              "      </button>\n",
              "      \n",
              "  <style>\n",
              "    .colab-df-container {\n",
              "      display:flex;\n",
              "      flex-wrap:wrap;\n",
              "      gap: 12px;\n",
              "    }\n",
              "\n",
              "    .colab-df-convert {\n",
              "      background-color: #E8F0FE;\n",
              "      border: none;\n",
              "      border-radius: 50%;\n",
              "      cursor: pointer;\n",
              "      display: none;\n",
              "      fill: #1967D2;\n",
              "      height: 32px;\n",
              "      padding: 0 0 0 0;\n",
              "      width: 32px;\n",
              "    }\n",
              "\n",
              "    .colab-df-convert:hover {\n",
              "      background-color: #E2EBFA;\n",
              "      box-shadow: 0px 1px 2px rgba(60, 64, 67, 0.3), 0px 1px 3px 1px rgba(60, 64, 67, 0.15);\n",
              "      fill: #174EA6;\n",
              "    }\n",
              "\n",
              "    [theme=dark] .colab-df-convert {\n",
              "      background-color: #3B4455;\n",
              "      fill: #D2E3FC;\n",
              "    }\n",
              "\n",
              "    [theme=dark] .colab-df-convert:hover {\n",
              "      background-color: #434B5C;\n",
              "      box-shadow: 0px 1px 3px 1px rgba(0, 0, 0, 0.15);\n",
              "      filter: drop-shadow(0px 1px 2px rgba(0, 0, 0, 0.3));\n",
              "      fill: #FFFFFF;\n",
              "    }\n",
              "  </style>\n",
              "\n",
              "      <script>\n",
              "        const buttonEl =\n",
              "          document.querySelector('#df-2650c371-5be2-4c98-8a31-803e170f9061 button.colab-df-convert');\n",
              "        buttonEl.style.display =\n",
              "          google.colab.kernel.accessAllowed ? 'block' : 'none';\n",
              "\n",
              "        async function convertToInteractive(key) {\n",
              "          const element = document.querySelector('#df-2650c371-5be2-4c98-8a31-803e170f9061');\n",
              "          const dataTable =\n",
              "            await google.colab.kernel.invokeFunction('convertToInteractive',\n",
              "                                                     [key], {});\n",
              "          if (!dataTable) return;\n",
              "\n",
              "          const docLinkHtml = 'Like what you see? Visit the ' +\n",
              "            '<a target=\"_blank\" href=https://colab.research.google.com/notebooks/data_table.ipynb>data table notebook</a>'\n",
              "            + ' to learn more about interactive tables.';\n",
              "          element.innerHTML = '';\n",
              "          dataTable['output_type'] = 'display_data';\n",
              "          await google.colab.output.renderOutput(dataTable, element);\n",
              "          const docLink = document.createElement('div');\n",
              "          docLink.innerHTML = docLinkHtml;\n",
              "          element.appendChild(docLink);\n",
              "        }\n",
              "      </script>\n",
              "    </div>\n",
              "  </div>\n",
              "  "
            ]
          },
          "metadata": {},
          "execution_count": 98
        }
      ]
    },
    {
      "cell_type": "code",
      "source": [
        "df_modif_1['salary_monthly_NETO'].median()"
      ],
      "metadata": {
        "colab": {
          "base_uri": "https://localhost:8080/"
        },
        "id": "fIePU-V99lIj",
        "outputId": "ebf81fed-1be7-44da-f3fd-37fce00c2272"
      },
      "execution_count": null,
      "outputs": [
        {
          "output_type": "execute_result",
          "data": {
            "text/plain": [
              "180000.0"
            ]
          },
          "metadata": {},
          "execution_count": 99
        }
      ]
    },
    {
      "cell_type": "code",
      "source": [
        "df_modif_1.salary_monthly_NETO.min(), df_modif_1.salary_monthly_NETO.max()"
      ],
      "metadata": {
        "colab": {
          "base_uri": "https://localhost:8080/"
        },
        "id": "kPfrXdybA1fv",
        "outputId": "a5b45c0a-b686-4ce0-da21-995ea9bb84bc"
      },
      "execution_count": null,
      "outputs": [
        {
          "output_type": "execute_result",
          "data": {
            "text/plain": [
              "(130401.0, 2080000.0)"
            ]
          },
          "metadata": {},
          "execution_count": 100
        }
      ]
    },
    {
      "cell_type": "markdown",
      "source": [
        "Podemos ver que en el df con la subpoblación analizada, el valor mínimo de salario neto es de 130.401 pesos y el máximo de 2.080.000 pesos. Valor que afecta el cálculo de la media.\n",
        "\n",
        "Para poder calcular las probabilidades condicionales más adelante, asumimos que el valor máximo de salario para esta sub-población es un dato atípico y no es representativo de la misma, por lo tanto lo vamos a excluir del análisis. "
      ],
      "metadata": {
        "id": "OVJfgQI9UgiF"
      }
    },
    {
      "cell_type": "code",
      "source": [
        "#Eliminación de outlier superior en sub-población \n",
        "df_modif_1 = df[(df['salary_monthly_NETO'] > 130000) & (df['salary_monthly_NETO'] < 2080000.0)]\n",
        "df_modif_1.shape"
      ],
      "metadata": {
        "colab": {
          "base_uri": "https://localhost:8080/"
        },
        "id": "-0zeoTlfBRat",
        "outputId": "e96adb78-cdb0-4778-f897-ffb803e3197c"
      },
      "execution_count": null,
      "outputs": [
        {
          "output_type": "execute_result",
          "data": {
            "text/plain": [
              "(822, 48)"
            ]
          },
          "metadata": {},
          "execution_count": 101
        }
      ]
    },
    {
      "cell_type": "markdown",
      "source": [
        "La subpoblación ahora del df_modif_1 entonces tiene 822 programadores."
      ],
      "metadata": {
        "id": "idNd6OaABSZl"
      }
    },
    {
      "cell_type": "code",
      "source": [
        "df_modif_1[['salary_monthly_NETO']].describe().round()"
      ],
      "metadata": {
        "colab": {
          "base_uri": "https://localhost:8080/",
          "height": 300
        },
        "id": "um0InSvAXkNN",
        "outputId": "dc0d8812-522e-429c-83d9-c6faf50e173b"
      },
      "execution_count": null,
      "outputs": [
        {
          "output_type": "execute_result",
          "data": {
            "text/plain": [
              "       salary_monthly_NETO\n",
              "count                822.0\n",
              "mean              246516.0\n",
              "std               172708.0\n",
              "min               130401.0\n",
              "25%               150000.0\n",
              "50%               180000.0\n",
              "75%               279750.0\n",
              "max              1600000.0"
            ],
            "text/html": [
              "\n",
              "  <div id=\"df-c2a0dfba-8dfb-496f-96ca-37f38dcbfbb0\">\n",
              "    <div class=\"colab-df-container\">\n",
              "      <div>\n",
              "<style scoped>\n",
              "    .dataframe tbody tr th:only-of-type {\n",
              "        vertical-align: middle;\n",
              "    }\n",
              "\n",
              "    .dataframe tbody tr th {\n",
              "        vertical-align: top;\n",
              "    }\n",
              "\n",
              "    .dataframe thead th {\n",
              "        text-align: right;\n",
              "    }\n",
              "</style>\n",
              "<table border=\"1\" class=\"dataframe\">\n",
              "  <thead>\n",
              "    <tr style=\"text-align: right;\">\n",
              "      <th></th>\n",
              "      <th>salary_monthly_NETO</th>\n",
              "    </tr>\n",
              "  </thead>\n",
              "  <tbody>\n",
              "    <tr>\n",
              "      <th>count</th>\n",
              "      <td>822.0</td>\n",
              "    </tr>\n",
              "    <tr>\n",
              "      <th>mean</th>\n",
              "      <td>246516.0</td>\n",
              "    </tr>\n",
              "    <tr>\n",
              "      <th>std</th>\n",
              "      <td>172708.0</td>\n",
              "    </tr>\n",
              "    <tr>\n",
              "      <th>min</th>\n",
              "      <td>130401.0</td>\n",
              "    </tr>\n",
              "    <tr>\n",
              "      <th>25%</th>\n",
              "      <td>150000.0</td>\n",
              "    </tr>\n",
              "    <tr>\n",
              "      <th>50%</th>\n",
              "      <td>180000.0</td>\n",
              "    </tr>\n",
              "    <tr>\n",
              "      <th>75%</th>\n",
              "      <td>279750.0</td>\n",
              "    </tr>\n",
              "    <tr>\n",
              "      <th>max</th>\n",
              "      <td>1600000.0</td>\n",
              "    </tr>\n",
              "  </tbody>\n",
              "</table>\n",
              "</div>\n",
              "      <button class=\"colab-df-convert\" onclick=\"convertToInteractive('df-c2a0dfba-8dfb-496f-96ca-37f38dcbfbb0')\"\n",
              "              title=\"Convert this dataframe to an interactive table.\"\n",
              "              style=\"display:none;\">\n",
              "        \n",
              "  <svg xmlns=\"http://www.w3.org/2000/svg\" height=\"24px\"viewBox=\"0 0 24 24\"\n",
              "       width=\"24px\">\n",
              "    <path d=\"M0 0h24v24H0V0z\" fill=\"none\"/>\n",
              "    <path d=\"M18.56 5.44l.94 2.06.94-2.06 2.06-.94-2.06-.94-.94-2.06-.94 2.06-2.06.94zm-11 1L8.5 8.5l.94-2.06 2.06-.94-2.06-.94L8.5 2.5l-.94 2.06-2.06.94zm10 10l.94 2.06.94-2.06 2.06-.94-2.06-.94-.94-2.06-.94 2.06-2.06.94z\"/><path d=\"M17.41 7.96l-1.37-1.37c-.4-.4-.92-.59-1.43-.59-.52 0-1.04.2-1.43.59L10.3 9.45l-7.72 7.72c-.78.78-.78 2.05 0 2.83L4 21.41c.39.39.9.59 1.41.59.51 0 1.02-.2 1.41-.59l7.78-7.78 2.81-2.81c.8-.78.8-2.07 0-2.86zM5.41 20L4 18.59l7.72-7.72 1.47 1.35L5.41 20z\"/>\n",
              "  </svg>\n",
              "      </button>\n",
              "      \n",
              "  <style>\n",
              "    .colab-df-container {\n",
              "      display:flex;\n",
              "      flex-wrap:wrap;\n",
              "      gap: 12px;\n",
              "    }\n",
              "\n",
              "    .colab-df-convert {\n",
              "      background-color: #E8F0FE;\n",
              "      border: none;\n",
              "      border-radius: 50%;\n",
              "      cursor: pointer;\n",
              "      display: none;\n",
              "      fill: #1967D2;\n",
              "      height: 32px;\n",
              "      padding: 0 0 0 0;\n",
              "      width: 32px;\n",
              "    }\n",
              "\n",
              "    .colab-df-convert:hover {\n",
              "      background-color: #E2EBFA;\n",
              "      box-shadow: 0px 1px 2px rgba(60, 64, 67, 0.3), 0px 1px 3px 1px rgba(60, 64, 67, 0.15);\n",
              "      fill: #174EA6;\n",
              "    }\n",
              "\n",
              "    [theme=dark] .colab-df-convert {\n",
              "      background-color: #3B4455;\n",
              "      fill: #D2E3FC;\n",
              "    }\n",
              "\n",
              "    [theme=dark] .colab-df-convert:hover {\n",
              "      background-color: #434B5C;\n",
              "      box-shadow: 0px 1px 3px 1px rgba(0, 0, 0, 0.15);\n",
              "      filter: drop-shadow(0px 1px 2px rgba(0, 0, 0, 0.3));\n",
              "      fill: #FFFFFF;\n",
              "    }\n",
              "  </style>\n",
              "\n",
              "      <script>\n",
              "        const buttonEl =\n",
              "          document.querySelector('#df-c2a0dfba-8dfb-496f-96ca-37f38dcbfbb0 button.colab-df-convert');\n",
              "        buttonEl.style.display =\n",
              "          google.colab.kernel.accessAllowed ? 'block' : 'none';\n",
              "\n",
              "        async function convertToInteractive(key) {\n",
              "          const element = document.querySelector('#df-c2a0dfba-8dfb-496f-96ca-37f38dcbfbb0');\n",
              "          const dataTable =\n",
              "            await google.colab.kernel.invokeFunction('convertToInteractive',\n",
              "                                                     [key], {});\n",
              "          if (!dataTable) return;\n",
              "\n",
              "          const docLinkHtml = 'Like what you see? Visit the ' +\n",
              "            '<a target=\"_blank\" href=https://colab.research.google.com/notebooks/data_table.ipynb>data table notebook</a>'\n",
              "            + ' to learn more about interactive tables.';\n",
              "          element.innerHTML = '';\n",
              "          dataTable['output_type'] = 'display_data';\n",
              "          await google.colab.output.renderOutput(dataTable, element);\n",
              "          const docLink = document.createElement('div');\n",
              "          docLink.innerHTML = docLinkHtml;\n",
              "          element.appendChild(docLink);\n",
              "        }\n",
              "      </script>\n",
              "    </div>\n",
              "  </div>\n",
              "  "
            ]
          },
          "metadata": {},
          "execution_count": 103
        }
      ]
    },
    {
      "cell_type": "code",
      "source": [
        "df_modif_1['salary_monthly_NETO'].median()"
      ],
      "metadata": {
        "colab": {
          "base_uri": "https://localhost:8080/"
        },
        "id": "qPvZrm-FejHC",
        "outputId": "6bbc4d43-e03a-4999-a908-116ed89b5517"
      },
      "execution_count": null,
      "outputs": [
        {
          "output_type": "execute_result",
          "data": {
            "text/plain": [
              "180000.0"
            ]
          },
          "metadata": {},
          "execution_count": 104
        }
      ]
    },
    {
      "cell_type": "code",
      "source": [
        "df_modif_1.salary_monthly_NETO.min(), df_modif_1.salary_monthly_NETO.max()"
      ],
      "metadata": {
        "colab": {
          "base_uri": "https://localhost:8080/"
        },
        "id": "tPOOLcrGfM-w",
        "outputId": "2eb6c057-d22b-4201-928b-091bd02faedd"
      },
      "execution_count": null,
      "outputs": [
        {
          "output_type": "execute_result",
          "data": {
            "text/plain": [
              "(130401.0, 1600000.0)"
            ]
          },
          "metadata": {},
          "execution_count": 105
        }
      ]
    },
    {
      "cell_type": "markdown",
      "source": [
        "Si bien se eliminó el valor atípico de 2.080.000 pesos (el nuevo valor máximo sigue siendo muy superior a la media de los datos 1.600.000 pesos).\n",
        "\n",
        "La distribución de los sueldos de esta sub-población NO es simétrica, ya que sigue existiendo la cola hacia el lado derecho en el histograma mostrado previamente.\n",
        "\n",
        "Los valores de la media (246.516 pesos) y mediana (180.000) son muy diferentes.\n",
        "\n",
        "Sin embargo se tomarán todos los datos (822 respuestas) para el análisis de las probabilidades condicionales, considerando que es una muestra muy pequeña y NO es representativa de gran parte de la población encuestada (analizada previamente)\n",
        "\n",
        "Simplemente es de interés detectar cuáles son los lenguajes de programación asociados a esta subpoblación de programadores que ganan más que 130.000 pesos\n",
        "*************************************************"
      ],
      "metadata": {
        "id": "EXVdRxhIenLG"
      }
    },
    {
      "cell_type": "markdown",
      "source": [
        "# b) Lenguajes más populares en sub-población "
      ],
      "metadata": {
        "id": "kYOtSiAQXB02"
      }
    },
    {
      "cell_type": "markdown",
      "source": [
        "Nuevamente, es de interés separar la lista de lenguajes de programación de modo que se pueda contabilizar sus frecuencias en la sub-población:"
      ],
      "metadata": {
        "id": "cjLgj1AoOfod"
      }
    },
    {
      "cell_type": "code",
      "source": [
        "# Convert the comma-separated string of languages to a list of string.\n",
        "# Remove 'ninguno de los anteriores' option, spaces and training commas.\n",
        "def split_languages(languages_str):\n",
        "  if not isinstance(languages_str, str):\n",
        "    return []\n",
        "  # Remove 'other' option\n",
        "  languages_str = languages_str.lower()\\\n",
        "    .replace('ninguno de los anteriores', '')\n",
        "  # Split string into list of items\n",
        "  # Remove spaces and commas for each item\n",
        "  return [lang.strip().replace(',', '')\n",
        "          for lang in languages_str.split()]\n",
        "\n",
        "# Create a new column with the list of languages\n",
        "df_modif_1.loc[:, 'cured_programming_languages'] = df_modif_1.tools_programming_languages\\\n",
        "    .apply(split_languages)\n",
        "if 'cured_programming_languages' not in relevant_columns:\n",
        "    relevant_columns.append('cured_programming_languages') \n",
        "\n",
        "# Duplicate each row of df for each programming language\n",
        "# mentioned in the response.\n",
        "# We only include in df_lang the columns we are going to analyze later, so we\n",
        "# don't duplicate innecesary information.\n",
        "df_lang_1 = df_modif_1.cured_programming_languages\\\n",
        "    .apply(pd.Series).stack()\\\n",
        "    .reset_index(level=-1, drop=True).to_frame()\\\n",
        "    .join(df_modif_1[relevant_columns])\\\n",
        "    .rename(columns={0: 'programming_language'})\n",
        "# Horrible programming style! But a lot of data science code can be written with\n",
        "# as concatenations of functions (pipelines), and there's no elegant way of\n",
        "# doing that on Python."
      ],
      "metadata": {
        "colab": {
          "base_uri": "https://localhost:8080/"
        },
        "outputId": "beb68ac6-043b-4909-db71-1e454e3de8f6",
        "id": "zCI3tIGQDL44"
      },
      "execution_count": null,
      "outputs": [
        {
          "output_type": "stream",
          "name": "stderr",
          "text": [
            "/usr/local/lib/python3.7/dist-packages/pandas/core/indexing.py:1667: SettingWithCopyWarning: \n",
            "A value is trying to be set on a copy of a slice from a DataFrame.\n",
            "Try using .loc[row_indexer,col_indexer] = value instead\n",
            "\n",
            "See the caveats in the documentation: https://pandas.pydata.org/pandas-docs/stable/user_guide/indexing.html#returning-a-view-versus-a-copy\n",
            "  self.obj[key] = value\n"
          ]
        }
      ]
    },
    {
      "cell_type": "code",
      "source": [
        "print(df_modif_1.shape)\n",
        "print(df_lang_1.shape)"
      ],
      "metadata": {
        "colab": {
          "base_uri": "https://localhost:8080/"
        },
        "outputId": "3cf5a308-c410-402e-d207-1114eaf2d58a",
        "id": "9zBnRpTFDL47"
      },
      "execution_count": null,
      "outputs": [
        {
          "output_type": "stream",
          "name": "stdout",
          "text": [
            "(822, 49)\n",
            "(2825, 4)\n"
          ]
        }
      ]
    },
    {
      "cell_type": "markdown",
      "source": [
        "Se creó un data frame (df_lang_1) que tiene separados los lenguajes de programación, se pasó de un df de 822 respuestas a uno de 2825, teniendo en cuenta que algunos programadores manejan más de un lenguaje de programación."
      ],
      "metadata": {
        "id": "Mot5k_vKEJ5B"
      }
    },
    {
      "cell_type": "code",
      "source": [
        "# Se quiere obtener los 20 lenguajes de programación más populares en el df_lang_1\n",
        "language_count_1 = df_lang_1.programming_language.value_counts()\\\n",
        "    .reset_index()\\\n",
        "    .rename(columns={'index': 'language', 'programming_language': 'frequency'})\n",
        "language_count_1[:10]"
      ],
      "metadata": {
        "colab": {
          "base_uri": "https://localhost:8080/",
          "height": 363
        },
        "id": "ZqKOTo0IV8Wf",
        "outputId": "4283c5ad-b6b5-4e39-fa76-aa2debb3be51"
      },
      "execution_count": null,
      "outputs": [
        {
          "output_type": "execute_result",
          "data": {
            "text/plain": [
              "     language  frequency\n",
              "0  javascript        396\n",
              "1      python        286\n",
              "2         sql        257\n",
              "3        java        245\n",
              "4        html        239\n",
              "5  bash/shell        181\n",
              "6         css        156\n",
              "7  typescript        143\n",
              "8         php        135\n",
              "9        .net        105"
            ],
            "text/html": [
              "\n",
              "  <div id=\"df-f57a49de-bf6b-4056-bea6-3f486f1ead16\">\n",
              "    <div class=\"colab-df-container\">\n",
              "      <div>\n",
              "<style scoped>\n",
              "    .dataframe tbody tr th:only-of-type {\n",
              "        vertical-align: middle;\n",
              "    }\n",
              "\n",
              "    .dataframe tbody tr th {\n",
              "        vertical-align: top;\n",
              "    }\n",
              "\n",
              "    .dataframe thead th {\n",
              "        text-align: right;\n",
              "    }\n",
              "</style>\n",
              "<table border=\"1\" class=\"dataframe\">\n",
              "  <thead>\n",
              "    <tr style=\"text-align: right;\">\n",
              "      <th></th>\n",
              "      <th>language</th>\n",
              "      <th>frequency</th>\n",
              "    </tr>\n",
              "  </thead>\n",
              "  <tbody>\n",
              "    <tr>\n",
              "      <th>0</th>\n",
              "      <td>javascript</td>\n",
              "      <td>396</td>\n",
              "    </tr>\n",
              "    <tr>\n",
              "      <th>1</th>\n",
              "      <td>python</td>\n",
              "      <td>286</td>\n",
              "    </tr>\n",
              "    <tr>\n",
              "      <th>2</th>\n",
              "      <td>sql</td>\n",
              "      <td>257</td>\n",
              "    </tr>\n",
              "    <tr>\n",
              "      <th>3</th>\n",
              "      <td>java</td>\n",
              "      <td>245</td>\n",
              "    </tr>\n",
              "    <tr>\n",
              "      <th>4</th>\n",
              "      <td>html</td>\n",
              "      <td>239</td>\n",
              "    </tr>\n",
              "    <tr>\n",
              "      <th>5</th>\n",
              "      <td>bash/shell</td>\n",
              "      <td>181</td>\n",
              "    </tr>\n",
              "    <tr>\n",
              "      <th>6</th>\n",
              "      <td>css</td>\n",
              "      <td>156</td>\n",
              "    </tr>\n",
              "    <tr>\n",
              "      <th>7</th>\n",
              "      <td>typescript</td>\n",
              "      <td>143</td>\n",
              "    </tr>\n",
              "    <tr>\n",
              "      <th>8</th>\n",
              "      <td>php</td>\n",
              "      <td>135</td>\n",
              "    </tr>\n",
              "    <tr>\n",
              "      <th>9</th>\n",
              "      <td>.net</td>\n",
              "      <td>105</td>\n",
              "    </tr>\n",
              "  </tbody>\n",
              "</table>\n",
              "</div>\n",
              "      <button class=\"colab-df-convert\" onclick=\"convertToInteractive('df-f57a49de-bf6b-4056-bea6-3f486f1ead16')\"\n",
              "              title=\"Convert this dataframe to an interactive table.\"\n",
              "              style=\"display:none;\">\n",
              "        \n",
              "  <svg xmlns=\"http://www.w3.org/2000/svg\" height=\"24px\"viewBox=\"0 0 24 24\"\n",
              "       width=\"24px\">\n",
              "    <path d=\"M0 0h24v24H0V0z\" fill=\"none\"/>\n",
              "    <path d=\"M18.56 5.44l.94 2.06.94-2.06 2.06-.94-2.06-.94-.94-2.06-.94 2.06-2.06.94zm-11 1L8.5 8.5l.94-2.06 2.06-.94-2.06-.94L8.5 2.5l-.94 2.06-2.06.94zm10 10l.94 2.06.94-2.06 2.06-.94-2.06-.94-.94-2.06-.94 2.06-2.06.94z\"/><path d=\"M17.41 7.96l-1.37-1.37c-.4-.4-.92-.59-1.43-.59-.52 0-1.04.2-1.43.59L10.3 9.45l-7.72 7.72c-.78.78-.78 2.05 0 2.83L4 21.41c.39.39.9.59 1.41.59.51 0 1.02-.2 1.41-.59l7.78-7.78 2.81-2.81c.8-.78.8-2.07 0-2.86zM5.41 20L4 18.59l7.72-7.72 1.47 1.35L5.41 20z\"/>\n",
              "  </svg>\n",
              "      </button>\n",
              "      \n",
              "  <style>\n",
              "    .colab-df-container {\n",
              "      display:flex;\n",
              "      flex-wrap:wrap;\n",
              "      gap: 12px;\n",
              "    }\n",
              "\n",
              "    .colab-df-convert {\n",
              "      background-color: #E8F0FE;\n",
              "      border: none;\n",
              "      border-radius: 50%;\n",
              "      cursor: pointer;\n",
              "      display: none;\n",
              "      fill: #1967D2;\n",
              "      height: 32px;\n",
              "      padding: 0 0 0 0;\n",
              "      width: 32px;\n",
              "    }\n",
              "\n",
              "    .colab-df-convert:hover {\n",
              "      background-color: #E2EBFA;\n",
              "      box-shadow: 0px 1px 2px rgba(60, 64, 67, 0.3), 0px 1px 3px 1px rgba(60, 64, 67, 0.15);\n",
              "      fill: #174EA6;\n",
              "    }\n",
              "\n",
              "    [theme=dark] .colab-df-convert {\n",
              "      background-color: #3B4455;\n",
              "      fill: #D2E3FC;\n",
              "    }\n",
              "\n",
              "    [theme=dark] .colab-df-convert:hover {\n",
              "      background-color: #434B5C;\n",
              "      box-shadow: 0px 1px 3px 1px rgba(0, 0, 0, 0.15);\n",
              "      filter: drop-shadow(0px 1px 2px rgba(0, 0, 0, 0.3));\n",
              "      fill: #FFFFFF;\n",
              "    }\n",
              "  </style>\n",
              "\n",
              "      <script>\n",
              "        const buttonEl =\n",
              "          document.querySelector('#df-f57a49de-bf6b-4056-bea6-3f486f1ead16 button.colab-df-convert');\n",
              "        buttonEl.style.display =\n",
              "          google.colab.kernel.accessAllowed ? 'block' : 'none';\n",
              "\n",
              "        async function convertToInteractive(key) {\n",
              "          const element = document.querySelector('#df-f57a49de-bf6b-4056-bea6-3f486f1ead16');\n",
              "          const dataTable =\n",
              "            await google.colab.kernel.invokeFunction('convertToInteractive',\n",
              "                                                     [key], {});\n",
              "          if (!dataTable) return;\n",
              "\n",
              "          const docLinkHtml = 'Like what you see? Visit the ' +\n",
              "            '<a target=\"_blank\" href=https://colab.research.google.com/notebooks/data_table.ipynb>data table notebook</a>'\n",
              "            + ' to learn more about interactive tables.';\n",
              "          element.innerHTML = '';\n",
              "          dataTable['output_type'] = 'display_data';\n",
              "          await google.colab.output.renderOutput(dataTable, element);\n",
              "          const docLink = document.createElement('div');\n",
              "          docLink.innerHTML = docLinkHtml;\n",
              "          element.appendChild(docLink);\n",
              "        }\n",
              "      </script>\n",
              "    </div>\n",
              "  </div>\n",
              "  "
            ]
          },
          "metadata": {},
          "execution_count": 108
        }
      ]
    },
    {
      "cell_type": "code",
      "source": [
        "language_count_1 = language_count_1.sort_values(by='frequency',ascending=False)"
      ],
      "metadata": {
        "id": "qnIpctmFWXx7"
      },
      "execution_count": null,
      "outputs": []
    },
    {
      "cell_type": "code",
      "source": [
        "relative_frequency_1=language_count_1[[\"frequency\"]].cumsum()\n",
        "total_frequency_1=language_count_1[[\"frequency\"]].sum()\n",
        "language_count_1[\"cum_frequency\"]=relative_frequency_1/total_frequency_1*100"
      ],
      "metadata": {
        "id": "Qwte9xM7WegB"
      },
      "execution_count": null,
      "outputs": []
    },
    {
      "cell_type": "code",
      "source": [
        "language_count_1[:15]"
      ],
      "metadata": {
        "colab": {
          "base_uri": "https://localhost:8080/",
          "height": 520
        },
        "id": "ekRxWlSsWpSw",
        "outputId": "f5709ef3-9a09-48bd-a06f-6473e650a41c"
      },
      "execution_count": null,
      "outputs": [
        {
          "output_type": "execute_result",
          "data": {
            "text/plain": [
              "      language  frequency  cum_frequency\n",
              "0   javascript        396      14.017699\n",
              "1       python        286      24.141593\n",
              "2          sql        257      33.238938\n",
              "3         java        245      41.911504\n",
              "4         html        239      50.371681\n",
              "5   bash/shell        181      56.778761\n",
              "6          css        156      62.300885\n",
              "7   typescript        143      67.362832\n",
              "8          php        135      72.141593\n",
              "9         .net        105      75.858407\n",
              "10          go         93      79.150442\n",
              "11          c#         89      82.300885\n",
              "12       scala         53      84.176991\n",
              "13      kotlin         52      86.017699\n",
              "14        ruby         47      87.681416"
            ],
            "text/html": [
              "\n",
              "  <div id=\"df-5c220c1c-7cf5-4463-9432-717f4b42c772\">\n",
              "    <div class=\"colab-df-container\">\n",
              "      <div>\n",
              "<style scoped>\n",
              "    .dataframe tbody tr th:only-of-type {\n",
              "        vertical-align: middle;\n",
              "    }\n",
              "\n",
              "    .dataframe tbody tr th {\n",
              "        vertical-align: top;\n",
              "    }\n",
              "\n",
              "    .dataframe thead th {\n",
              "        text-align: right;\n",
              "    }\n",
              "</style>\n",
              "<table border=\"1\" class=\"dataframe\">\n",
              "  <thead>\n",
              "    <tr style=\"text-align: right;\">\n",
              "      <th></th>\n",
              "      <th>language</th>\n",
              "      <th>frequency</th>\n",
              "      <th>cum_frequency</th>\n",
              "    </tr>\n",
              "  </thead>\n",
              "  <tbody>\n",
              "    <tr>\n",
              "      <th>0</th>\n",
              "      <td>javascript</td>\n",
              "      <td>396</td>\n",
              "      <td>14.017699</td>\n",
              "    </tr>\n",
              "    <tr>\n",
              "      <th>1</th>\n",
              "      <td>python</td>\n",
              "      <td>286</td>\n",
              "      <td>24.141593</td>\n",
              "    </tr>\n",
              "    <tr>\n",
              "      <th>2</th>\n",
              "      <td>sql</td>\n",
              "      <td>257</td>\n",
              "      <td>33.238938</td>\n",
              "    </tr>\n",
              "    <tr>\n",
              "      <th>3</th>\n",
              "      <td>java</td>\n",
              "      <td>245</td>\n",
              "      <td>41.911504</td>\n",
              "    </tr>\n",
              "    <tr>\n",
              "      <th>4</th>\n",
              "      <td>html</td>\n",
              "      <td>239</td>\n",
              "      <td>50.371681</td>\n",
              "    </tr>\n",
              "    <tr>\n",
              "      <th>5</th>\n",
              "      <td>bash/shell</td>\n",
              "      <td>181</td>\n",
              "      <td>56.778761</td>\n",
              "    </tr>\n",
              "    <tr>\n",
              "      <th>6</th>\n",
              "      <td>css</td>\n",
              "      <td>156</td>\n",
              "      <td>62.300885</td>\n",
              "    </tr>\n",
              "    <tr>\n",
              "      <th>7</th>\n",
              "      <td>typescript</td>\n",
              "      <td>143</td>\n",
              "      <td>67.362832</td>\n",
              "    </tr>\n",
              "    <tr>\n",
              "      <th>8</th>\n",
              "      <td>php</td>\n",
              "      <td>135</td>\n",
              "      <td>72.141593</td>\n",
              "    </tr>\n",
              "    <tr>\n",
              "      <th>9</th>\n",
              "      <td>.net</td>\n",
              "      <td>105</td>\n",
              "      <td>75.858407</td>\n",
              "    </tr>\n",
              "    <tr>\n",
              "      <th>10</th>\n",
              "      <td>go</td>\n",
              "      <td>93</td>\n",
              "      <td>79.150442</td>\n",
              "    </tr>\n",
              "    <tr>\n",
              "      <th>11</th>\n",
              "      <td>c#</td>\n",
              "      <td>89</td>\n",
              "      <td>82.300885</td>\n",
              "    </tr>\n",
              "    <tr>\n",
              "      <th>12</th>\n",
              "      <td>scala</td>\n",
              "      <td>53</td>\n",
              "      <td>84.176991</td>\n",
              "    </tr>\n",
              "    <tr>\n",
              "      <th>13</th>\n",
              "      <td>kotlin</td>\n",
              "      <td>52</td>\n",
              "      <td>86.017699</td>\n",
              "    </tr>\n",
              "    <tr>\n",
              "      <th>14</th>\n",
              "      <td>ruby</td>\n",
              "      <td>47</td>\n",
              "      <td>87.681416</td>\n",
              "    </tr>\n",
              "  </tbody>\n",
              "</table>\n",
              "</div>\n",
              "      <button class=\"colab-df-convert\" onclick=\"convertToInteractive('df-5c220c1c-7cf5-4463-9432-717f4b42c772')\"\n",
              "              title=\"Convert this dataframe to an interactive table.\"\n",
              "              style=\"display:none;\">\n",
              "        \n",
              "  <svg xmlns=\"http://www.w3.org/2000/svg\" height=\"24px\"viewBox=\"0 0 24 24\"\n",
              "       width=\"24px\">\n",
              "    <path d=\"M0 0h24v24H0V0z\" fill=\"none\"/>\n",
              "    <path d=\"M18.56 5.44l.94 2.06.94-2.06 2.06-.94-2.06-.94-.94-2.06-.94 2.06-2.06.94zm-11 1L8.5 8.5l.94-2.06 2.06-.94-2.06-.94L8.5 2.5l-.94 2.06-2.06.94zm10 10l.94 2.06.94-2.06 2.06-.94-2.06-.94-.94-2.06-.94 2.06-2.06.94z\"/><path d=\"M17.41 7.96l-1.37-1.37c-.4-.4-.92-.59-1.43-.59-.52 0-1.04.2-1.43.59L10.3 9.45l-7.72 7.72c-.78.78-.78 2.05 0 2.83L4 21.41c.39.39.9.59 1.41.59.51 0 1.02-.2 1.41-.59l7.78-7.78 2.81-2.81c.8-.78.8-2.07 0-2.86zM5.41 20L4 18.59l7.72-7.72 1.47 1.35L5.41 20z\"/>\n",
              "  </svg>\n",
              "      </button>\n",
              "      \n",
              "  <style>\n",
              "    .colab-df-container {\n",
              "      display:flex;\n",
              "      flex-wrap:wrap;\n",
              "      gap: 12px;\n",
              "    }\n",
              "\n",
              "    .colab-df-convert {\n",
              "      background-color: #E8F0FE;\n",
              "      border: none;\n",
              "      border-radius: 50%;\n",
              "      cursor: pointer;\n",
              "      display: none;\n",
              "      fill: #1967D2;\n",
              "      height: 32px;\n",
              "      padding: 0 0 0 0;\n",
              "      width: 32px;\n",
              "    }\n",
              "\n",
              "    .colab-df-convert:hover {\n",
              "      background-color: #E2EBFA;\n",
              "      box-shadow: 0px 1px 2px rgba(60, 64, 67, 0.3), 0px 1px 3px 1px rgba(60, 64, 67, 0.15);\n",
              "      fill: #174EA6;\n",
              "    }\n",
              "\n",
              "    [theme=dark] .colab-df-convert {\n",
              "      background-color: #3B4455;\n",
              "      fill: #D2E3FC;\n",
              "    }\n",
              "\n",
              "    [theme=dark] .colab-df-convert:hover {\n",
              "      background-color: #434B5C;\n",
              "      box-shadow: 0px 1px 3px 1px rgba(0, 0, 0, 0.15);\n",
              "      filter: drop-shadow(0px 1px 2px rgba(0, 0, 0, 0.3));\n",
              "      fill: #FFFFFF;\n",
              "    }\n",
              "  </style>\n",
              "\n",
              "      <script>\n",
              "        const buttonEl =\n",
              "          document.querySelector('#df-5c220c1c-7cf5-4463-9432-717f4b42c772 button.colab-df-convert');\n",
              "        buttonEl.style.display =\n",
              "          google.colab.kernel.accessAllowed ? 'block' : 'none';\n",
              "\n",
              "        async function convertToInteractive(key) {\n",
              "          const element = document.querySelector('#df-5c220c1c-7cf5-4463-9432-717f4b42c772');\n",
              "          const dataTable =\n",
              "            await google.colab.kernel.invokeFunction('convertToInteractive',\n",
              "                                                     [key], {});\n",
              "          if (!dataTable) return;\n",
              "\n",
              "          const docLinkHtml = 'Like what you see? Visit the ' +\n",
              "            '<a target=\"_blank\" href=https://colab.research.google.com/notebooks/data_table.ipynb>data table notebook</a>'\n",
              "            + ' to learn more about interactive tables.';\n",
              "          element.innerHTML = '';\n",
              "          dataTable['output_type'] = 'display_data';\n",
              "          await google.colab.output.renderOutput(dataTable, element);\n",
              "          const docLink = document.createElement('div');\n",
              "          docLink.innerHTML = docLinkHtml;\n",
              "          element.appendChild(docLink);\n",
              "        }\n",
              "      </script>\n",
              "    </div>\n",
              "  </div>\n",
              "  "
            ]
          },
          "metadata": {},
          "execution_count": 111
        }
      ]
    },
    {
      "cell_type": "markdown",
      "source": [
        "Analizando esta tabla se puede concluir que el 20% de los lenguajes de programación que representan (aproximadamente) el 80% del total de las frecuencias más populares son los primeros 11, es decir desde \"Javascript\" hasta \"go\". \n",
        "\n",
        "Se elige este listado para estudiar si el nivel de salario está relacionado con el lenguaje de programación.\n"
      ],
      "metadata": {
        "id": "kuUtj5hLWvfE"
      }
    },
    {
      "cell_type": "markdown",
      "source": [
        "# c) Salarios asociados a los lenguajes más populares en la subpoblación"
      ],
      "metadata": {
        "id": "VToMN-h_XdYP"
      }
    },
    {
      "cell_type": "code",
      "source": [
        "# Se presenta el sueldo promedio de cada lenguaje ordenado de mayor a menor\n",
        "round(df_lang_1[df_lang_1['programming_language'].isin(main_lang)].groupby('programming_language').mean().sort_values\n",
        "      (by='salary_monthly_NETO', ascending=False),2)"
      ],
      "metadata": {
        "colab": {
          "base_uri": "https://localhost:8080/",
          "height": 394
        },
        "id": "K0au4wFgXtbH",
        "outputId": "0617d110-1127-4936-b177-c907590d0a2b"
      },
      "execution_count": null,
      "outputs": [
        {
          "output_type": "execute_result",
          "data": {
            "text/plain": [
              "                      salary_monthly_NETO\n",
              "programming_language                     \n",
              "c#                              253326.78\n",
              "css                             251590.68\n",
              "javascript                      251582.09\n",
              "python                          246996.22\n",
              "html                            246585.93\n",
              "bash/shell                      243984.84\n",
              "php                             238785.40\n",
              "sql                             238766.67\n",
              ".net                            223370.43\n",
              "java                            207439.76"
            ],
            "text/html": [
              "\n",
              "  <div id=\"df-8970c374-ac45-4e5e-bfdf-149783004022\">\n",
              "    <div class=\"colab-df-container\">\n",
              "      <div>\n",
              "<style scoped>\n",
              "    .dataframe tbody tr th:only-of-type {\n",
              "        vertical-align: middle;\n",
              "    }\n",
              "\n",
              "    .dataframe tbody tr th {\n",
              "        vertical-align: top;\n",
              "    }\n",
              "\n",
              "    .dataframe thead th {\n",
              "        text-align: right;\n",
              "    }\n",
              "</style>\n",
              "<table border=\"1\" class=\"dataframe\">\n",
              "  <thead>\n",
              "    <tr style=\"text-align: right;\">\n",
              "      <th></th>\n",
              "      <th>salary_monthly_NETO</th>\n",
              "    </tr>\n",
              "    <tr>\n",
              "      <th>programming_language</th>\n",
              "      <th></th>\n",
              "    </tr>\n",
              "  </thead>\n",
              "  <tbody>\n",
              "    <tr>\n",
              "      <th>c#</th>\n",
              "      <td>253326.78</td>\n",
              "    </tr>\n",
              "    <tr>\n",
              "      <th>css</th>\n",
              "      <td>251590.68</td>\n",
              "    </tr>\n",
              "    <tr>\n",
              "      <th>javascript</th>\n",
              "      <td>251582.09</td>\n",
              "    </tr>\n",
              "    <tr>\n",
              "      <th>python</th>\n",
              "      <td>246996.22</td>\n",
              "    </tr>\n",
              "    <tr>\n",
              "      <th>html</th>\n",
              "      <td>246585.93</td>\n",
              "    </tr>\n",
              "    <tr>\n",
              "      <th>bash/shell</th>\n",
              "      <td>243984.84</td>\n",
              "    </tr>\n",
              "    <tr>\n",
              "      <th>php</th>\n",
              "      <td>238785.40</td>\n",
              "    </tr>\n",
              "    <tr>\n",
              "      <th>sql</th>\n",
              "      <td>238766.67</td>\n",
              "    </tr>\n",
              "    <tr>\n",
              "      <th>.net</th>\n",
              "      <td>223370.43</td>\n",
              "    </tr>\n",
              "    <tr>\n",
              "      <th>java</th>\n",
              "      <td>207439.76</td>\n",
              "    </tr>\n",
              "  </tbody>\n",
              "</table>\n",
              "</div>\n",
              "      <button class=\"colab-df-convert\" onclick=\"convertToInteractive('df-8970c374-ac45-4e5e-bfdf-149783004022')\"\n",
              "              title=\"Convert this dataframe to an interactive table.\"\n",
              "              style=\"display:none;\">\n",
              "        \n",
              "  <svg xmlns=\"http://www.w3.org/2000/svg\" height=\"24px\"viewBox=\"0 0 24 24\"\n",
              "       width=\"24px\">\n",
              "    <path d=\"M0 0h24v24H0V0z\" fill=\"none\"/>\n",
              "    <path d=\"M18.56 5.44l.94 2.06.94-2.06 2.06-.94-2.06-.94-.94-2.06-.94 2.06-2.06.94zm-11 1L8.5 8.5l.94-2.06 2.06-.94-2.06-.94L8.5 2.5l-.94 2.06-2.06.94zm10 10l.94 2.06.94-2.06 2.06-.94-2.06-.94-.94-2.06-.94 2.06-2.06.94z\"/><path d=\"M17.41 7.96l-1.37-1.37c-.4-.4-.92-.59-1.43-.59-.52 0-1.04.2-1.43.59L10.3 9.45l-7.72 7.72c-.78.78-.78 2.05 0 2.83L4 21.41c.39.39.9.59 1.41.59.51 0 1.02-.2 1.41-.59l7.78-7.78 2.81-2.81c.8-.78.8-2.07 0-2.86zM5.41 20L4 18.59l7.72-7.72 1.47 1.35L5.41 20z\"/>\n",
              "  </svg>\n",
              "      </button>\n",
              "      \n",
              "  <style>\n",
              "    .colab-df-container {\n",
              "      display:flex;\n",
              "      flex-wrap:wrap;\n",
              "      gap: 12px;\n",
              "    }\n",
              "\n",
              "    .colab-df-convert {\n",
              "      background-color: #E8F0FE;\n",
              "      border: none;\n",
              "      border-radius: 50%;\n",
              "      cursor: pointer;\n",
              "      display: none;\n",
              "      fill: #1967D2;\n",
              "      height: 32px;\n",
              "      padding: 0 0 0 0;\n",
              "      width: 32px;\n",
              "    }\n",
              "\n",
              "    .colab-df-convert:hover {\n",
              "      background-color: #E2EBFA;\n",
              "      box-shadow: 0px 1px 2px rgba(60, 64, 67, 0.3), 0px 1px 3px 1px rgba(60, 64, 67, 0.15);\n",
              "      fill: #174EA6;\n",
              "    }\n",
              "\n",
              "    [theme=dark] .colab-df-convert {\n",
              "      background-color: #3B4455;\n",
              "      fill: #D2E3FC;\n",
              "    }\n",
              "\n",
              "    [theme=dark] .colab-df-convert:hover {\n",
              "      background-color: #434B5C;\n",
              "      box-shadow: 0px 1px 3px 1px rgba(0, 0, 0, 0.15);\n",
              "      filter: drop-shadow(0px 1px 2px rgba(0, 0, 0, 0.3));\n",
              "      fill: #FFFFFF;\n",
              "    }\n",
              "  </style>\n",
              "\n",
              "      <script>\n",
              "        const buttonEl =\n",
              "          document.querySelector('#df-8970c374-ac45-4e5e-bfdf-149783004022 button.colab-df-convert');\n",
              "        buttonEl.style.display =\n",
              "          google.colab.kernel.accessAllowed ? 'block' : 'none';\n",
              "\n",
              "        async function convertToInteractive(key) {\n",
              "          const element = document.querySelector('#df-8970c374-ac45-4e5e-bfdf-149783004022');\n",
              "          const dataTable =\n",
              "            await google.colab.kernel.invokeFunction('convertToInteractive',\n",
              "                                                     [key], {});\n",
              "          if (!dataTable) return;\n",
              "\n",
              "          const docLinkHtml = 'Like what you see? Visit the ' +\n",
              "            '<a target=\"_blank\" href=https://colab.research.google.com/notebooks/data_table.ipynb>data table notebook</a>'\n",
              "            + ' to learn more about interactive tables.';\n",
              "          element.innerHTML = '';\n",
              "          dataTable['output_type'] = 'display_data';\n",
              "          await google.colab.output.renderOutput(dataTable, element);\n",
              "          const docLink = document.createElement('div');\n",
              "          docLink.innerHTML = docLinkHtml;\n",
              "          element.appendChild(docLink);\n",
              "        }\n",
              "      </script>\n",
              "    </div>\n",
              "  </div>\n",
              "  "
            ]
          },
          "metadata": {},
          "execution_count": 112
        }
      ]
    },
    {
      "cell_type": "code",
      "source": [
        "# Se presenta la mediana de cada lenguaje ordenado de mayor a menor\n",
        "round(df_lang_1[df_lang_1['programming_language'].isin(main_lang)].groupby('programming_language').median().sort_values\n",
        "      (by='salary_monthly_NETO', ascending=False),2)"
      ],
      "metadata": {
        "colab": {
          "base_uri": "https://localhost:8080/",
          "height": 394
        },
        "id": "HhURPcv9X6cs",
        "outputId": "69be3b88-0713-4212-e0d4-221e614e5c12"
      },
      "execution_count": null,
      "outputs": [
        {
          "output_type": "execute_result",
          "data": {
            "text/plain": [
              "                      salary_monthly_NETO\n",
              "programming_language                     \n",
              "javascript                       195000.0\n",
              "c#                               186000.0\n",
              "html                             186000.0\n",
              "python                           185000.0\n",
              "bash/shell                       180000.0\n",
              "css                              180000.0\n",
              "php                              180000.0\n",
              "sql                              180000.0\n",
              ".net                             175000.0\n",
              "java                             170000.0"
            ],
            "text/html": [
              "\n",
              "  <div id=\"df-fc0a62c1-a4db-4f94-a4e7-a4e37eb0d9c8\">\n",
              "    <div class=\"colab-df-container\">\n",
              "      <div>\n",
              "<style scoped>\n",
              "    .dataframe tbody tr th:only-of-type {\n",
              "        vertical-align: middle;\n",
              "    }\n",
              "\n",
              "    .dataframe tbody tr th {\n",
              "        vertical-align: top;\n",
              "    }\n",
              "\n",
              "    .dataframe thead th {\n",
              "        text-align: right;\n",
              "    }\n",
              "</style>\n",
              "<table border=\"1\" class=\"dataframe\">\n",
              "  <thead>\n",
              "    <tr style=\"text-align: right;\">\n",
              "      <th></th>\n",
              "      <th>salary_monthly_NETO</th>\n",
              "    </tr>\n",
              "    <tr>\n",
              "      <th>programming_language</th>\n",
              "      <th></th>\n",
              "    </tr>\n",
              "  </thead>\n",
              "  <tbody>\n",
              "    <tr>\n",
              "      <th>javascript</th>\n",
              "      <td>195000.0</td>\n",
              "    </tr>\n",
              "    <tr>\n",
              "      <th>c#</th>\n",
              "      <td>186000.0</td>\n",
              "    </tr>\n",
              "    <tr>\n",
              "      <th>html</th>\n",
              "      <td>186000.0</td>\n",
              "    </tr>\n",
              "    <tr>\n",
              "      <th>python</th>\n",
              "      <td>185000.0</td>\n",
              "    </tr>\n",
              "    <tr>\n",
              "      <th>bash/shell</th>\n",
              "      <td>180000.0</td>\n",
              "    </tr>\n",
              "    <tr>\n",
              "      <th>css</th>\n",
              "      <td>180000.0</td>\n",
              "    </tr>\n",
              "    <tr>\n",
              "      <th>php</th>\n",
              "      <td>180000.0</td>\n",
              "    </tr>\n",
              "    <tr>\n",
              "      <th>sql</th>\n",
              "      <td>180000.0</td>\n",
              "    </tr>\n",
              "    <tr>\n",
              "      <th>.net</th>\n",
              "      <td>175000.0</td>\n",
              "    </tr>\n",
              "    <tr>\n",
              "      <th>java</th>\n",
              "      <td>170000.0</td>\n",
              "    </tr>\n",
              "  </tbody>\n",
              "</table>\n",
              "</div>\n",
              "      <button class=\"colab-df-convert\" onclick=\"convertToInteractive('df-fc0a62c1-a4db-4f94-a4e7-a4e37eb0d9c8')\"\n",
              "              title=\"Convert this dataframe to an interactive table.\"\n",
              "              style=\"display:none;\">\n",
              "        \n",
              "  <svg xmlns=\"http://www.w3.org/2000/svg\" height=\"24px\"viewBox=\"0 0 24 24\"\n",
              "       width=\"24px\">\n",
              "    <path d=\"M0 0h24v24H0V0z\" fill=\"none\"/>\n",
              "    <path d=\"M18.56 5.44l.94 2.06.94-2.06 2.06-.94-2.06-.94-.94-2.06-.94 2.06-2.06.94zm-11 1L8.5 8.5l.94-2.06 2.06-.94-2.06-.94L8.5 2.5l-.94 2.06-2.06.94zm10 10l.94 2.06.94-2.06 2.06-.94-2.06-.94-.94-2.06-.94 2.06-2.06.94z\"/><path d=\"M17.41 7.96l-1.37-1.37c-.4-.4-.92-.59-1.43-.59-.52 0-1.04.2-1.43.59L10.3 9.45l-7.72 7.72c-.78.78-.78 2.05 0 2.83L4 21.41c.39.39.9.59 1.41.59.51 0 1.02-.2 1.41-.59l7.78-7.78 2.81-2.81c.8-.78.8-2.07 0-2.86zM5.41 20L4 18.59l7.72-7.72 1.47 1.35L5.41 20z\"/>\n",
              "  </svg>\n",
              "      </button>\n",
              "      \n",
              "  <style>\n",
              "    .colab-df-container {\n",
              "      display:flex;\n",
              "      flex-wrap:wrap;\n",
              "      gap: 12px;\n",
              "    }\n",
              "\n",
              "    .colab-df-convert {\n",
              "      background-color: #E8F0FE;\n",
              "      border: none;\n",
              "      border-radius: 50%;\n",
              "      cursor: pointer;\n",
              "      display: none;\n",
              "      fill: #1967D2;\n",
              "      height: 32px;\n",
              "      padding: 0 0 0 0;\n",
              "      width: 32px;\n",
              "    }\n",
              "\n",
              "    .colab-df-convert:hover {\n",
              "      background-color: #E2EBFA;\n",
              "      box-shadow: 0px 1px 2px rgba(60, 64, 67, 0.3), 0px 1px 3px 1px rgba(60, 64, 67, 0.15);\n",
              "      fill: #174EA6;\n",
              "    }\n",
              "\n",
              "    [theme=dark] .colab-df-convert {\n",
              "      background-color: #3B4455;\n",
              "      fill: #D2E3FC;\n",
              "    }\n",
              "\n",
              "    [theme=dark] .colab-df-convert:hover {\n",
              "      background-color: #434B5C;\n",
              "      box-shadow: 0px 1px 3px 1px rgba(0, 0, 0, 0.15);\n",
              "      filter: drop-shadow(0px 1px 2px rgba(0, 0, 0, 0.3));\n",
              "      fill: #FFFFFF;\n",
              "    }\n",
              "  </style>\n",
              "\n",
              "      <script>\n",
              "        const buttonEl =\n",
              "          document.querySelector('#df-fc0a62c1-a4db-4f94-a4e7-a4e37eb0d9c8 button.colab-df-convert');\n",
              "        buttonEl.style.display =\n",
              "          google.colab.kernel.accessAllowed ? 'block' : 'none';\n",
              "\n",
              "        async function convertToInteractive(key) {\n",
              "          const element = document.querySelector('#df-fc0a62c1-a4db-4f94-a4e7-a4e37eb0d9c8');\n",
              "          const dataTable =\n",
              "            await google.colab.kernel.invokeFunction('convertToInteractive',\n",
              "                                                     [key], {});\n",
              "          if (!dataTable) return;\n",
              "\n",
              "          const docLinkHtml = 'Like what you see? Visit the ' +\n",
              "            '<a target=\"_blank\" href=https://colab.research.google.com/notebooks/data_table.ipynb>data table notebook</a>'\n",
              "            + ' to learn more about interactive tables.';\n",
              "          element.innerHTML = '';\n",
              "          dataTable['output_type'] = 'display_data';\n",
              "          await google.colab.output.renderOutput(dataTable, element);\n",
              "          const docLink = document.createElement('div');\n",
              "          docLink.innerHTML = docLinkHtml;\n",
              "          element.appendChild(docLink);\n",
              "        }\n",
              "      </script>\n",
              "    </div>\n",
              "  </div>\n",
              "  "
            ]
          },
          "metadata": {},
          "execution_count": 113
        }
      ]
    },
    {
      "cell_type": "markdown",
      "source": [
        "# d) Probabilidades condicionales en sub-población"
      ],
      "metadata": {
        "id": "mNiJzi_BZF0w"
      }
    },
    {
      "cell_type": "code",
      "source": [
        "# Se calcula el sueldo promedio de la base modificada en la sub-población\n",
        "avg_salary_1 = df_modif_1['salary_monthly_NETO'].mean()\n",
        "avg_salary_1\n",
        "\n",
        "# Se calcula la probabilidad de que un sueldo esté por encima del sueldo promedio\n",
        "prob_above_avg_1 = len(df_lang_1[df_lang_1['salary_monthly_NETO'] > avg_salary_1]) / len(df_lang_1)  \n",
        "prob_above_avg_1\n",
        "\n",
        "# Se calcula la \"mediana\" de la base modificada en la sub-población\n",
        "median_salary_1 = df_modif_1['salary_monthly_NETO'].median()\n",
        "median_salary_1\n",
        "\n",
        "# Calculo la probabilidad de que un sueldo esté por encima de la mediana\n",
        "prob_above_med_1 = len(df_lang_1[df_lang_1['salary_monthly_NETO'] > median_salary_1]) / len(df_lang_1)  \n",
        "prob_above_med_1\n",
        "\n",
        "print('El sueldo promedio en la sub-población es:', avg_salary_1)\n",
        "print('La mediana de la sub-población es:', median_salary_1)\n",
        "print('La probablidad de que un sueldo esté por encima del sueldo promedio es:',prob_above_avg_1)\n",
        "print('La probabilidad de que un sueldo esté por encima de la mediana es:',prob_above_med_1)"
      ],
      "metadata": {
        "colab": {
          "base_uri": "https://localhost:8080/"
        },
        "id": "NeoASX1PYKpn",
        "outputId": "03749934-a1c1-47fd-ead8-d5ba5c90d85d"
      },
      "execution_count": null,
      "outputs": [
        {
          "output_type": "stream",
          "name": "stdout",
          "text": [
            "El sueldo promedio en la sub-población es: 246516.34040145986\n",
            "La mediana de la sub-población es: 180000.0\n",
            "La probablidad de que un sueldo esté por encima del sueldo promedio es: 0.30796460176991153\n",
            "La probabilidad de que un sueldo esté por encima de la mediana es: 0.5076106194690265\n"
          ]
        }
      ]
    },
    {
      "cell_type": "markdown",
      "source": [
        "La probabilidad de que algún programador dentro de la sub-población gane más que el promedio es del 30.79%. Siendo el promedio 246.516 pesos.\n",
        "\n",
        "La probabilidad de que se gane más que la mediana es del 50.76%. Siendo el valor de la mediana 180.000 pesos.\n",
        "\n",
        "Se decide calcular las probabilidades condicionales teniendo en cuenta la MEDIA del sueldo de esta sub-población (ya que es un valor superior).\n",
        "*************************************************"
      ],
      "metadata": {
        "id": "UieQIqPbHPwv"
      }
    },
    {
      "cell_type": "code",
      "source": [
        "# Se crean variables que son listas de booleanos que indican True cuando el salario es mayor al salario promedio\n",
        "# y otras que indican True cuando el lenguaje de programación es alguno de los principales\n",
        "is_above_avg_1 = df_lang_1['salary_monthly_NETO'] > avg_salary_1\n",
        "\n",
        "lang_python_1 = (df_lang_1['programming_language'] == 'python')\n",
        "lang_bash_1 = (df_lang_1['programming_language'] == 'bash/shell')\n",
        "lang_java_1 = (df_lang_1['programming_language'] == 'java')\n",
        "lang_typescript_1 = (df_lang_1['programming_language'] == 'typescript')\n",
        "lang_javascr_1 = (df_lang_1['programming_language'] == 'javascript')\n",
        "lang_sql_1 = (df_lang_1['programming_language'] == 'sql')\n",
        "lang_net_1 = (df_lang_1['programming_language'] == '.net')\n",
        "lang_php_1 = (df_lang_1['programming_language'] == 'php')\n",
        "lang_html_1 = (df_lang_1['programming_language'] == 'html')\n",
        "lang_css_1 = (df_lang_1['programming_language'] == 'css')\n",
        "lang_go_1 = (df_lang_1['programming_language'] == 'go')"
      ],
      "metadata": {
        "id": "hXjPpq5wZBV0"
      },
      "execution_count": null,
      "outputs": []
    },
    {
      "cell_type": "code",
      "source": [
        "#Se calculan las probabilidades condicionales de los lenguajes de programación y el salario\n",
        "p_condic_python_1 = len(df_lang_1[is_above_avg_1 & lang_python_1])/len(df_lang_1[lang_python_1])\n",
        "print('La probablidad condicional de python es:', p_condic_python_1)\n",
        "\n",
        "p_condic_bash_1 = len(df_lang_1[is_above_avg_1 & lang_bash_1])/len(df_lang_1[lang_bash_1])\n",
        "print('La probablidad condicional de bash/shell es:', p_condic_bash_1)\n",
        "\n",
        "p_condic_java_1 = len(df_lang_1[is_above_avg_1 & lang_java_1])/len(df_lang_1[lang_java_1])\n",
        "print('La probablidad condicional de java es:', p_condic_java_1)\n",
        "\n",
        "p_condic_typescript_1 = len(df_lang_1[is_above_avg_1 & lang_typescript_1])/len(df_lang_1[lang_typescript_1])\n",
        "print('La probablidad condicional de typescript es:', p_condic_typescript_1)\n",
        "\n",
        "p_condic_javascr_1 = len(df_lang_1[is_above_avg_1 & lang_javascr_1])/len(df_lang_1[lang_javascr_1])\n",
        "print('La probablidad condicional de javascript es:', p_condic_javascr_1)\n",
        "\n",
        "p_condic_sql_1 = len(df_lang_1[is_above_avg_1 & lang_sql_1])/len(df_lang_1[lang_sql_1])\n",
        "print('La probablidad condicional de sql es:', p_condic_sql_1)\n",
        "\n",
        "p_condic_net_1 = len(df_lang_1[is_above_avg_1 & lang_net_1])/len(df_lang_1[lang_net_1])\n",
        "print('La probablidad condicional de net es:', p_condic_net_1)\n",
        "\n",
        "p_condic_php_1 = len(df_lang_1[is_above_avg_1 & lang_php_1])/len(df_lang_1[lang_php_1])\n",
        "print('La probablidad condicional de php es:', p_condic_php_1)\n",
        "\n",
        "p_condic_html_1 = len(df_lang_1[is_above_avg_1 & lang_html_1])/len(df_lang_1[lang_html_1])\n",
        "print('La probablidad condicional de html es:', p_condic_html_1)\n",
        "\n",
        "p_condic_css_1 = len(df_lang_1[is_above_avg_1 & lang_css_1])/len(df_lang_1[lang_css_1])\n",
        "print('La probablidad condicional de css es:', p_condic_css_1)\n",
        "\n",
        "p_condic_go_1 = len(df_lang_1[is_above_avg_1 & lang_go_1])/len(df_lang_1[lang_go_1])\n",
        "print('La probablidad condicional de go es:', p_condic_go_1)"
      ],
      "metadata": {
        "colab": {
          "base_uri": "https://localhost:8080/"
        },
        "id": "-heySXGeZFSh",
        "outputId": "8f22a2d0-b569-4276-c674-26c346232808"
      },
      "execution_count": null,
      "outputs": [
        {
          "output_type": "stream",
          "name": "stdout",
          "text": [
            "La probablidad condicional de python es: 0.3076923076923077\n",
            "La probablidad condicional de bash/shell es: 0.26519337016574585\n",
            "La probablidad condicional de java es: 0.20816326530612245\n",
            "La probablidad condicional de typescript es: 0.32867132867132864\n",
            "La probablidad condicional de javascript es: 0.3484848484848485\n",
            "La probablidad condicional de sql es: 0.29961089494163423\n",
            "La probablidad condicional de net es: 0.3047619047619048\n",
            "La probablidad condicional de php es: 0.28888888888888886\n",
            "La probablidad condicional de html es: 0.3389121338912134\n",
            "La probablidad condicional de css es: 0.33974358974358976\n",
            "La probablidad condicional de go es: 0.3333333333333333\n"
          ]
        }
      ]
    },
    {
      "cell_type": "code",
      "source": [
        "# Se crea un diccionario llamado \"data\" donde la key es el lenguaje y el value es la probabilidad condicional\n",
        "main_lang_1 = ['javascript', 'sql', 'html', 'java', 'python', 'css', 'bash/shell', 'php', '.net', 'typescript','go']\n",
        "values_1 = [p_condic_javascr_1, p_condic_sql_1, p_condic_html_1, p_condic_java_1, p_condic_python_1, \n",
        "          p_condic_css_1, p_condic_bash_1, p_condic_php_1, p_condic_net_1, p_condic_typescript_1, p_condic_go_1]\n",
        "\n",
        "data_1 = {}\n",
        "for key in main_lang_1:\n",
        "    for value in values_1:\n",
        "        data_1[key] = value\n",
        "        values_1.remove(value)\n",
        "        break "
      ],
      "metadata": {
        "id": "U3oLq3jHbGAg"
      },
      "execution_count": null,
      "outputs": []
    },
    {
      "cell_type": "code",
      "source": [
        "data_1"
      ],
      "metadata": {
        "colab": {
          "base_uri": "https://localhost:8080/"
        },
        "id": "Ypvs_WC6bYg_",
        "outputId": "9d4dc96d-0e58-4177-917c-b342dd66378d"
      },
      "execution_count": null,
      "outputs": [
        {
          "output_type": "execute_result",
          "data": {
            "text/plain": [
              "{'.net': 0.3047619047619048,\n",
              " 'bash/shell': 0.26519337016574585,\n",
              " 'css': 0.33974358974358976,\n",
              " 'go': 0.3333333333333333,\n",
              " 'html': 0.3389121338912134,\n",
              " 'java': 0.20816326530612245,\n",
              " 'javascript': 0.3484848484848485,\n",
              " 'php': 0.28888888888888886,\n",
              " 'python': 0.3076923076923077,\n",
              " 'sql': 0.29961089494163423,\n",
              " 'typescript': 0.32867132867132864}"
            ]
          },
          "metadata": {},
          "execution_count": 119
        }
      ]
    },
    {
      "cell_type": "code",
      "source": [
        "prob_above_avg_1"
      ],
      "metadata": {
        "colab": {
          "base_uri": "https://localhost:8080/"
        },
        "id": "4jOHWNABbnCS",
        "outputId": "8f8118f2-e730-457b-fad8-82a38db4928d"
      },
      "execution_count": null,
      "outputs": [
        {
          "output_type": "execute_result",
          "data": {
            "text/plain": [
              "0.30796460176991153"
            ]
          },
          "metadata": {},
          "execution_count": 120
        }
      ]
    },
    {
      "cell_type": "code",
      "source": [
        "# Se ordenan los valores del diccionario de mayor a menor\n",
        "data_1\n",
        "sorted_data_1 = {}\n",
        "sorted_keys_1 = sorted(data_1, key=data_1.get)  \n",
        "for w in sorted_keys_1:\n",
        "    sorted_data_1[w] = data_1[w]\n",
        "\n",
        "print(sorted_data_1)"
      ],
      "metadata": {
        "colab": {
          "base_uri": "https://localhost:8080/"
        },
        "id": "xgOrg4HIJ7eC",
        "outputId": "893c0960-1d15-46c1-e03e-0a8c8f2a9ac7"
      },
      "execution_count": null,
      "outputs": [
        {
          "output_type": "stream",
          "name": "stdout",
          "text": [
            "{'java': 0.20816326530612245, 'bash/shell': 0.26519337016574585, 'php': 0.28888888888888886, 'sql': 0.29961089494163423, '.net': 0.3047619047619048, 'python': 0.3076923076923077, 'typescript': 0.32867132867132864, 'go': 0.3333333333333333, 'html': 0.3389121338912134, 'css': 0.33974358974358976, 'javascript': 0.3484848484848485}\n"
          ]
        }
      ]
    },
    {
      "cell_type": "code",
      "source": [
        "#Se grafican las probabilidades condicionales calculadas previamente  \n",
        "languages_1 = list(sorted_data_1.keys())\n",
        "values_1 = list(sorted_data_1.values())\n",
        "\n",
        "fig = plt.figure(figsize = (20, 5))\n",
        "plt.bar(languages_1, values_1, color ='red',\n",
        "        width = 0.4)\n",
        "plt.xlabel(\"Main languages\")\n",
        "plt.ylabel(\"Probabilidad condicional\")\n",
        "plt.show()"
      ],
      "metadata": {
        "id": "TrBLYI2Hxq8a",
        "colab": {
          "base_uri": "https://localhost:8080/",
          "height": 253
        },
        "outputId": "0ba12f58-de92-4135-e32f-16fd6fcb6bfa"
      },
      "execution_count": null,
      "outputs": [
        {
          "output_type": "display_data",
          "data": {
            "text/plain": [
              "<Figure size 1440x360 with 1 Axes>"
            ],
            "image/png": "[encoded data removed]"
          },
          "metadata": {
            "needs_background": "light"
          }
        }
      ]
    },
    {
      "cell_type": "markdown",
      "source": [
        "Los lenguajes de programación en los cuales la probabilidad condicional es MAYOR a la probabilidad de ganar más que el promedio (0.3079) sabiendo ese lenguaje  son:\n",
        "\n",
        "*   Javascript=0.3485\n",
        "*   CSS=0.3397\n",
        "*   HTML=0.3389\n",
        "*   Go=0.3333\n",
        "*   Typescript=0.3287\n",
        "\n",
        "El resto de los lenguajes se \"descartan\" como lenguajes asociado a los mejores salarios por tener una probabilidad muy cercana a 0.3079 (probabilidad de ganar más que el promedio). No se puede determinar si son eventos dependientes o no.\n",
        "*************************************************\n",
        "\n"
      ],
      "metadata": {
        "id": "w-WMm4-IdUt-"
      }
    },
    {
      "cell_type": "markdown",
      "source": [
        "# CONCLUSIÓN EJERCICIO 1\n",
        "*************************************************"
      ],
      "metadata": {
        "id": "_KdpFrq0YuOO"
      }
    },
    {
      "cell_type": "markdown",
      "source": [
        "Los lenguajes de programación asociados a los mejores salarios en la población que abarca sueldos netos desde 20.000 pesos hasta 130.000 pesos (con promedio en 73.440 pesos) son los siguientes:\n",
        "\n",
        "1.   Bash/Shell (59.97% de probabilidad de ganar más que el promedio)\n",
        "2.   Python (58.47% de probabilidad de ganar más que el promedio)\n",
        "3.   Java (57.27% de probabilidad de ganar más que el promedio)\n",
        "\n",
        "Siendo la probabilidad de ganar más que el sueldo promedio de 51.45%.\n",
        "\n",
        "*************************************************\n",
        "Analizando ahora la sub-población que tiene sueldos netos mayores a 130.000 pesos y excluyendo el valor máximo de este sub-conjunto (2.080.000 pesos). El sueldo promedio es 246.516 pesos y el listado de lenguajes que tienen una probabilidad de ganar un sueldo mayor a la del promedio es:\n",
        "\n",
        "1.   Javascript (34.85%)\n",
        "2.   CSS (33.97%)\n",
        "3.   HTML (33.89%)\n",
        "4.   Go (33.33%)\n",
        "5.   Typescript (32.87%)\n",
        "\n",
        "Siendo 30.79% la probabilidad de ganar más que el sueldo promedio.\n",
        "\n",
        "\n",
        "Debido a que los listados de lenguajes \"mejores pagos\" en las dos poblaciones analizadas no coinciden. Se considera que NO se puede afirmar que existe una correlación directa entre estas dos variables, asumiendo que al menos algún lenguaje debería ser común en ambos listados (considerando TODA la población de sueldos posibles).\n",
        "\n",
        "Como ya se hizo el análisis de \"mejores salarios\" con \"lenguajes de programación\". Sería interesante analizar la relación entre puesto de trabajo y lenguaje de programación, para luego poder inferir si los \"mejores sueldos\" tienen mayor relación al puesto de trabajo o al lenguaje de programación en sí mismo como ventaja competitiva.\n",
        "*************************************************"
      ],
      "metadata": {
        "id": "YCqAg_LXY2h2"
      }
    }
  ]
}