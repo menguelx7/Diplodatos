{
  "cells": [
    {
      "cell_type": "markdown",
      "metadata": {
        "id": "view-in-github",
        "colab_type": "text"
      },
      "source": [
        "<a href=\"https://colab.research.google.com/github/menguelx7/Diplodatos/blob/main/Analisis_Exploratorio_y_Curacion_de_Datos/Grupo_1_AyCD_Entregable_Parte_2_2022.ipynb\" target=\"_parent\"><img src=\"https://colab.research.google.com/assets/colab-badge.svg\" alt=\"Open In Colab\"/></a>"
      ]
    },
    {
      "cell_type": "markdown",
      "metadata": {
        "id": "ILVerJ6okyN7"
      },
      "source": [
        "#  Grupo 1\n",
        "**Integrantes:** \n",
        "\n",
        "\n",
        "*   Ignacio Villagra\n",
        "*   Laura Feu Marquestau\n",
        "*   Marcelo Perea\n",
        "*   Natalia Tassin\n",
        "*   Matias Mengual\n",
        "\n"
      ]
    },
    {
      "cell_type": "markdown",
      "metadata": {
        "id": "zO4bRoxr2Apy"
      },
      "source": [
        "**Diplomatura en Ciencia de Datos, Aprendizaje Automático y sus Aplicaciones**\n",
        "\n",
        "**Exploración y Curación de Datos**\n",
        "\n",
        "*Edición 2021*\n",
        "\n",
        "----\n",
        "\n",
        "# Trabajo práctico entregable - parte 2\n",
        "\n",
        "\n",
        "En el ejercicio 2 de la parte 1 del entregable seleccionaron las filas y columnas relevantes al problema de predicción de precios de una propiedad e imputaron los valores faltantes de las columnas `Suburb` y las columnas obtenidas a partir del conjunto de datos `airbnb`.\n",
        "\n",
        "En esta notebook, **se utilizará resultado de dichas operaciones.** que fue guardado en un archivo (Ejercicio 3 entregable 1). \n"
      ]
    },
    {
      "cell_type": "code",
      "execution_count": null,
      "metadata": {
        "id": "4udjxjk1EtVU"
      },
      "outputs": [],
      "source": [
        "import matplotlib.pyplot as plt\n",
        "import numpy as np\n",
        "import pandas as pd\n",
        "from sklearn.preprocessing import OneHotEncoder\n",
        "from sklearn.feature_extraction import DictVectorizer\n",
        "from sklearn.experimental import enable_iterative_imputer\n",
        "from sklearn.linear_model import BayesianRidge\n",
        "from sklearn.tree import DecisionTreeRegressor\n",
        "from sklearn.ensemble import ExtraTreesRegressor\n",
        "from sklearn.neighbors import KNeighborsRegressor\n",
        "from sklearn.impute import IterativeImputer\n",
        "import seaborn\n",
        "import missingno as msno\n",
        "from sklearn.preprocessing import MinMaxScaler\n",
        "from sklearn.preprocessing import minmax_scale\n",
        "from sklearn.preprocessing import MaxAbsScaler\n",
        "from sklearn.preprocessing import StandardScaler\n",
        "from sklearn.preprocessing import RobustScaler\n",
        "from sklearn.preprocessing import Normalizer\n",
        "from sklearn.preprocessing import QuantileTransformer\n",
        "from sklearn.preprocessing import PowerTransformer\n",
        "from sklearn.datasets import fetch_california_housing\n",
        "from sklearn import preprocessing\n",
        "\n",
        "seaborn.set_context('talk')"
      ]
    },
    {
      "cell_type": "markdown",
      "metadata": {
        "id": "NGgXs6jxcINc"
      },
      "source": [
        "Luego de haber completado el entregable 1, importamos el dataset previamente trabajado:"
      ]
    },
    {
      "cell_type": "code",
      "execution_count": null,
      "metadata": {
        "colab": {
          "base_uri": "https://localhost:8080/"
        },
        "id": "_qeFN3GnEvMk",
        "outputId": "0c544dd9-6f75-4bcc-c587-bcbe2ec751e4"
      },
      "outputs": [
        {
          "output_type": "stream",
          "name": "stdout",
          "text": [
            "<class 'pandas.core.frame.DataFrame'>\n",
            "RangeIndex: 11854 entries, 0 to 11853\n",
            "Data columns (total 27 columns):\n",
            " #   Column                     Non-Null Count  Dtype  \n",
            "---  ------                     --------------  -----  \n",
            " 0   Suburb                     11854 non-null  object \n",
            " 1   Address                    11854 non-null  object \n",
            " 2   Rooms                      11854 non-null  int64  \n",
            " 3   Type                       11854 non-null  object \n",
            " 4   Price                      11854 non-null  float64\n",
            " 5   Method                     11854 non-null  object \n",
            " 6   SellerG                    11854 non-null  object \n",
            " 7   Date                       11854 non-null  object \n",
            " 8   Distance                   11854 non-null  float64\n",
            " 9   Postcode                   11854 non-null  float64\n",
            " 10  Bedroom2                   11854 non-null  float64\n",
            " 11  Bathroom                   11854 non-null  float64\n",
            " 12  Car                        11854 non-null  float64\n",
            " 13  Landsize                   11854 non-null  float64\n",
            " 14  BuildingArea               6181 non-null   float64\n",
            " 15  YearBuilt                  7176 non-null   float64\n",
            " 16  CouncilArea                10833 non-null  object \n",
            " 17  Lattitude                  11854 non-null  float64\n",
            " 18  Longtitude                 11854 non-null  float64\n",
            " 19  Regionname                 11854 non-null  object \n",
            " 20  Propertycount              11854 non-null  float64\n",
            " 21  zipcode                    11848 non-null  float64\n",
            " 22  airbnb_price_mean          11848 non-null  float64\n",
            " 23  airbnb_price_median        11848 non-null  float64\n",
            " 24  airbnb_record_count        11848 non-null  float64\n",
            " 25  airbnb_weekly_price_mean   11240 non-null  float64\n",
            " 26  airbnb_monthly_price_mean  10936 non-null  float64\n",
            "dtypes: float64(18), int64(1), object(8)\n",
            "memory usage: 2.4+ MB\n"
          ]
        }
      ],
      "source": [
        "# Se importa el dataset previamente trabajado en el entregable 1.\n",
        "df_0 = pd.read_csv(\"https://raw.githubusercontent.com/menguelx7/Diplodatos/main/Analisis_Exploratorio_y_Curacion_de_Datos/melb_data_extended.csv\")\n",
        "\n",
        "df_0.info()  #Vemos cuales son las columnas que este dataframe posee a fin de \n",
        "#conocer qué tipo de variables tendremos en cada columna. "
      ]
    },
    {
      "cell_type": "code",
      "execution_count": null,
      "metadata": {
        "colab": {
          "base_uri": "https://localhost:8080/",
          "height": 364
        },
        "id": "oIEnUwuvNy6I",
        "outputId": "81384922-cce5-4119-d9a9-bc9171e085cf"
      },
      "outputs": [
        {
          "output_type": "execute_result",
          "data": {
            "text/plain": [
              "              Rooms         Price      Distance      Postcode      Bedroom2  \\\n",
              "count  11854.000000  1.185400e+04  11854.000000  11854.000000  11854.000000   \n",
              "mean       2.778387  1.028101e+06      9.308571   3096.531888      2.759997   \n",
              "std        0.819015  5.693600e+05      4.506832     64.335054      0.814748   \n",
              "min        1.000000  8.500000e+04      0.000000   3000.000000      1.000000   \n",
              "25%        2.000000  6.380000e+05      5.900000   3044.000000      2.000000   \n",
              "50%        3.000000  8.900000e+05      8.900000   3081.000000      3.000000   \n",
              "75%        3.000000  1.291000e+06     12.400000   3146.000000      3.000000   \n",
              "max        4.000000  9.000000e+06     23.000000   3752.000000      4.000000   \n",
              "\n",
              "           Bathroom           Car       Landsize  BuildingArea    YearBuilt  \\\n",
              "count  11854.000000  11854.000000   11854.000000   6181.000000  7176.000000   \n",
              "mean       1.448456      1.436646     519.158090    134.755730  1964.723384   \n",
              "std        0.588423      0.720897    4155.924195    122.545452    36.629943   \n",
              "min        0.000000      0.000000       0.000000      0.000000  1850.000000   \n",
              "25%        1.000000      1.000000     154.000000     89.000000  1940.000000   \n",
              "50%        1.000000      1.000000     364.000000    120.000000  1970.000000   \n",
              "75%        2.000000      2.000000     624.000000    160.000000  2000.000000   \n",
              "max        3.000000      3.000000  433014.000000   6791.000000  2018.000000   \n",
              "\n",
              "          Lattitude    Longtitude  Propertycount       zipcode  \\\n",
              "count  11854.000000  11854.000000   11854.000000  11848.000000   \n",
              "mean     -37.806710    144.990620    7468.065041   3096.559757   \n",
              "std        0.069955      0.091433    4391.526572     64.337922   \n",
              "min      -38.027680    144.633020     389.000000   3000.000000   \n",
              "25%      -37.854237    144.929340    4380.000000   3044.000000   \n",
              "50%      -37.801280    144.997200    6543.000000   3081.000000   \n",
              "75%      -37.757200    145.051315   10331.000000   3146.000000   \n",
              "max      -37.568570    145.302670   21650.000000   3752.000000   \n",
              "\n",
              "       airbnb_price_mean  airbnb_price_median  airbnb_record_count  \\\n",
              "count       11848.000000         11848.000000         11848.000000   \n",
              "mean          130.960608            88.073388           169.413319   \n",
              "std            62.048860            29.785645           288.857486   \n",
              "min            49.000000            37.500000             3.000000   \n",
              "25%            94.672646            69.000000            45.000000   \n",
              "50%           114.612500            82.000000            76.000000   \n",
              "75%           147.729515           101.000000           184.000000   \n",
              "max           759.083333           180.000000          3367.000000   \n",
              "\n",
              "       airbnb_weekly_price_mean  airbnb_monthly_price_mean  \n",
              "count              11240.000000               10936.000000  \n",
              "mean                 710.613768                2627.226490  \n",
              "std                  339.901505                1449.333835  \n",
              "min                  160.000000                 600.000000  \n",
              "25%                  469.866667                1567.500000  \n",
              "50%                  612.250000                2298.000000  \n",
              "75%                  920.078947                3374.900000  \n",
              "max                 1984.375000                8634.200000  "
            ],
            "text/html": [
              "\n",
              "  <div id=\"df-8e04350c-19ad-4ea1-8dbd-db053aade8b2\">\n",
              "    <div class=\"colab-df-container\">\n",
              "      <div>\n",
              "<style scoped>\n",
              "    .dataframe tbody tr th:only-of-type {\n",
              "        vertical-align: middle;\n",
              "    }\n",
              "\n",
              "    .dataframe tbody tr th {\n",
              "        vertical-align: top;\n",
              "    }\n",
              "\n",
              "    .dataframe thead th {\n",
              "        text-align: right;\n",
              "    }\n",
              "</style>\n",
              "<table border=\"1\" class=\"dataframe\">\n",
              "  <thead>\n",
              "    <tr style=\"text-align: right;\">\n",
              "      <th></th>\n",
              "      <th>Rooms</th>\n",
              "      <th>Price</th>\n",
              "      <th>Distance</th>\n",
              "      <th>Postcode</th>\n",
              "      <th>Bedroom2</th>\n",
              "      <th>Bathroom</th>\n",
              "      <th>Car</th>\n",
              "      <th>Landsize</th>\n",
              "      <th>BuildingArea</th>\n",
              "      <th>YearBuilt</th>\n",
              "      <th>Lattitude</th>\n",
              "      <th>Longtitude</th>\n",
              "      <th>Propertycount</th>\n",
              "      <th>zipcode</th>\n",
              "      <th>airbnb_price_mean</th>\n",
              "      <th>airbnb_price_median</th>\n",
              "      <th>airbnb_record_count</th>\n",
              "      <th>airbnb_weekly_price_mean</th>\n",
              "      <th>airbnb_monthly_price_mean</th>\n",
              "    </tr>\n",
              "  </thead>\n",
              "  <tbody>\n",
              "    <tr>\n",
              "      <th>count</th>\n",
              "      <td>11854.000000</td>\n",
              "      <td>1.185400e+04</td>\n",
              "      <td>11854.000000</td>\n",
              "      <td>11854.000000</td>\n",
              "      <td>11854.000000</td>\n",
              "      <td>11854.000000</td>\n",
              "      <td>11854.000000</td>\n",
              "      <td>11854.000000</td>\n",
              "      <td>6181.000000</td>\n",
              "      <td>7176.000000</td>\n",
              "      <td>11854.000000</td>\n",
              "      <td>11854.000000</td>\n",
              "      <td>11854.000000</td>\n",
              "      <td>11848.000000</td>\n",
              "      <td>11848.000000</td>\n",
              "      <td>11848.000000</td>\n",
              "      <td>11848.000000</td>\n",
              "      <td>11240.000000</td>\n",
              "      <td>10936.000000</td>\n",
              "    </tr>\n",
              "    <tr>\n",
              "      <th>mean</th>\n",
              "      <td>2.778387</td>\n",
              "      <td>1.028101e+06</td>\n",
              "      <td>9.308571</td>\n",
              "      <td>3096.531888</td>\n",
              "      <td>2.759997</td>\n",
              "      <td>1.448456</td>\n",
              "      <td>1.436646</td>\n",
              "      <td>519.158090</td>\n",
              "      <td>134.755730</td>\n",
              "      <td>1964.723384</td>\n",
              "      <td>-37.806710</td>\n",
              "      <td>144.990620</td>\n",
              "      <td>7468.065041</td>\n",
              "      <td>3096.559757</td>\n",
              "      <td>130.960608</td>\n",
              "      <td>88.073388</td>\n",
              "      <td>169.413319</td>\n",
              "      <td>710.613768</td>\n",
              "      <td>2627.226490</td>\n",
              "    </tr>\n",
              "    <tr>\n",
              "      <th>std</th>\n",
              "      <td>0.819015</td>\n",
              "      <td>5.693600e+05</td>\n",
              "      <td>4.506832</td>\n",
              "      <td>64.335054</td>\n",
              "      <td>0.814748</td>\n",
              "      <td>0.588423</td>\n",
              "      <td>0.720897</td>\n",
              "      <td>4155.924195</td>\n",
              "      <td>122.545452</td>\n",
              "      <td>36.629943</td>\n",
              "      <td>0.069955</td>\n",
              "      <td>0.091433</td>\n",
              "      <td>4391.526572</td>\n",
              "      <td>64.337922</td>\n",
              "      <td>62.048860</td>\n",
              "      <td>29.785645</td>\n",
              "      <td>288.857486</td>\n",
              "      <td>339.901505</td>\n",
              "      <td>1449.333835</td>\n",
              "    </tr>\n",
              "    <tr>\n",
              "      <th>min</th>\n",
              "      <td>1.000000</td>\n",
              "      <td>8.500000e+04</td>\n",
              "      <td>0.000000</td>\n",
              "      <td>3000.000000</td>\n",
              "      <td>1.000000</td>\n",
              "      <td>0.000000</td>\n",
              "      <td>0.000000</td>\n",
              "      <td>0.000000</td>\n",
              "      <td>0.000000</td>\n",
              "      <td>1850.000000</td>\n",
              "      <td>-38.027680</td>\n",
              "      <td>144.633020</td>\n",
              "      <td>389.000000</td>\n",
              "      <td>3000.000000</td>\n",
              "      <td>49.000000</td>\n",
              "      <td>37.500000</td>\n",
              "      <td>3.000000</td>\n",
              "      <td>160.000000</td>\n",
              "      <td>600.000000</td>\n",
              "    </tr>\n",
              "    <tr>\n",
              "      <th>25%</th>\n",
              "      <td>2.000000</td>\n",
              "      <td>6.380000e+05</td>\n",
              "      <td>5.900000</td>\n",
              "      <td>3044.000000</td>\n",
              "      <td>2.000000</td>\n",
              "      <td>1.000000</td>\n",
              "      <td>1.000000</td>\n",
              "      <td>154.000000</td>\n",
              "      <td>89.000000</td>\n",
              "      <td>1940.000000</td>\n",
              "      <td>-37.854237</td>\n",
              "      <td>144.929340</td>\n",
              "      <td>4380.000000</td>\n",
              "      <td>3044.000000</td>\n",
              "      <td>94.672646</td>\n",
              "      <td>69.000000</td>\n",
              "      <td>45.000000</td>\n",
              "      <td>469.866667</td>\n",
              "      <td>1567.500000</td>\n",
              "    </tr>\n",
              "    <tr>\n",
              "      <th>50%</th>\n",
              "      <td>3.000000</td>\n",
              "      <td>8.900000e+05</td>\n",
              "      <td>8.900000</td>\n",
              "      <td>3081.000000</td>\n",
              "      <td>3.000000</td>\n",
              "      <td>1.000000</td>\n",
              "      <td>1.000000</td>\n",
              "      <td>364.000000</td>\n",
              "      <td>120.000000</td>\n",
              "      <td>1970.000000</td>\n",
              "      <td>-37.801280</td>\n",
              "      <td>144.997200</td>\n",
              "      <td>6543.000000</td>\n",
              "      <td>3081.000000</td>\n",
              "      <td>114.612500</td>\n",
              "      <td>82.000000</td>\n",
              "      <td>76.000000</td>\n",
              "      <td>612.250000</td>\n",
              "      <td>2298.000000</td>\n",
              "    </tr>\n",
              "    <tr>\n",
              "      <th>75%</th>\n",
              "      <td>3.000000</td>\n",
              "      <td>1.291000e+06</td>\n",
              "      <td>12.400000</td>\n",
              "      <td>3146.000000</td>\n",
              "      <td>3.000000</td>\n",
              "      <td>2.000000</td>\n",
              "      <td>2.000000</td>\n",
              "      <td>624.000000</td>\n",
              "      <td>160.000000</td>\n",
              "      <td>2000.000000</td>\n",
              "      <td>-37.757200</td>\n",
              "      <td>145.051315</td>\n",
              "      <td>10331.000000</td>\n",
              "      <td>3146.000000</td>\n",
              "      <td>147.729515</td>\n",
              "      <td>101.000000</td>\n",
              "      <td>184.000000</td>\n",
              "      <td>920.078947</td>\n",
              "      <td>3374.900000</td>\n",
              "    </tr>\n",
              "    <tr>\n",
              "      <th>max</th>\n",
              "      <td>4.000000</td>\n",
              "      <td>9.000000e+06</td>\n",
              "      <td>23.000000</td>\n",
              "      <td>3752.000000</td>\n",
              "      <td>4.000000</td>\n",
              "      <td>3.000000</td>\n",
              "      <td>3.000000</td>\n",
              "      <td>433014.000000</td>\n",
              "      <td>6791.000000</td>\n",
              "      <td>2018.000000</td>\n",
              "      <td>-37.568570</td>\n",
              "      <td>145.302670</td>\n",
              "      <td>21650.000000</td>\n",
              "      <td>3752.000000</td>\n",
              "      <td>759.083333</td>\n",
              "      <td>180.000000</td>\n",
              "      <td>3367.000000</td>\n",
              "      <td>1984.375000</td>\n",
              "      <td>8634.200000</td>\n",
              "    </tr>\n",
              "  </tbody>\n",
              "</table>\n",
              "</div>\n",
              "      <button class=\"colab-df-convert\" onclick=\"convertToInteractive('df-8e04350c-19ad-4ea1-8dbd-db053aade8b2')\"\n",
              "              title=\"Convert this dataframe to an interactive table.\"\n",
              "              style=\"display:none;\">\n",
              "        \n",
              "  <svg xmlns=\"http://www.w3.org/2000/svg\" height=\"24px\"viewBox=\"0 0 24 24\"\n",
              "       width=\"24px\">\n",
              "    <path d=\"M0 0h24v24H0V0z\" fill=\"none\"/>\n",
              "    <path d=\"M18.56 5.44l.94 2.06.94-2.06 2.06-.94-2.06-.94-.94-2.06-.94 2.06-2.06.94zm-11 1L8.5 8.5l.94-2.06 2.06-.94-2.06-.94L8.5 2.5l-.94 2.06-2.06.94zm10 10l.94 2.06.94-2.06 2.06-.94-2.06-.94-.94-2.06-.94 2.06-2.06.94z\"/><path d=\"M17.41 7.96l-1.37-1.37c-.4-.4-.92-.59-1.43-.59-.52 0-1.04.2-1.43.59L10.3 9.45l-7.72 7.72c-.78.78-.78 2.05 0 2.83L4 21.41c.39.39.9.59 1.41.59.51 0 1.02-.2 1.41-.59l7.78-7.78 2.81-2.81c.8-.78.8-2.07 0-2.86zM5.41 20L4 18.59l7.72-7.72 1.47 1.35L5.41 20z\"/>\n",
              "  </svg>\n",
              "      </button>\n",
              "      \n",
              "  <style>\n",
              "    .colab-df-container {\n",
              "      display:flex;\n",
              "      flex-wrap:wrap;\n",
              "      gap: 12px;\n",
              "    }\n",
              "\n",
              "    .colab-df-convert {\n",
              "      background-color: #E8F0FE;\n",
              "      border: none;\n",
              "      border-radius: 50%;\n",
              "      cursor: pointer;\n",
              "      display: none;\n",
              "      fill: #1967D2;\n",
              "      height: 32px;\n",
              "      padding: 0 0 0 0;\n",
              "      width: 32px;\n",
              "    }\n",
              "\n",
              "    .colab-df-convert:hover {\n",
              "      background-color: #E2EBFA;\n",
              "      box-shadow: 0px 1px 2px rgba(60, 64, 67, 0.3), 0px 1px 3px 1px rgba(60, 64, 67, 0.15);\n",
              "      fill: #174EA6;\n",
              "    }\n",
              "\n",
              "    [theme=dark] .colab-df-convert {\n",
              "      background-color: #3B4455;\n",
              "      fill: #D2E3FC;\n",
              "    }\n",
              "\n",
              "    [theme=dark] .colab-df-convert:hover {\n",
              "      background-color: #434B5C;\n",
              "      box-shadow: 0px 1px 3px 1px rgba(0, 0, 0, 0.15);\n",
              "      filter: drop-shadow(0px 1px 2px rgba(0, 0, 0, 0.3));\n",
              "      fill: #FFFFFF;\n",
              "    }\n",
              "  </style>\n",
              "\n",
              "      <script>\n",
              "        const buttonEl =\n",
              "          document.querySelector('#df-8e04350c-19ad-4ea1-8dbd-db053aade8b2 button.colab-df-convert');\n",
              "        buttonEl.style.display =\n",
              "          google.colab.kernel.accessAllowed ? 'block' : 'none';\n",
              "\n",
              "        async function convertToInteractive(key) {\n",
              "          const element = document.querySelector('#df-8e04350c-19ad-4ea1-8dbd-db053aade8b2');\n",
              "          const dataTable =\n",
              "            await google.colab.kernel.invokeFunction('convertToInteractive',\n",
              "                                                     [key], {});\n",
              "          if (!dataTable) return;\n",
              "\n",
              "          const docLinkHtml = 'Like what you see? Visit the ' +\n",
              "            '<a target=\"_blank\" href=https://colab.research.google.com/notebooks/data_table.ipynb>data table notebook</a>'\n",
              "            + ' to learn more about interactive tables.';\n",
              "          element.innerHTML = '';\n",
              "          dataTable['output_type'] = 'display_data';\n",
              "          await google.colab.output.renderOutput(dataTable, element);\n",
              "          const docLink = document.createElement('div');\n",
              "          docLink.innerHTML = docLinkHtml;\n",
              "          element.appendChild(docLink);\n",
              "        }\n",
              "      </script>\n",
              "    </div>\n",
              "  </div>\n",
              "  "
            ]
          },
          "metadata": {},
          "execution_count": 3
        }
      ],
      "source": [
        "#Se realiza un describe del df_0 y se observa que la variable Bathroom = 0 es inconsistente,\n",
        "# por lo tanto se le imputará un valor = 1 \n",
        "\n",
        "df_0.describe()"
      ]
    },
    {
      "cell_type": "code",
      "execution_count": null,
      "metadata": {
        "id": "AdaT8CcdNsxQ"
      },
      "outputs": [],
      "source": [
        "#Se imputa la Variable Bathroom\n",
        "\n",
        "df_0.loc[df_0.Bathroom<1,'Bathroom']=1"
      ]
    },
    {
      "cell_type": "code",
      "execution_count": null,
      "metadata": {
        "colab": {
          "base_uri": "https://localhost:8080/",
          "height": 364
        },
        "id": "sn6D9bgJOyqc",
        "outputId": "c1861321-18e2-4d7e-b747-b950e2e6b4a6"
      },
      "outputs": [
        {
          "output_type": "execute_result",
          "data": {
            "text/plain": [
              "              Rooms         Price      Distance      Postcode      Bedroom2  \\\n",
              "count  11854.000000  1.185400e+04  11854.000000  11854.000000  11854.000000   \n",
              "mean       2.778387  1.028101e+06      9.308571   3096.531888      2.759997   \n",
              "std        0.819015  5.693600e+05      4.506832     64.335054      0.814748   \n",
              "min        1.000000  8.500000e+04      0.000000   3000.000000      1.000000   \n",
              "25%        2.000000  6.380000e+05      5.900000   3044.000000      2.000000   \n",
              "50%        3.000000  8.900000e+05      8.900000   3081.000000      3.000000   \n",
              "75%        3.000000  1.291000e+06     12.400000   3146.000000      3.000000   \n",
              "max        4.000000  9.000000e+06     23.000000   3752.000000      4.000000   \n",
              "\n",
              "           Bathroom           Car       Landsize  BuildingArea    YearBuilt  \\\n",
              "count  11854.000000  11854.000000   11854.000000   6181.000000  7176.000000   \n",
              "mean       1.450818      1.436646     519.158090    134.755730  1964.723384   \n",
              "std        0.584599      0.720897    4155.924195    122.545452    36.629943   \n",
              "min        1.000000      0.000000       0.000000      0.000000  1850.000000   \n",
              "25%        1.000000      1.000000     154.000000     89.000000  1940.000000   \n",
              "50%        1.000000      1.000000     364.000000    120.000000  1970.000000   \n",
              "75%        2.000000      2.000000     624.000000    160.000000  2000.000000   \n",
              "max        3.000000      3.000000  433014.000000   6791.000000  2018.000000   \n",
              "\n",
              "          Lattitude    Longtitude  Propertycount       zipcode  \\\n",
              "count  11854.000000  11854.000000   11854.000000  11848.000000   \n",
              "mean     -37.806710    144.990620    7468.065041   3096.559757   \n",
              "std        0.069955      0.091433    4391.526572     64.337922   \n",
              "min      -38.027680    144.633020     389.000000   3000.000000   \n",
              "25%      -37.854237    144.929340    4380.000000   3044.000000   \n",
              "50%      -37.801280    144.997200    6543.000000   3081.000000   \n",
              "75%      -37.757200    145.051315   10331.000000   3146.000000   \n",
              "max      -37.568570    145.302670   21650.000000   3752.000000   \n",
              "\n",
              "       airbnb_price_mean  airbnb_price_median  airbnb_record_count  \\\n",
              "count       11848.000000         11848.000000         11848.000000   \n",
              "mean          130.960608            88.073388           169.413319   \n",
              "std            62.048860            29.785645           288.857486   \n",
              "min            49.000000            37.500000             3.000000   \n",
              "25%            94.672646            69.000000            45.000000   \n",
              "50%           114.612500            82.000000            76.000000   \n",
              "75%           147.729515           101.000000           184.000000   \n",
              "max           759.083333           180.000000          3367.000000   \n",
              "\n",
              "       airbnb_weekly_price_mean  airbnb_monthly_price_mean  \n",
              "count              11240.000000               10936.000000  \n",
              "mean                 710.613768                2627.226490  \n",
              "std                  339.901505                1449.333835  \n",
              "min                  160.000000                 600.000000  \n",
              "25%                  469.866667                1567.500000  \n",
              "50%                  612.250000                2298.000000  \n",
              "75%                  920.078947                3374.900000  \n",
              "max                 1984.375000                8634.200000  "
            ],
            "text/html": [
              "\n",
              "  <div id=\"df-46266dba-ac51-40c3-a452-a8b42c905ba4\">\n",
              "    <div class=\"colab-df-container\">\n",
              "      <div>\n",
              "<style scoped>\n",
              "    .dataframe tbody tr th:only-of-type {\n",
              "        vertical-align: middle;\n",
              "    }\n",
              "\n",
              "    .dataframe tbody tr th {\n",
              "        vertical-align: top;\n",
              "    }\n",
              "\n",
              "    .dataframe thead th {\n",
              "        text-align: right;\n",
              "    }\n",
              "</style>\n",
              "<table border=\"1\" class=\"dataframe\">\n",
              "  <thead>\n",
              "    <tr style=\"text-align: right;\">\n",
              "      <th></th>\n",
              "      <th>Rooms</th>\n",
              "      <th>Price</th>\n",
              "      <th>Distance</th>\n",
              "      <th>Postcode</th>\n",
              "      <th>Bedroom2</th>\n",
              "      <th>Bathroom</th>\n",
              "      <th>Car</th>\n",
              "      <th>Landsize</th>\n",
              "      <th>BuildingArea</th>\n",
              "      <th>YearBuilt</th>\n",
              "      <th>Lattitude</th>\n",
              "      <th>Longtitude</th>\n",
              "      <th>Propertycount</th>\n",
              "      <th>zipcode</th>\n",
              "      <th>airbnb_price_mean</th>\n",
              "      <th>airbnb_price_median</th>\n",
              "      <th>airbnb_record_count</th>\n",
              "      <th>airbnb_weekly_price_mean</th>\n",
              "      <th>airbnb_monthly_price_mean</th>\n",
              "    </tr>\n",
              "  </thead>\n",
              "  <tbody>\n",
              "    <tr>\n",
              "      <th>count</th>\n",
              "      <td>11854.000000</td>\n",
              "      <td>1.185400e+04</td>\n",
              "      <td>11854.000000</td>\n",
              "      <td>11854.000000</td>\n",
              "      <td>11854.000000</td>\n",
              "      <td>11854.000000</td>\n",
              "      <td>11854.000000</td>\n",
              "      <td>11854.000000</td>\n",
              "      <td>6181.000000</td>\n",
              "      <td>7176.000000</td>\n",
              "      <td>11854.000000</td>\n",
              "      <td>11854.000000</td>\n",
              "      <td>11854.000000</td>\n",
              "      <td>11848.000000</td>\n",
              "      <td>11848.000000</td>\n",
              "      <td>11848.000000</td>\n",
              "      <td>11848.000000</td>\n",
              "      <td>11240.000000</td>\n",
              "      <td>10936.000000</td>\n",
              "    </tr>\n",
              "    <tr>\n",
              "      <th>mean</th>\n",
              "      <td>2.778387</td>\n",
              "      <td>1.028101e+06</td>\n",
              "      <td>9.308571</td>\n",
              "      <td>3096.531888</td>\n",
              "      <td>2.759997</td>\n",
              "      <td>1.450818</td>\n",
              "      <td>1.436646</td>\n",
              "      <td>519.158090</td>\n",
              "      <td>134.755730</td>\n",
              "      <td>1964.723384</td>\n",
              "      <td>-37.806710</td>\n",
              "      <td>144.990620</td>\n",
              "      <td>7468.065041</td>\n",
              "      <td>3096.559757</td>\n",
              "      <td>130.960608</td>\n",
              "      <td>88.073388</td>\n",
              "      <td>169.413319</td>\n",
              "      <td>710.613768</td>\n",
              "      <td>2627.226490</td>\n",
              "    </tr>\n",
              "    <tr>\n",
              "      <th>std</th>\n",
              "      <td>0.819015</td>\n",
              "      <td>5.693600e+05</td>\n",
              "      <td>4.506832</td>\n",
              "      <td>64.335054</td>\n",
              "      <td>0.814748</td>\n",
              "      <td>0.584599</td>\n",
              "      <td>0.720897</td>\n",
              "      <td>4155.924195</td>\n",
              "      <td>122.545452</td>\n",
              "      <td>36.629943</td>\n",
              "      <td>0.069955</td>\n",
              "      <td>0.091433</td>\n",
              "      <td>4391.526572</td>\n",
              "      <td>64.337922</td>\n",
              "      <td>62.048860</td>\n",
              "      <td>29.785645</td>\n",
              "      <td>288.857486</td>\n",
              "      <td>339.901505</td>\n",
              "      <td>1449.333835</td>\n",
              "    </tr>\n",
              "    <tr>\n",
              "      <th>min</th>\n",
              "      <td>1.000000</td>\n",
              "      <td>8.500000e+04</td>\n",
              "      <td>0.000000</td>\n",
              "      <td>3000.000000</td>\n",
              "      <td>1.000000</td>\n",
              "      <td>1.000000</td>\n",
              "      <td>0.000000</td>\n",
              "      <td>0.000000</td>\n",
              "      <td>0.000000</td>\n",
              "      <td>1850.000000</td>\n",
              "      <td>-38.027680</td>\n",
              "      <td>144.633020</td>\n",
              "      <td>389.000000</td>\n",
              "      <td>3000.000000</td>\n",
              "      <td>49.000000</td>\n",
              "      <td>37.500000</td>\n",
              "      <td>3.000000</td>\n",
              "      <td>160.000000</td>\n",
              "      <td>600.000000</td>\n",
              "    </tr>\n",
              "    <tr>\n",
              "      <th>25%</th>\n",
              "      <td>2.000000</td>\n",
              "      <td>6.380000e+05</td>\n",
              "      <td>5.900000</td>\n",
              "      <td>3044.000000</td>\n",
              "      <td>2.000000</td>\n",
              "      <td>1.000000</td>\n",
              "      <td>1.000000</td>\n",
              "      <td>154.000000</td>\n",
              "      <td>89.000000</td>\n",
              "      <td>1940.000000</td>\n",
              "      <td>-37.854237</td>\n",
              "      <td>144.929340</td>\n",
              "      <td>4380.000000</td>\n",
              "      <td>3044.000000</td>\n",
              "      <td>94.672646</td>\n",
              "      <td>69.000000</td>\n",
              "      <td>45.000000</td>\n",
              "      <td>469.866667</td>\n",
              "      <td>1567.500000</td>\n",
              "    </tr>\n",
              "    <tr>\n",
              "      <th>50%</th>\n",
              "      <td>3.000000</td>\n",
              "      <td>8.900000e+05</td>\n",
              "      <td>8.900000</td>\n",
              "      <td>3081.000000</td>\n",
              "      <td>3.000000</td>\n",
              "      <td>1.000000</td>\n",
              "      <td>1.000000</td>\n",
              "      <td>364.000000</td>\n",
              "      <td>120.000000</td>\n",
              "      <td>1970.000000</td>\n",
              "      <td>-37.801280</td>\n",
              "      <td>144.997200</td>\n",
              "      <td>6543.000000</td>\n",
              "      <td>3081.000000</td>\n",
              "      <td>114.612500</td>\n",
              "      <td>82.000000</td>\n",
              "      <td>76.000000</td>\n",
              "      <td>612.250000</td>\n",
              "      <td>2298.000000</td>\n",
              "    </tr>\n",
              "    <tr>\n",
              "      <th>75%</th>\n",
              "      <td>3.000000</td>\n",
              "      <td>1.291000e+06</td>\n",
              "      <td>12.400000</td>\n",
              "      <td>3146.000000</td>\n",
              "      <td>3.000000</td>\n",
              "      <td>2.000000</td>\n",
              "      <td>2.000000</td>\n",
              "      <td>624.000000</td>\n",
              "      <td>160.000000</td>\n",
              "      <td>2000.000000</td>\n",
              "      <td>-37.757200</td>\n",
              "      <td>145.051315</td>\n",
              "      <td>10331.000000</td>\n",
              "      <td>3146.000000</td>\n",
              "      <td>147.729515</td>\n",
              "      <td>101.000000</td>\n",
              "      <td>184.000000</td>\n",
              "      <td>920.078947</td>\n",
              "      <td>3374.900000</td>\n",
              "    </tr>\n",
              "    <tr>\n",
              "      <th>max</th>\n",
              "      <td>4.000000</td>\n",
              "      <td>9.000000e+06</td>\n",
              "      <td>23.000000</td>\n",
              "      <td>3752.000000</td>\n",
              "      <td>4.000000</td>\n",
              "      <td>3.000000</td>\n",
              "      <td>3.000000</td>\n",
              "      <td>433014.000000</td>\n",
              "      <td>6791.000000</td>\n",
              "      <td>2018.000000</td>\n",
              "      <td>-37.568570</td>\n",
              "      <td>145.302670</td>\n",
              "      <td>21650.000000</td>\n",
              "      <td>3752.000000</td>\n",
              "      <td>759.083333</td>\n",
              "      <td>180.000000</td>\n",
              "      <td>3367.000000</td>\n",
              "      <td>1984.375000</td>\n",
              "      <td>8634.200000</td>\n",
              "    </tr>\n",
              "  </tbody>\n",
              "</table>\n",
              "</div>\n",
              "      <button class=\"colab-df-convert\" onclick=\"convertToInteractive('df-46266dba-ac51-40c3-a452-a8b42c905ba4')\"\n",
              "              title=\"Convert this dataframe to an interactive table.\"\n",
              "              style=\"display:none;\">\n",
              "        \n",
              "  <svg xmlns=\"http://www.w3.org/2000/svg\" height=\"24px\"viewBox=\"0 0 24 24\"\n",
              "       width=\"24px\">\n",
              "    <path d=\"M0 0h24v24H0V0z\" fill=\"none\"/>\n",
              "    <path d=\"M18.56 5.44l.94 2.06.94-2.06 2.06-.94-2.06-.94-.94-2.06-.94 2.06-2.06.94zm-11 1L8.5 8.5l.94-2.06 2.06-.94-2.06-.94L8.5 2.5l-.94 2.06-2.06.94zm10 10l.94 2.06.94-2.06 2.06-.94-2.06-.94-.94-2.06-.94 2.06-2.06.94z\"/><path d=\"M17.41 7.96l-1.37-1.37c-.4-.4-.92-.59-1.43-.59-.52 0-1.04.2-1.43.59L10.3 9.45l-7.72 7.72c-.78.78-.78 2.05 0 2.83L4 21.41c.39.39.9.59 1.41.59.51 0 1.02-.2 1.41-.59l7.78-7.78 2.81-2.81c.8-.78.8-2.07 0-2.86zM5.41 20L4 18.59l7.72-7.72 1.47 1.35L5.41 20z\"/>\n",
              "  </svg>\n",
              "      </button>\n",
              "      \n",
              "  <style>\n",
              "    .colab-df-container {\n",
              "      display:flex;\n",
              "      flex-wrap:wrap;\n",
              "      gap: 12px;\n",
              "    }\n",
              "\n",
              "    .colab-df-convert {\n",
              "      background-color: #E8F0FE;\n",
              "      border: none;\n",
              "      border-radius: 50%;\n",
              "      cursor: pointer;\n",
              "      display: none;\n",
              "      fill: #1967D2;\n",
              "      height: 32px;\n",
              "      padding: 0 0 0 0;\n",
              "      width: 32px;\n",
              "    }\n",
              "\n",
              "    .colab-df-convert:hover {\n",
              "      background-color: #E2EBFA;\n",
              "      box-shadow: 0px 1px 2px rgba(60, 64, 67, 0.3), 0px 1px 3px 1px rgba(60, 64, 67, 0.15);\n",
              "      fill: #174EA6;\n",
              "    }\n",
              "\n",
              "    [theme=dark] .colab-df-convert {\n",
              "      background-color: #3B4455;\n",
              "      fill: #D2E3FC;\n",
              "    }\n",
              "\n",
              "    [theme=dark] .colab-df-convert:hover {\n",
              "      background-color: #434B5C;\n",
              "      box-shadow: 0px 1px 3px 1px rgba(0, 0, 0, 0.15);\n",
              "      filter: drop-shadow(0px 1px 2px rgba(0, 0, 0, 0.3));\n",
              "      fill: #FFFFFF;\n",
              "    }\n",
              "  </style>\n",
              "\n",
              "      <script>\n",
              "        const buttonEl =\n",
              "          document.querySelector('#df-46266dba-ac51-40c3-a452-a8b42c905ba4 button.colab-df-convert');\n",
              "        buttonEl.style.display =\n",
              "          google.colab.kernel.accessAllowed ? 'block' : 'none';\n",
              "\n",
              "        async function convertToInteractive(key) {\n",
              "          const element = document.querySelector('#df-46266dba-ac51-40c3-a452-a8b42c905ba4');\n",
              "          const dataTable =\n",
              "            await google.colab.kernel.invokeFunction('convertToInteractive',\n",
              "                                                     [key], {});\n",
              "          if (!dataTable) return;\n",
              "\n",
              "          const docLinkHtml = 'Like what you see? Visit the ' +\n",
              "            '<a target=\"_blank\" href=https://colab.research.google.com/notebooks/data_table.ipynb>data table notebook</a>'\n",
              "            + ' to learn more about interactive tables.';\n",
              "          element.innerHTML = '';\n",
              "          dataTable['output_type'] = 'display_data';\n",
              "          await google.colab.output.renderOutput(dataTable, element);\n",
              "          const docLink = document.createElement('div');\n",
              "          docLink.innerHTML = docLinkHtml;\n",
              "          element.appendChild(docLink);\n",
              "        }\n",
              "      </script>\n",
              "    </div>\n",
              "  </div>\n",
              "  "
            ]
          },
          "metadata": {},
          "execution_count": 5
        }
      ],
      "source": [
        "df_0.describe() #comprobamos luego, que se haya solucionado este inconveniente"
      ]
    },
    {
      "cell_type": "markdown",
      "metadata": {
        "id": "s-mixICN22kA"
      },
      "source": [
        "## Ejercicio 1: Encoding\n",
        "\n",
        "1. Seleccionar todas las filas y columnas del conjunto de datos obtenido en la parte 1 del entregable, **excepto** `BuildingArea` y `YearBuilt`, que volveremos a imputar más adelante.\n",
        "\n",
        "2. Aplicar una codificación One-hot encoding a cada fila, tanto para variables numéricas como categóricas. Si lo consideran necesario, pueden volver a reducir el número de categorías únicas.\n",
        "\n",
        "Algunas opciones:\n",
        "  1. Utilizar `OneHotEncoder` junto con el parámetro `categories` para las variables categóricas y luego usar `np.hstack` para concatenar el resultado con las variables numéricas. \n",
        "  2. `DictVectorizer` con algunos pasos de pre-proceso previo.\n",
        "\n",
        "Recordar también que el atributo `pandas.DataFrame.values` permite acceder a la matriz de np subyacente a un DataFrame.\n"
      ]
    },
    {
      "cell_type": "markdown",
      "metadata": {
        "id": "vWAMkA-9hMEr"
      },
      "source": [
        "Aca se puede ver que en Address tenemos al rededor de 12000 variables distintas, lo que va a influir enormemente en el tamaño de la matriz OHE. \n",
        "Más adelante se puede ver que si se agrega Address la matriz pesa cerca de 500 Mb, mientras que si no tiene esta columna, queda en solamente 23 Mb.\n",
        "Si desea tener una matriz con un peso aun más reducido se pueden prescidir de variables como por ejemplo \"SellerG\" ya que se estima que esta columna no es relevante. Tampoco se considera la columna CouncilArea para el análisis."
      ]
    },
    {
      "cell_type": "code",
      "execution_count": null,
      "metadata": {
        "colab": {
          "base_uri": "https://localhost:8080/"
        },
        "id": "UIRJ1kjGu3vc",
        "outputId": "ef8f365e-7d9f-45c1-e4a2-d5e894d55d80"
      },
      "outputs": [
        {
          "output_type": "stream",
          "name": "stdout",
          "text": [
            "Suburb                         246\n",
            "Address                      11694\n",
            "Rooms                            4\n",
            "Type                             3\n",
            "Price                         2040\n",
            "Method                           5\n",
            "SellerG                        235\n",
            "Date                            58\n",
            "Distance                       154\n",
            "Postcode                       145\n",
            "Bedroom2                         4\n",
            "Bathroom                         3\n",
            "Car                              4\n",
            "Landsize                      1351\n",
            "BuildingArea                   505\n",
            "YearBuilt                      137\n",
            "CouncilArea                     27\n",
            "Lattitude                     5601\n",
            "Longtitude                    6079\n",
            "Regionname                       6\n",
            "Propertycount                  243\n",
            "zipcode                        143\n",
            "airbnb_price_mean              143\n",
            "airbnb_price_median             77\n",
            "airbnb_record_count            100\n",
            "airbnb_weekly_price_mean       116\n",
            "airbnb_monthly_price_mean      114\n",
            "dtype: int64\n"
          ]
        }
      ],
      "source": [
        "print(df_0.nunique())\n",
        "#De las columnas anteriores vemos que las variables categoricas son las siguientes\n",
        "categoric_col=[\"Suburb\",\"Type\", \"Method\",\"Regionname\"]\n",
        "\n",
        "#y las variables discretas, acotadas a un numero reducido de variables son las siguientes. Las variables numéricas continuas no son consideradas en este apartado\n",
        "#dado que los métodos de Encoding no performan correctamente para ese tipo de variables.\n",
        "numeric_col=[\"Rooms\",\"Postcode\",\"Bedroom2\",\"Bathroom\",\"Car\"]\n"
      ]
    },
    {
      "cell_type": "markdown",
      "source": [
        "Realizamos la extracción de las variables YearBuilt y BuildingArea.\n",
        "A continuación armamos el DF con los datos que son unicamente de nuestro interes."
      ],
      "metadata": {
        "id": "A9oPxnar8TNr"
      }
    },
    {
      "cell_type": "code",
      "execution_count": null,
      "metadata": {
        "id": "K_Qk43aLIl4d"
      },
      "outputs": [],
      "source": [
        "#Tal como se pide desde un principio, quitaremos BuildingArea y YearBuilt\n",
        "melb_df=df_0.drop('YearBuilt',axis=1)\n",
        "melb_df=melb_df.drop('BuildingArea',axis=1)\n",
        "list(melb_df) #aqui se ven que quitaron las columnas que queriamos\n",
        "OHE_melb_df=melb_df[categoric_col+numeric_col] #armamos un dataset con las categorias que nos interesan"
      ]
    },
    {
      "cell_type": "code",
      "execution_count": null,
      "metadata": {
        "colab": {
          "base_uri": "https://localhost:8080/"
        },
        "id": "oSNfW1BBJnV0",
        "outputId": "32eb8507-045d-4a0f-f584-6c10f5185540"
      },
      "outputs": [
        {
          "output_type": "execute_result",
          "data": {
            "text/plain": [
              "Suburb        246\n",
              "Type            3\n",
              "Method          5\n",
              "Regionname      6\n",
              "Rooms           4\n",
              "Postcode      145\n",
              "Bedroom2        4\n",
              "Bathroom        3\n",
              "Car             4\n",
              "dtype: int64"
            ]
          },
          "metadata": {},
          "execution_count": 8
        }
      ],
      "source": [
        "#Volvemos a confirmar qué variables son de nuestro interés y cuántos valores distintos hay\n",
        "OHE_melb_df.nunique()"
      ]
    },
    {
      "cell_type": "code",
      "execution_count": null,
      "metadata": {
        "colab": {
          "base_uri": "https://localhost:8080/"
        },
        "id": "XPDDOVHNNywn",
        "outputId": "b85daaa6-d034-49f4-bfd1-22099b5f4c86"
      },
      "outputs": [
        {
          "output_type": "execute_result",
          "data": {
            "text/plain": [
              "Suburb        0\n",
              "Type          0\n",
              "Method        0\n",
              "Regionname    0\n",
              "Rooms         0\n",
              "Postcode      0\n",
              "Bedroom2      0\n",
              "Bathroom      0\n",
              "Car           0\n",
              "dtype: int64"
            ]
          },
          "metadata": {},
          "execution_count": 9
        }
      ],
      "source": [
        "# Vemos si existen valores nulos. \n",
        "OHE_melb_df.isna().sum()"
      ]
    },
    {
      "cell_type": "markdown",
      "source": [
        "Probamos con aplicar la primer opción One Hot Encoder \n",
        "En este caso vemos que hay 420 columnas porque asigna un valor \"1\" a cada variable distinta, que encuentra en cada columna del dataset. Sin importar que las variables sean numéricas o categóricas puras. \n",
        "Se verá en la opción 2 que DictVectorizer toma las variables numéricas (discretas) y no las separa en distintas columnas, solo dejando una unica columna con los valores de dicha variable. Esto tiene la ventaja de que la matriz obtenida es más compacta y eficiente en cuanto espacio de memoria."
      ],
      "metadata": {
        "id": "i2vPTJeY_D-a"
      }
    },
    {
      "cell_type": "code",
      "execution_count": null,
      "metadata": {
        "colab": {
          "base_uri": "https://localhost:8080/"
        },
        "id": "KVWIT_orZQQC",
        "outputId": "035a14cc-8cd1-47b0-b987-222531360e02"
      },
      "outputs": [
        {
          "output_type": "stream",
          "name": "stdout",
          "text": [
            "[[1. 0. 0. ... 1. 0. 0.]\n",
            " [1. 0. 0. ... 0. 0. 0.]\n",
            " [1. 0. 0. ... 0. 0. 0.]\n",
            " ...\n",
            " [0. 0. 0. ... 0. 1. 0.]\n",
            " [0. 0. 0. ... 0. 1. 0.]\n",
            " [0. 0. 0. ... 1. 0. 0.]]\n",
            "(11854, 420)\n",
            "<class 'numpy.ndarray'>\n"
          ]
        }
      ],
      "source": [
        "#One hot encoder compacto - Opcion 1 \n",
        "encoder= OneHotEncoder(sparse=False) #Sparse=False nos aseguramos que la matriz sea densa\n",
        "encoder.fit(melb_df[categoric_col])\n",
        "categoric_OHE=encoder.transform(melb_df[categoric_col])\n",
        "encoder.fit(melb_df[numeric_col])\n",
        "numeric_OHE=encoder.transform(melb_df[numeric_col])\n",
        "Dense_df=np.hstack((categoric_OHE,numeric_OHE))\n",
        "print(Dense_df)\n",
        "print(Dense_df.shape)\n",
        "print(type(Dense_df))\n"
      ]
    },
    {
      "cell_type": "markdown",
      "source": [
        "Aplicacion de DictVectorizer - Opcion2 \n",
        "Como se puede ver de 420 columnas de la opcion 1 , ahora obtenemos 265 columnas con la opción 2."
      ],
      "metadata": {
        "id": "YB_xVnzl_flW"
      }
    },
    {
      "cell_type": "code",
      "execution_count": null,
      "metadata": {
        "colab": {
          "base_uri": "https://localhost:8080/"
        },
        "id": "CgxrnU1uB3vU",
        "outputId": "f3a36abc-9eae-4f42-949e-325b6a0eeba1"
      },
      "outputs": [
        {
          "output_type": "stream",
          "name": "stdout",
          "text": [
            "[{'Suburb': 'Abbotsford', 'Type': 'h', 'Method': 'S', 'Regionname': 'Northern Metropolitan', 'Rooms': 2, 'Postcode': 3067.0, 'Bedroom2': 2.0, 'Bathroom': 1.0, 'Car': 1.0}, {'Suburb': 'Abbotsford', 'Type': 'h', 'Method': 'S', 'Regionname': 'Northern Metropolitan', 'Rooms': 2, 'Postcode': 3067.0, 'Bedroom2': 2.0, 'Bathroom': 1.0, 'Car': 0.0}]\n",
            "El tamaño es (11854, 265)\n"
          ]
        }
      ],
      "source": [
        "feature_dict = list(OHE_melb_df.T.to_dict().values())\n",
        "print(feature_dict[:2])\n",
        "#Se obtiene la matriz del DictVectorizer: feature_matrix\n",
        "vec = DictVectorizer()\n",
        "feature_matrix = vec.fit_transform(feature_dict)\n",
        "#print(\"La feature_matrix es\", feature_matrix)\n",
        "print(\"El tamaño es\", feature_matrix.shape)\n"
      ]
    },
    {
      "cell_type": "markdown",
      "metadata": {
        "id": "uZmvbKQNi08X"
      },
      "source": [
        "Con el comando \"#vec.get_feature_names()\" podemos ver enlistadas todas las columnas que generó el DirectVectorizer, donde se separó cada subcategoría."
      ]
    },
    {
      "cell_type": "code",
      "execution_count": null,
      "metadata": {
        "id": "goY1mXq1d1CX"
      },
      "outputs": [],
      "source": [
        "#vec.get_feature_names()\n"
      ]
    },
    {
      "cell_type": "markdown",
      "metadata": {
        "id": "s9POp-KFjd_T"
      },
      "source": [
        "Procedemos a calcular el tamaño de las dos matrices, de la opcion 1 y la 2. Se puede ver que para la opcion 2 el espacio ocupado por la matriz es un 37 % menor que la de la opcion 1 "
      ]
    },
    {
      "cell_type": "code",
      "execution_count": null,
      "metadata": {
        "colab": {
          "base_uri": "https://localhost:8080/"
        },
        "id": "MLbuBrWg7Fcm",
        "outputId": "05e92ba7-887b-452f-dbf1-252e5aeceb2b"
      },
      "outputs": [
        {
          "output_type": "stream",
          "name": "stdout",
          "text": [
            "The dense matrix will weight approximately 18.99 MB\n",
            "The dense matrix will weight approximately 11.98 MB\n"
          ]
        }
      ],
      "source": [
        "matrix_size_mb = Dense_df.shape[0] * Dense_df.shape[1] * 4 / 1024 / 1024 #tamaño de la matriz obtenida por la opcion 1\n",
        "print(\"The dense matrix will weight approximately {:.2f} MB\".format(matrix_size_mb))\n",
        "matrix_size_mb = feature_matrix.shape[0] * feature_matrix.shape[1] * 4 / 1024 / 1024 #tamaño de la matriz obtenida por la opcion 2\n",
        "print(\"The dense matrix will weight approximately {:.2f} MB\".format(matrix_size_mb))\n"
      ]
    },
    {
      "cell_type": "markdown",
      "metadata": {
        "id": "f9Yezj3Ejp8L"
      },
      "source": [
        "El tamaño de la matriz del DictVectorizer es lo suficientemente pequeña como para que no sea necesario reducir su tamaño o modificarla. Por lo que se seguirá trabajando con esta matríz"
      ]
    },
    {
      "cell_type": "code",
      "execution_count": null,
      "metadata": {
        "colab": {
          "base_uri": "https://localhost:8080/"
        },
        "id": "Xdo2rUat7C7o",
        "outputId": "f5d82b17-fa7b-412f-aa9a-fbca9ff2f14e"
      },
      "outputs": [
        {
          "output_type": "stream",
          "name": "stdout",
          "text": [
            "Final size: 11.98\n"
          ]
        }
      ],
      "source": [
        "limit_size_mb = 15\n",
        " #En caso de que la matriz fuera de un tamaño superior a 15 MB, utilizariamos el siguiente codigo\n",
        "precision_type = np.float32\n",
        "if matrix_size_mb < limit_size_mb:\n",
        "  dense_feature_matrix = feature_matrix.astype(precision_type).todense()\n",
        "else:\n",
        "  # We calculate how many rows would fit given the number of columns\n",
        "  n_rows = int(limit_size_mb *1024 * 1024 / 4 / feature_matrix.shape[1])\n",
        "  print(\"Matrix too big! Using only first {} of {} rows\".format(\n",
        "      n_rows, feature_matrix.shape[0]))\n",
        "  dense_feature_matrix = feature_matrix[:n_rows].astype(precision_type).todense()\n",
        "\n",
        "print(\"Final size: {:.2f}\".format(dense_feature_matrix.nbytes / 1024 / 1024))\n",
        "# Remember to cut your original data as well.\n",
        "if dense_feature_matrix.shape[0] < len(melb_df):\n",
        "  melb_df_sample = melb_df.iloc[:dense_feature_matrix.shape[0]]\n",
        "else:#\n",
        "  melb_df_sample = melb_df\n",
        "#Como la matriz es de un tamaño menor, no se ve alterada"
      ]
    },
    {
      "cell_type": "markdown",
      "metadata": {
        "id": "ismngxPcfoWb"
      },
      "source": [
        "## Ejercicio 2: Imputación por KNN\n",
        "\n",
        "En el teórico se presentó el método `IterativeImputer` para imputar valores faltantes en variables numéricas. Sin embargo, los ejemplos presentados sólo utilizaban algunas variables numéricas presentes en el conjunto de datos. En este ejercicio, utilizaremos la matriz de datos codificada para imputar datos faltantes de manera más precisa.\n",
        "\n",
        "1. Agregue a la matriz obtenida en el punto anterior las columnas `YearBuilt` y `BuildingArea`.\n",
        "2. Aplique una instancia de `IterativeImputer` con un estimador `KNeighborsRegressor` para imputar los valores de las variables. ¿Es necesario estandarizar o escalar los datos previamente?\n",
        "3. Realice un gráfico mostrando la distribución de cada variable antes de ser imputada, y con ambos métodos de imputación."
      ]
    },
    {
      "cell_type": "markdown",
      "metadata": {
        "id": "C8s800D8kGxb"
      },
      "source": [
        "Con opcion 2  Llamando a la matriz densa del dictvectorizer, comenzamos por concatenar las columnas de YearBuilt, BuildingArea y Price, a la matriz densa. \n",
        "YearBuit, BuildingArea y Price son columnas de un dataset, mientras que Dense_df (el resultado de aplicar el OHE) es un array. Por lo que se pasa cada columna del df a un ndarray de numpy. En este caso el shape es (11854,)"
      ]
    },
    {
      "cell_type": "markdown",
      "source": [
        "Se escalaron las columnas del dataframe ya que existen diferencias significativas entre los ordenes de magnitud entre las columnas del DF, esto podría llevar a que ciertas columnas influyan más que otras debido a esta diferencia. El escalado lo que hará es simplemente poner a todas las columnas dentro de un mismo rango para que no exista esta posibilidad de error. "
      ],
      "metadata": {
        "id": "37VK_kLbBYC9"
      }
    },
    {
      "cell_type": "code",
      "execution_count": null,
      "metadata": {
        "id": "SpjpjPMacAB9",
        "colab": {
          "base_uri": "https://localhost:8080/"
        },
        "outputId": "8095b0f4-3ae4-4fd4-dad4-b98b25b3b084"
      },
      "outputs": [
        {
          "output_type": "stream",
          "name": "stdout",
          "text": [
            "MinMaxScaler()\n",
            "[[0.         0.33333334 0.33333334 ... 1.         0.         0.        ]\n",
            " [0.         0.33333334 0.         ... 1.         0.         0.        ]\n",
            " [0.5        0.6666666  0.         ... 1.         0.         0.        ]\n",
            " ...\n",
            " [0.5        1.         0.6666667  ... 1.         0.         0.        ]\n",
            " [0.5        0.6666666  0.6666667  ... 1.         0.         0.        ]\n",
            " [0.         1.         0.33333334 ... 1.         0.         0.        ]]\n"
          ]
        },
        {
          "output_type": "stream",
          "name": "stderr",
          "text": [
            "/usr/local/lib/python3.7/dist-packages/sklearn/utils/validation.py:598: FutureWarning: np.matrix usage is deprecated in 1.0 and will raise a TypeError in 1.2. Please convert to a numpy array with np.asarray. For more information see: https://numpy.org/doc/stable/reference/generated/numpy.matrix.html\n",
            "  FutureWarning,\n",
            "/usr/local/lib/python3.7/dist-packages/sklearn/utils/validation.py:598: FutureWarning: np.matrix usage is deprecated in 1.0 and will raise a TypeError in 1.2. Please convert to a numpy array with np.asarray. For more information see: https://numpy.org/doc/stable/reference/generated/numpy.matrix.html\n",
            "  FutureWarning,\n",
            "/usr/local/lib/python3.7/dist-packages/sklearn/utils/deprecation.py:87: FutureWarning: Function get_feature_names is deprecated; get_feature_names is deprecated in 1.0 and will be removed in 1.2. Please use get_feature_names_out instead.\n",
            "  warnings.warn(msg, category=FutureWarning)\n"
          ]
        },
        {
          "output_type": "execute_result",
          "data": {
            "text/plain": [
              "Index(['Bathroom', 'Bedroom2', 'Car', 'Method=PI', 'Method=S', 'Method=SA',\n",
              "       'Method=SP', 'Method=VB', 'Postcode', 'Regionname=Eastern Metropolitan',\n",
              "       ...\n",
              "       'Suburb=Wheelers Hill', 'Suburb=Williams Landing',\n",
              "       'Suburb=Williamstown', 'Suburb=Williamstown North', 'Suburb=Windsor',\n",
              "       'Suburb=Yallambie', 'Suburb=Yarraville', 'Type=h', 'Type=t', 'Type=u'],\n",
              "      dtype='object', length=265)"
            ]
          },
          "metadata": {},
          "execution_count": 15
        }
      ],
      "source": [
        "Df_norm_knn=dense_feature_matrix.copy()\n",
        "\n",
        "#Vamos a escalar por columnas, los componentes de la matriz densa. \n",
        "scaler = MinMaxScaler()\n",
        "print(scaler.fit(Df_norm_knn))\n",
        "scaled_array=scaler.transform(Df_norm_knn)\n",
        "print(scaled_array)\n",
        "scaled_Dense_knn_op2_df=pd.DataFrame(scaled_array, columns=vec.get_feature_names())\n",
        "#a la matriz escalada la volvemos dataframe con sus categorias correspondientes\n",
        "scaled_Dense_knn_op2_df.columns\n"
      ]
    },
    {
      "cell_type": "markdown",
      "source": [
        "Luego vamos a ver si existen valores nulos dentro de esta matriz ya escalada."
      ],
      "metadata": {
        "id": "GRiONotGAQw_"
      }
    },
    {
      "cell_type": "code",
      "source": [
        "scaled_Dense_knn_op2_df.isna().sum()\n",
        "#Por lo que se puede ver, no tenemos valores nulos"
      ],
      "metadata": {
        "colab": {
          "base_uri": "https://localhost:8080/"
        },
        "id": "KpRUAsLwAWNr",
        "outputId": "50fe2995-8412-42e7-c772-91043c592bb7"
      },
      "execution_count": null,
      "outputs": [
        {
          "output_type": "execute_result",
          "data": {
            "text/plain": [
              "Bathroom             0\n",
              "Bedroom2             0\n",
              "Car                  0\n",
              "Method=PI            0\n",
              "Method=S             0\n",
              "                    ..\n",
              "Suburb=Yallambie     0\n",
              "Suburb=Yarraville    0\n",
              "Type=h               0\n",
              "Type=t               0\n",
              "Type=u               0\n",
              "Length: 265, dtype: int64"
            ]
          },
          "metadata": {},
          "execution_count": 16
        }
      ]
    },
    {
      "cell_type": "markdown",
      "source": [
        "Del DF anterior ademas de agregar las dos columas de BuildingArea y Yearbuilt, volvemos a agregar las variables numericas continuas que nos eran de interés tales como Price, y los precios del DF de AirBnB."
      ],
      "metadata": {
        "id": "wgbVYDWiAiAq"
      }
    },
    {
      "cell_type": "code",
      "source": [
        "df_1 = df_0.loc[:,[\"BuildingArea\",'YearBuilt','Price','airbnb_monthly_price_mean','airbnb_price_mean']]\n",
        "\n",
        "df_melb_cured = pd.concat([scaled_Dense_knn_op2_df,df_1],axis=1)\n",
        "#Estas ultimas cuatro columnas no estan normalizadas."
      ],
      "metadata": {
        "id": "mBWKYvTPArjF"
      },
      "execution_count": null,
      "outputs": []
    },
    {
      "cell_type": "markdown",
      "source": [
        "Corroboramos que ahora las nuevas columnas agregadas si tienen valores nulos, por lo que será necesario utilizar la función KNN para poder asignarle un valor."
      ],
      "metadata": {
        "id": "gKwK6icPA50l"
      }
    },
    {
      "cell_type": "code",
      "source": [
        "df_melb_cured.isna().sum()"
      ],
      "metadata": {
        "colab": {
          "base_uri": "https://localhost:8080/"
        },
        "id": "Jon1FLcqA4Nf",
        "outputId": "81b20e52-52c0-4009-e041-62f16638ce10"
      },
      "execution_count": null,
      "outputs": [
        {
          "output_type": "execute_result",
          "data": {
            "text/plain": [
              "Bathroom                        0\n",
              "Bedroom2                        0\n",
              "Car                             0\n",
              "Method=PI                       0\n",
              "Method=S                        0\n",
              "                             ... \n",
              "BuildingArea                 5673\n",
              "YearBuilt                    4678\n",
              "Price                           0\n",
              "airbnb_monthly_price_mean     918\n",
              "airbnb_price_mean               6\n",
              "Length: 270, dtype: int64"
            ]
          },
          "metadata": {},
          "execution_count": 18
        }
      ]
    },
    {
      "cell_type": "markdown",
      "source": [
        "A continuación veremos en diferentes columnas cómo es la distribución de los valores faltantes en cada columna del dataset. En este caso se utilizó el dataset original ya que este no se encuentra aumentado en dimensiones al aplicar el ONE HOT ENCODER, por lo que es más facil para el lector comprender la información. \n",
        "Se puede ver que los datos faltantes de cada columna, aparecen de forma aleatoria, por lo que es conveniente utilizar KNN Regresor como método de estimación de los valores de los datos faltantes. "
      ],
      "metadata": {
        "id": "eoCYABOGB-de"
      }
    },
    {
      "cell_type": "code",
      "source": [
        "msno.matrix(df_0,figsize=(12, 6), fontsize=12, color=[0,0,0.2])"
      ],
      "metadata": {
        "colab": {
          "base_uri": "https://localhost:8080/",
          "height": 423
        },
        "id": "YkEKscIuCXbK",
        "outputId": "5c7dd605-e6c4-4633-e1fb-1f7895dae76f"
      },
      "execution_count": null,
      "outputs": [
        {
          "output_type": "execute_result",
          "data": {
            "text/plain": [
              "<matplotlib.axes._subplots.AxesSubplot at 0x7f39eb6589d0>"
            ]
          },
          "metadata": {},
          "execution_count": 19
        },
        {
          "output_type": "display_data",
          "data": {
            "text/plain": [
              "<Figure size 864x432 with 2 Axes>"
            ],
            "image/png": "[encoded data removed]"
          },
          "metadata": {
            "needs_background": "light"
          }
        }
      ]
    },
    {
      "cell_type": "markdown",
      "source": [
        "Aplicamos el imputador IterativeImputer con el estimador KNeighborsRegressor . \n",
        "Se lo aplica a las columnas YearBuilt, BuildingArea,airbnb_monthly_price_mean y airbnb_price_mean que eran las que presentaban mas #cantidad de datos faltantes"
      ],
      "metadata": {
        "id": "q0actPgjEMGj"
      }
    },
    {
      "cell_type": "code",
      "source": [
        "mice_imputer = IterativeImputer(random_state=0, estimator=KNeighborsRegressor())\n",
        " \n",
        "df_melb_cured[['BuildingArea', 'YearBuilt', 'airbnb_monthly_price_mean' , 'airbnb_price_mean',]] = mice_imputer.fit_transform(\n",
        "    df_melb_cured[['BuildingArea', 'YearBuilt', 'airbnb_monthly_price_mean' , 'airbnb_price_mean']])\n",
        "\n",
        "#Y corroboramos que no hayan valores nulos \n",
        "\n",
        "pd.set_option('display.max_rows', None) \n",
        "df_melb_cured.isna().sum(axis=0) #luego se puede ver que no hay mas nan"
      ],
      "metadata": {
        "id": "n61DODTeCzRp"
      },
      "execution_count": null,
      "outputs": []
    },
    {
      "cell_type": "code",
      "source": [
        "mice_imputer_1 = IterativeImputer(random_state=0, estimator=KNeighborsRegressor())\n",
        "df_melb_cured_1 = pd.concat([scaled_Dense_knn_op2_df,df_1],axis=1) \n",
        "df_melb_cured_1 = mice_imputer.fit_transform(df_melb_cured_1)\n",
        "\n",
        "#Y corroboramos que no hayan valores nulos \n",
        "\n",
        "pd.set_option('display.max_rows', None) \n",
        "df_melb_cured_1"
      ],
      "metadata": {
        "colab": {
          "base_uri": "https://localhost:8080/"
        },
        "id": "CSGTBFdzJbgj",
        "outputId": "321f6aee-a28b-48ff-f0c7-65e66fc760f6"
      },
      "execution_count": null,
      "outputs": [
        {
          "output_type": "execute_result",
          "data": {
            "text/plain": [
              "array([[0.00000000e+00, 3.33333343e-01, 3.33333343e-01, ...,\n",
              "        1.48000000e+06, 2.18703226e+03, 1.30624031e+02],\n",
              "       [0.00000000e+00, 3.33333343e-01, 0.00000000e+00, ...,\n",
              "        1.03500000e+06, 2.18703226e+03, 1.30624031e+02],\n",
              "       [5.00000000e-01, 6.66666627e-01, 0.00000000e+00, ...,\n",
              "        1.46500000e+06, 2.18703226e+03, 1.30624031e+02],\n",
              "       ...,\n",
              "       [5.00000000e-01, 1.00000000e+00, 6.66666687e-01, ...,\n",
              "        1.24500000e+06, 1.90161111e+03, 1.24026455e+02],\n",
              "       [5.00000000e-01, 6.66666627e-01, 6.66666687e-01, ...,\n",
              "        1.03100000e+06, 2.11975000e+03, 1.91094595e+02],\n",
              "       [0.00000000e+00, 1.00000000e+00, 3.33333343e-01, ...,\n",
              "        1.28500000e+06, 2.96609091e+03, 1.35609756e+02]])"
            ]
          },
          "metadata": {},
          "execution_count": 41
        }
      ]
    },
    {
      "cell_type": "markdown",
      "source": [
        "A continuación se grafican ambas curvas con datos curados y previos al aplicarles el método KNN\n"
      ],
      "metadata": {
        "id": "XqTsVfiwEfLM"
      }
    },
    {
      "cell_type": "code",
      "source": [
        "\n",
        "mice_year_built = df_melb_cured.YearBuilt.to_frame()\n",
        "mice_year_built['Imputation'] = 'KNN over YearBuilt'\n",
        "melb_year_build = df_0.YearBuilt.dropna().to_frame()\n",
        "melb_year_build['Imputation'] = 'Original'\n",
        "data = pd.concat([mice_year_built, melb_year_build])\n",
        "fig = plt.figure(figsize=(8, 5))\n",
        "data.reset_index(drop=False, inplace = True)\n",
        "g = seaborn.kdeplot(data=data, x='YearBuilt', hue='Imputation')\n",
        "\n",
        "mice_building_area = df_melb_cured.BuildingArea.to_frame()\n",
        "mice_building_area['Imputation2'] = 'KNN over BuildingArea'\n",
        "melb_building_area2 = df_0.BuildingArea.dropna().to_frame()\n",
        "melb_building_area2['Imputation2'] = 'Original'\n",
        "data2 = pd.concat([mice_building_area, melb_building_area2])\n",
        "fig2 = plt.figure(figsize=(8, 5))\n",
        "data2.reset_index(drop=False, inplace = True)\n",
        "g2 = seaborn.kdeplot(data=data2, x='BuildingArea', hue='Imputation2')\n",
        "\n",
        "mice_airbnb_monthly_price_mean = df_melb_cured.airbnb_monthly_price_mean.to_frame()\n",
        "mice_airbnb_monthly_price_mean['Imputation'] = 'KNN over airbnb_monthly_price_mean'\n",
        "melb_airbnb_monthly_price_mean = df_0.airbnb_monthly_price_mean.dropna().to_frame()\n",
        "melb_airbnb_monthly_price_mean['Imputation'] = 'Original'\n",
        "data3 = pd.concat([mice_airbnb_monthly_price_mean, melb_airbnb_monthly_price_mean])\n",
        "fig3 = plt.figure(figsize=(8, 5))\n",
        "data3.reset_index(drop=False, inplace = True)\n",
        "g3 = seaborn.kdeplot(data=data3, x='airbnb_monthly_price_mean', hue='Imputation')\n",
        "\n",
        "mice_airbnb_price_mean = df_melb_cured.airbnb_price_mean.to_frame()\n",
        "mice_airbnb_price_mean['Imputation'] = 'KNN over airbnb_price_mean'\n",
        "melb_airbnb_price_mean = df_0.airbnb_price_mean.dropna().to_frame()\n",
        "melb_airbnb_price_mean['Imputation'] = 'Original'\n",
        "data4 = pd.concat([mice_airbnb_price_mean, melb_airbnb_price_mean])\n",
        "fig4 = plt.figure(figsize=(8, 5))\n",
        "data4.reset_index(drop=False, inplace = True)\n",
        "g4 = seaborn.kdeplot(data=data4, x='airbnb_price_mean', hue='Imputation')"
      ],
      "metadata": {
        "id": "Wg5iDuT4EeKN",
        "colab": {
          "base_uri": "https://localhost:8080/",
          "height": 1000
        },
        "outputId": "0ec5811e-ca2d-4472-f36e-493999a46660"
      },
      "execution_count": null,
      "outputs": [
        {
          "output_type": "display_data",
          "data": {
            "text/plain": [
              "<Figure size 576x360 with 1 Axes>"
            ],
            "image/png": "[encoded data removed]"
          },
          "metadata": {
            "needs_background": "light"
          }
        },
        {
          "output_type": "display_data",
          "data": {
            "text/plain": [
              "<Figure size 576x360 with 1 Axes>"
            ],
            "image/png": "[encoded data removed]"
          },
          "metadata": {
            "needs_background": "light"
          }
        },
        {
          "output_type": "display_data",
          "data": {
            "text/plain": [
              "<Figure size 576x360 with 1 Axes>"
            ],
            "image/png": "[encoded data removed]"
          },
          "metadata": {
            "needs_background": "light"
          }
        },
        {
          "output_type": "display_data",
          "data": {
            "text/plain": [
              "<Figure size 576x360 with 1 Axes>"
            ],
            "image/png": "[encoded data removed]"
          },
          "metadata": {
            "needs_background": "light"
          }
        }
      ]
    },
    {
      "cell_type": "code",
      "execution_count": null,
      "metadata": {
        "id": "1NdV0aLB2CpU",
        "colab": {
          "base_uri": "https://localhost:8080/",
          "height": 411
        },
        "outputId": "4f60436e-048d-47b4-fc7e-75c2b353bafb"
      },
      "outputs": [
        {
          "output_type": "execute_result",
          "data": {
            "text/plain": [
              "           Bathroom      Bedroom2           Car     Method=PI      Method=S  \\\n",
              "count  11854.000000  11854.000000  11854.000000  11854.000000  11854.000000   \n",
              "mean       0.225409      0.586666      0.478882      0.111439      0.670913   \n",
              "std        0.292299      0.271583      0.240299      0.314688      0.469902   \n",
              "min        0.000000      0.000000      0.000000      0.000000      0.000000   \n",
              "25%        0.000000      0.333333      0.333333      0.000000      0.000000   \n",
              "50%        0.000000      0.666667      0.333333      0.000000      1.000000   \n",
              "75%        0.500000      0.666667      0.666667      0.000000      1.000000   \n",
              "max        1.000000      1.000000      1.000000      1.000000      1.000000   \n",
              "\n",
              "          Method=SA     Method=SP     Method=VB      Postcode  \\\n",
              "count  11854.000000  11854.000000  11854.000000  11854.000000   \n",
              "mean       0.006496      0.124431      0.086722      0.128367   \n",
              "std        0.080337      0.330086      0.281439      0.085552   \n",
              "min        0.000000      0.000000      0.000000      0.000000   \n",
              "25%        0.000000      0.000000      0.000000      0.058511   \n",
              "50%        0.000000      0.000000      0.000000      0.107713   \n",
              "75%        0.000000      0.000000      0.000000      0.194149   \n",
              "max        1.000000      1.000000      1.000000      1.000000   \n",
              "\n",
              "       Regionname=Eastern Metropolitan  ...  Suburb=Yallambie  \\\n",
              "count                     11854.000000  ...      11854.000000   \n",
              "mean                          0.102666  ...          0.001687   \n",
              "std                           0.303535  ...          0.041043   \n",
              "min                           0.000000  ...          0.000000   \n",
              "25%                           0.000000  ...          0.000000   \n",
              "50%                           0.000000  ...          0.000000   \n",
              "75%                           0.000000  ...          0.000000   \n",
              "max                           1.000000  ...          1.000000   \n",
              "\n",
              "       Suburb=Yarraville        Type=h        Type=t        Type=u  \\\n",
              "count       11854.000000  11854.000000  11854.000000  11854.000000   \n",
              "mean            0.012823      0.656825      0.091783      0.251392   \n",
              "std             0.112514      0.474789      0.288732      0.433832   \n",
              "min             0.000000      0.000000      0.000000      0.000000   \n",
              "25%             0.000000      0.000000      0.000000      0.000000   \n",
              "50%             0.000000      1.000000      0.000000      0.000000   \n",
              "75%             0.000000      1.000000      0.000000      1.000000   \n",
              "max             1.000000      1.000000      1.000000      1.000000   \n",
              "\n",
              "       BuildingArea     YearBuilt         Price  airbnb_monthly_price_mean  \\\n",
              "count  11854.000000  11854.000000  1.185400e+04               11854.000000   \n",
              "mean     129.297347   1964.206141  1.028101e+06                2556.332991   \n",
              "std       94.211741     31.353884  5.693600e+05                1427.468817   \n",
              "min        0.000000   1850.000000  8.500000e+04                 600.000000   \n",
              "25%       89.600000   1950.000000  6.380000e+05                1554.333333   \n",
              "50%      120.200000   1970.000000  8.900000e+05                2187.032258   \n",
              "75%      151.200000   1983.800000  1.291000e+06                3366.666667   \n",
              "max     6791.000000   2018.000000  9.000000e+06                8634.200000   \n",
              "\n",
              "       airbnb_price_mean  \n",
              "count       11854.000000  \n",
              "mean          130.951744  \n",
              "std            62.034405  \n",
              "min            49.000000  \n",
              "25%            94.672646  \n",
              "50%           114.612500  \n",
              "75%           147.729515  \n",
              "max           759.083333  \n",
              "\n",
              "[8 rows x 270 columns]"
            ],
            "text/html": [
              "\n",
              "  <div id=\"df-b2fa34bd-be05-4de4-a1cc-09d189024c39\">\n",
              "    <div class=\"colab-df-container\">\n",
              "      <div>\n",
              "<style scoped>\n",
              "    .dataframe tbody tr th:only-of-type {\n",
              "        vertical-align: middle;\n",
              "    }\n",
              "\n",
              "    .dataframe tbody tr th {\n",
              "        vertical-align: top;\n",
              "    }\n",
              "\n",
              "    .dataframe thead th {\n",
              "        text-align: right;\n",
              "    }\n",
              "</style>\n",
              "<table border=\"1\" class=\"dataframe\">\n",
              "  <thead>\n",
              "    <tr style=\"text-align: right;\">\n",
              "      <th></th>\n",
              "      <th>Bathroom</th>\n",
              "      <th>Bedroom2</th>\n",
              "      <th>Car</th>\n",
              "      <th>Method=PI</th>\n",
              "      <th>Method=S</th>\n",
              "      <th>Method=SA</th>\n",
              "      <th>Method=SP</th>\n",
              "      <th>Method=VB</th>\n",
              "      <th>Postcode</th>\n",
              "      <th>Regionname=Eastern Metropolitan</th>\n",
              "      <th>...</th>\n",
              "      <th>Suburb=Yallambie</th>\n",
              "      <th>Suburb=Yarraville</th>\n",
              "      <th>Type=h</th>\n",
              "      <th>Type=t</th>\n",
              "      <th>Type=u</th>\n",
              "      <th>BuildingArea</th>\n",
              "      <th>YearBuilt</th>\n",
              "      <th>Price</th>\n",
              "      <th>airbnb_monthly_price_mean</th>\n",
              "      <th>airbnb_price_mean</th>\n",
              "    </tr>\n",
              "  </thead>\n",
              "  <tbody>\n",
              "    <tr>\n",
              "      <th>count</th>\n",
              "      <td>11854.000000</td>\n",
              "      <td>11854.000000</td>\n",
              "      <td>11854.000000</td>\n",
              "      <td>11854.000000</td>\n",
              "      <td>11854.000000</td>\n",
              "      <td>11854.000000</td>\n",
              "      <td>11854.000000</td>\n",
              "      <td>11854.000000</td>\n",
              "      <td>11854.000000</td>\n",
              "      <td>11854.000000</td>\n",
              "      <td>...</td>\n",
              "      <td>11854.000000</td>\n",
              "      <td>11854.000000</td>\n",
              "      <td>11854.000000</td>\n",
              "      <td>11854.000000</td>\n",
              "      <td>11854.000000</td>\n",
              "      <td>11854.000000</td>\n",
              "      <td>11854.000000</td>\n",
              "      <td>1.185400e+04</td>\n",
              "      <td>11854.000000</td>\n",
              "      <td>11854.000000</td>\n",
              "    </tr>\n",
              "    <tr>\n",
              "      <th>mean</th>\n",
              "      <td>0.225409</td>\n",
              "      <td>0.586666</td>\n",
              "      <td>0.478882</td>\n",
              "      <td>0.111439</td>\n",
              "      <td>0.670913</td>\n",
              "      <td>0.006496</td>\n",
              "      <td>0.124431</td>\n",
              "      <td>0.086722</td>\n",
              "      <td>0.128367</td>\n",
              "      <td>0.102666</td>\n",
              "      <td>...</td>\n",
              "      <td>0.001687</td>\n",
              "      <td>0.012823</td>\n",
              "      <td>0.656825</td>\n",
              "      <td>0.091783</td>\n",
              "      <td>0.251392</td>\n",
              "      <td>129.297347</td>\n",
              "      <td>1964.206141</td>\n",
              "      <td>1.028101e+06</td>\n",
              "      <td>2556.332991</td>\n",
              "      <td>130.951744</td>\n",
              "    </tr>\n",
              "    <tr>\n",
              "      <th>std</th>\n",
              "      <td>0.292299</td>\n",
              "      <td>0.271583</td>\n",
              "      <td>0.240299</td>\n",
              "      <td>0.314688</td>\n",
              "      <td>0.469902</td>\n",
              "      <td>0.080337</td>\n",
              "      <td>0.330086</td>\n",
              "      <td>0.281439</td>\n",
              "      <td>0.085552</td>\n",
              "      <td>0.303535</td>\n",
              "      <td>...</td>\n",
              "      <td>0.041043</td>\n",
              "      <td>0.112514</td>\n",
              "      <td>0.474789</td>\n",
              "      <td>0.288732</td>\n",
              "      <td>0.433832</td>\n",
              "      <td>94.211741</td>\n",
              "      <td>31.353884</td>\n",
              "      <td>5.693600e+05</td>\n",
              "      <td>1427.468817</td>\n",
              "      <td>62.034405</td>\n",
              "    </tr>\n",
              "    <tr>\n",
              "      <th>min</th>\n",
              "      <td>0.000000</td>\n",
              "      <td>0.000000</td>\n",
              "      <td>0.000000</td>\n",
              "      <td>0.000000</td>\n",
              "      <td>0.000000</td>\n",
              "      <td>0.000000</td>\n",
              "      <td>0.000000</td>\n",
              "      <td>0.000000</td>\n",
              "      <td>0.000000</td>\n",
              "      <td>0.000000</td>\n",
              "      <td>...</td>\n",
              "      <td>0.000000</td>\n",
              "      <td>0.000000</td>\n",
              "      <td>0.000000</td>\n",
              "      <td>0.000000</td>\n",
              "      <td>0.000000</td>\n",
              "      <td>0.000000</td>\n",
              "      <td>1850.000000</td>\n",
              "      <td>8.500000e+04</td>\n",
              "      <td>600.000000</td>\n",
              "      <td>49.000000</td>\n",
              "    </tr>\n",
              "    <tr>\n",
              "      <th>25%</th>\n",
              "      <td>0.000000</td>\n",
              "      <td>0.333333</td>\n",
              "      <td>0.333333</td>\n",
              "      <td>0.000000</td>\n",
              "      <td>0.000000</td>\n",
              "      <td>0.000000</td>\n",
              "      <td>0.000000</td>\n",
              "      <td>0.000000</td>\n",
              "      <td>0.058511</td>\n",
              "      <td>0.000000</td>\n",
              "      <td>...</td>\n",
              "      <td>0.000000</td>\n",
              "      <td>0.000000</td>\n",
              "      <td>0.000000</td>\n",
              "      <td>0.000000</td>\n",
              "      <td>0.000000</td>\n",
              "      <td>89.600000</td>\n",
              "      <td>1950.000000</td>\n",
              "      <td>6.380000e+05</td>\n",
              "      <td>1554.333333</td>\n",
              "      <td>94.672646</td>\n",
              "    </tr>\n",
              "    <tr>\n",
              "      <th>50%</th>\n",
              "      <td>0.000000</td>\n",
              "      <td>0.666667</td>\n",
              "      <td>0.333333</td>\n",
              "      <td>0.000000</td>\n",
              "      <td>1.000000</td>\n",
              "      <td>0.000000</td>\n",
              "      <td>0.000000</td>\n",
              "      <td>0.000000</td>\n",
              "      <td>0.107713</td>\n",
              "      <td>0.000000</td>\n",
              "      <td>...</td>\n",
              "      <td>0.000000</td>\n",
              "      <td>0.000000</td>\n",
              "      <td>1.000000</td>\n",
              "      <td>0.000000</td>\n",
              "      <td>0.000000</td>\n",
              "      <td>120.200000</td>\n",
              "      <td>1970.000000</td>\n",
              "      <td>8.900000e+05</td>\n",
              "      <td>2187.032258</td>\n",
              "      <td>114.612500</td>\n",
              "    </tr>\n",
              "    <tr>\n",
              "      <th>75%</th>\n",
              "      <td>0.500000</td>\n",
              "      <td>0.666667</td>\n",
              "      <td>0.666667</td>\n",
              "      <td>0.000000</td>\n",
              "      <td>1.000000</td>\n",
              "      <td>0.000000</td>\n",
              "      <td>0.000000</td>\n",
              "      <td>0.000000</td>\n",
              "      <td>0.194149</td>\n",
              "      <td>0.000000</td>\n",
              "      <td>...</td>\n",
              "      <td>0.000000</td>\n",
              "      <td>0.000000</td>\n",
              "      <td>1.000000</td>\n",
              "      <td>0.000000</td>\n",
              "      <td>1.000000</td>\n",
              "      <td>151.200000</td>\n",
              "      <td>1983.800000</td>\n",
              "      <td>1.291000e+06</td>\n",
              "      <td>3366.666667</td>\n",
              "      <td>147.729515</td>\n",
              "    </tr>\n",
              "    <tr>\n",
              "      <th>max</th>\n",
              "      <td>1.000000</td>\n",
              "      <td>1.000000</td>\n",
              "      <td>1.000000</td>\n",
              "      <td>1.000000</td>\n",
              "      <td>1.000000</td>\n",
              "      <td>1.000000</td>\n",
              "      <td>1.000000</td>\n",
              "      <td>1.000000</td>\n",
              "      <td>1.000000</td>\n",
              "      <td>1.000000</td>\n",
              "      <td>...</td>\n",
              "      <td>1.000000</td>\n",
              "      <td>1.000000</td>\n",
              "      <td>1.000000</td>\n",
              "      <td>1.000000</td>\n",
              "      <td>1.000000</td>\n",
              "      <td>6791.000000</td>\n",
              "      <td>2018.000000</td>\n",
              "      <td>9.000000e+06</td>\n",
              "      <td>8634.200000</td>\n",
              "      <td>759.083333</td>\n",
              "    </tr>\n",
              "  </tbody>\n",
              "</table>\n",
              "<p>8 rows × 270 columns</p>\n",
              "</div>\n",
              "      <button class=\"colab-df-convert\" onclick=\"convertToInteractive('df-b2fa34bd-be05-4de4-a1cc-09d189024c39')\"\n",
              "              title=\"Convert this dataframe to an interactive table.\"\n",
              "              style=\"display:none;\">\n",
              "        \n",
              "  <svg xmlns=\"http://www.w3.org/2000/svg\" height=\"24px\"viewBox=\"0 0 24 24\"\n",
              "       width=\"24px\">\n",
              "    <path d=\"M0 0h24v24H0V0z\" fill=\"none\"/>\n",
              "    <path d=\"M18.56 5.44l.94 2.06.94-2.06 2.06-.94-2.06-.94-.94-2.06-.94 2.06-2.06.94zm-11 1L8.5 8.5l.94-2.06 2.06-.94-2.06-.94L8.5 2.5l-.94 2.06-2.06.94zm10 10l.94 2.06.94-2.06 2.06-.94-2.06-.94-.94-2.06-.94 2.06-2.06.94z\"/><path d=\"M17.41 7.96l-1.37-1.37c-.4-.4-.92-.59-1.43-.59-.52 0-1.04.2-1.43.59L10.3 9.45l-7.72 7.72c-.78.78-.78 2.05 0 2.83L4 21.41c.39.39.9.59 1.41.59.51 0 1.02-.2 1.41-.59l7.78-7.78 2.81-2.81c.8-.78.8-2.07 0-2.86zM5.41 20L4 18.59l7.72-7.72 1.47 1.35L5.41 20z\"/>\n",
              "  </svg>\n",
              "      </button>\n",
              "      \n",
              "  <style>\n",
              "    .colab-df-container {\n",
              "      display:flex;\n",
              "      flex-wrap:wrap;\n",
              "      gap: 12px;\n",
              "    }\n",
              "\n",
              "    .colab-df-convert {\n",
              "      background-color: #E8F0FE;\n",
              "      border: none;\n",
              "      border-radius: 50%;\n",
              "      cursor: pointer;\n",
              "      display: none;\n",
              "      fill: #1967D2;\n",
              "      height: 32px;\n",
              "      padding: 0 0 0 0;\n",
              "      width: 32px;\n",
              "    }\n",
              "\n",
              "    .colab-df-convert:hover {\n",
              "      background-color: #E2EBFA;\n",
              "      box-shadow: 0px 1px 2px rgba(60, 64, 67, 0.3), 0px 1px 3px 1px rgba(60, 64, 67, 0.15);\n",
              "      fill: #174EA6;\n",
              "    }\n",
              "\n",
              "    [theme=dark] .colab-df-convert {\n",
              "      background-color: #3B4455;\n",
              "      fill: #D2E3FC;\n",
              "    }\n",
              "\n",
              "    [theme=dark] .colab-df-convert:hover {\n",
              "      background-color: #434B5C;\n",
              "      box-shadow: 0px 1px 3px 1px rgba(0, 0, 0, 0.15);\n",
              "      filter: drop-shadow(0px 1px 2px rgba(0, 0, 0, 0.3));\n",
              "      fill: #FFFFFF;\n",
              "    }\n",
              "  </style>\n",
              "\n",
              "      <script>\n",
              "        const buttonEl =\n",
              "          document.querySelector('#df-b2fa34bd-be05-4de4-a1cc-09d189024c39 button.colab-df-convert');\n",
              "        buttonEl.style.display =\n",
              "          google.colab.kernel.accessAllowed ? 'block' : 'none';\n",
              "\n",
              "        async function convertToInteractive(key) {\n",
              "          const element = document.querySelector('#df-b2fa34bd-be05-4de4-a1cc-09d189024c39');\n",
              "          const dataTable =\n",
              "            await google.colab.kernel.invokeFunction('convertToInteractive',\n",
              "                                                     [key], {});\n",
              "          if (!dataTable) return;\n",
              "\n",
              "          const docLinkHtml = 'Like what you see? Visit the ' +\n",
              "            '<a target=\"_blank\" href=https://colab.research.google.com/notebooks/data_table.ipynb>data table notebook</a>'\n",
              "            + ' to learn more about interactive tables.';\n",
              "          element.innerHTML = '';\n",
              "          dataTable['output_type'] = 'display_data';\n",
              "          await google.colab.output.renderOutput(dataTable, element);\n",
              "          const docLink = document.createElement('div');\n",
              "          docLink.innerHTML = docLinkHtml;\n",
              "          element.appendChild(docLink);\n",
              "        }\n",
              "      </script>\n",
              "    </div>\n",
              "  </div>\n",
              "  "
            ]
          },
          "metadata": {},
          "execution_count": 22
        }
      ],
      "source": [
        "df_melb_cured.describe()"
      ]
    },
    {
      "cell_type": "markdown",
      "metadata": {
        "id": "NBN7-5OIxjJW"
      },
      "source": [
        "## Ejercicio 3: Reducción de dimensionalidad.\n",
        "\n",
        "Utilizando la matriz obtenida en el ejercicio anterior:\n",
        "1. Aplique `PCA` para obtener $n$ componentes principales de la matriz, donde `n = min(20, X.shape[0])`. ¿Es necesario estandarizar o escalar los datos?\n",
        "2. Grafique la varianza capturada por los primeros $n$ componentes principales, para cada $n$.\n",
        "3. En base al gráfico, seleccione las primeras $m$ columnas de la matriz transformada para agregar como nuevas características al conjunto de datos."
      ]
    },
    {
      "cell_type": "markdown",
      "source": [
        "# EJERCICIO 3"
      ],
      "metadata": {
        "id": "jCWqSIahGQS6"
      }
    },
    {
      "cell_type": "markdown",
      "source": [
        "Para aplicar PCA siempre es necesario estandarizar previamente las variables de la matriz, ya que el procedimiento identifica las variables con mayor varianza y, si no están estandarizadas, las de mayor varianza dominarán al resto.\n",
        "En el ejercicio anterior ya se estandarizó la matriz.\n",
        "from sklearn.preprocessing import MinMaxScaler esta función \"normaliza\" entre -1 y 1\n",
        "scaler = MinMaxScaler(feature_range=(-1, 1))"
      ],
      "metadata": {
        "id": "MeYbSVxhRpCM"
      }
    },
    {
      "cell_type": "code",
      "execution_count": null,
      "metadata": {
        "id": "AvNRgpLZWS3g",
        "colab": {
          "base_uri": "https://localhost:8080/"
        },
        "outputId": "26be96dc-03bf-4c80-84c1-e493d20f250e"
      },
      "outputs": [
        {
          "output_type": "stream",
          "name": "stderr",
          "text": [
            "/usr/local/lib/python3.7/dist-packages/sklearn/utils/validation.py:598: FutureWarning: np.matrix usage is deprecated in 1.0 and will raise a TypeError in 1.2. Please convert to a numpy array with np.asarray. For more information see: https://numpy.org/doc/stable/reference/generated/numpy.matrix.html\n",
            "  FutureWarning,\n",
            "/usr/local/lib/python3.7/dist-packages/sklearn/utils/validation.py:598: FutureWarning: np.matrix usage is deprecated in 1.0 and will raise a TypeError in 1.2. Please convert to a numpy array with np.asarray. For more information see: https://numpy.org/doc/stable/reference/generated/numpy.matrix.html\n",
            "  FutureWarning,\n",
            "/usr/local/lib/python3.7/dist-packages/seaborn/_decorators.py:43: FutureWarning: Pass the following variable as a keyword arg: x. From version 0.12, the only valid positional argument will be `data`, and passing other arguments without an explicit keyword will result in an error or misinterpretation.\n",
            "  FutureWarning\n"
          ]
        },
        {
          "output_type": "execute_result",
          "data": {
            "text/plain": [
              "<matplotlib.axes._subplots.AxesSubplot at 0x7f39ea1b71d0>"
            ]
          },
          "metadata": {},
          "execution_count": 23
        },
        {
          "output_type": "display_data",
          "data": {
            "text/plain": [
              "<Figure size 432x288 with 1 Axes>"
            ],
            "image/png": "[encoded data removed]"
          },
          "metadata": {
            "needs_background": "light"
          }
        }
      ],
      "source": [
        "\n",
        "\n",
        "scaled_dense_feature_matrix = scaler.fit_transform(dense_feature_matrix)\n",
        "#np.max(scaled_dense_feature_matrix), np.min(scaled_dense_feature_matrix)\n",
        "\n",
        "#Luego de normalizada, se aplica el modulo de PCA de sklearn \n",
        "from sklearn.decomposition import PCA\n",
        "#n = min(20, x.shape[0])\n",
        "#pca = PCA(n)\n",
        "pca = PCA(n_components=20)#ponemos 20 componentes \n",
        "pca.fit(scaled_dense_feature_matrix)\n",
        "proyected_features = pca.transform(scaled_dense_feature_matrix)\n",
        "proyected_features.shape\n",
        "pca.explained_variance_ratio_\n",
        "melb_df_sample[['pca1_scaled', 'pca2_scaled']] = proyected_features[:,:2]\n",
        "\n",
        "seaborn.boxplot(melb_df_sample.Price)"
      ]
    },
    {
      "cell_type": "code",
      "execution_count": null,
      "metadata": {
        "id": "7nsU1wFYdRi2",
        "colab": {
          "base_uri": "https://localhost:8080/"
        },
        "outputId": "cf97ece9-6e56-4a78-a179-63c7f7614493"
      },
      "outputs": [
        {
          "output_type": "execute_result",
          "data": {
            "text/plain": [
              "<matplotlib.axes._subplots.AxesSubplot at 0x7f39eb7f4d50>"
            ]
          },
          "metadata": {},
          "execution_count": 24
        },
        {
          "output_type": "display_data",
          "data": {
            "text/plain": [
              "<Figure size 720x720 with 1 Axes>"
            ],
            "image/png": "[encoded data removed]"
          },
          "metadata": {
            "needs_background": "light"
          }
        }
      ],
      "source": [
        "data = melb_df_sample[melb_df_sample.Price < 2000000].sample(1000)\n",
        "fig = plt.figure(figsize=(10, 10))\n",
        "seaborn.scatterplot(data=data, x='pca1_scaled', y='pca2_scaled',\n",
        "                    hue='Price')  # 'Landsize' 'Price' 'YearBuilt'"
      ]
    },
    {
      "cell_type": "code",
      "execution_count": null,
      "metadata": {
        "id": "kCCrx6vBdavy",
        "colab": {
          "base_uri": "https://localhost:8080/"
        },
        "outputId": "43399e60-2f53-4f8e-b005-697d7f8bc488"
      },
      "outputs": [
        {
          "output_type": "stream",
          "name": "stderr",
          "text": [
            "/usr/local/lib/python3.7/dist-packages/sklearn/utils/validation.py:598: FutureWarning: np.matrix usage is deprecated in 1.0 and will raise a TypeError in 1.2. Please convert to a numpy array with np.asarray. For more information see: https://numpy.org/doc/stable/reference/generated/numpy.matrix.html\n",
            "  FutureWarning,\n",
            "/usr/local/lib/python3.7/dist-packages/sklearn/utils/validation.py:598: FutureWarning: np.matrix usage is deprecated in 1.0 and will raise a TypeError in 1.2. Please convert to a numpy array with np.asarray. For more information see: https://numpy.org/doc/stable/reference/generated/numpy.matrix.html\n",
            "  FutureWarning,\n"
          ]
        },
        {
          "output_type": "execute_result",
          "data": {
            "text/plain": [
              "(108.87148, -2.1714644)"
            ]
          },
          "metadata": {},
          "execution_count": 25
        }
      ],
      "source": [
        "# TODO Here we have to pre-process the matrix before applying PCA\n",
        "from sklearn.preprocessing import StandardScaler\n",
        "std_scaler = StandardScaler()\n",
        "stdandard_dense_feature_matrix = std_scaler.fit_transform(dense_feature_matrix)\n",
        "np.max(stdandard_dense_feature_matrix), np.min(stdandard_dense_feature_matrix)"
      ]
    },
    {
      "cell_type": "code",
      "execution_count": null,
      "metadata": {
        "id": "9Ix_ZVjVddzw",
        "colab": {
          "base_uri": "https://localhost:8080/"
        },
        "outputId": "97d6cb19-77ba-4d01-df6c-c8071177c88b"
      },
      "outputs": [
        {
          "output_type": "execute_result",
          "data": {
            "text/plain": [
              "(11854, 20)"
            ]
          },
          "metadata": {},
          "execution_count": 26
        }
      ],
      "source": [
        "from sklearn.decomposition import PCA\n",
        "pca_std = PCA(n_components=15)\n",
        "pca_std.fit(stdandard_dense_feature_matrix)\n",
        "proyected_features_std = pca.transform(stdandard_dense_feature_matrix)\n",
        "proyected_features_std.shape"
      ]
    },
    {
      "cell_type": "code",
      "execution_count": null,
      "metadata": {
        "id": "xxgEvCxXdfxw",
        "colab": {
          "base_uri": "https://localhost:8080/"
        },
        "outputId": "75e10377-0ded-4944-9dec-ed07123699db"
      },
      "outputs": [
        {
          "output_type": "execute_result",
          "data": {
            "text/plain": [
              "array([0.01482614, 0.01235385, 0.00905745, 0.0078822 , 0.00759571,\n",
              "       0.00753119, 0.00686185, 0.00568468, 0.00451961, 0.00423976,\n",
              "       0.00415835, 0.00412387, 0.00401665, 0.00389248, 0.0038083 ],\n",
              "      dtype=float32)"
            ]
          },
          "metadata": {},
          "execution_count": 27
        }
      ],
      "source": [
        "pca_std.explained_variance_ratio_"
      ]
    },
    {
      "cell_type": "code",
      "execution_count": null,
      "metadata": {
        "id": "bDF3hRbldgTj",
        "colab": {
          "base_uri": "https://localhost:8080/"
        },
        "outputId": "a4c612a6-9665-4c71-f91c-6f0df18f9147"
      },
      "outputs": [
        {
          "output_type": "execute_result",
          "data": {
            "text/plain": [
              "<matplotlib.legend.Legend at 0x7f39ea024350>"
            ]
          },
          "metadata": {},
          "execution_count": 28
        },
        {
          "output_type": "display_data",
          "data": {
            "text/plain": [
              "<Figure size 432x288 with 1 Axes>"
            ],
            "image/png": "[encoded data removed]"
          },
          "metadata": {
            "needs_background": "light"
          }
        }
      ],
      "source": [
        "seaborn.lineplot(x=range(pca_std.n_components),\n",
        "                 y=pca_std.explained_variance_ratio_, label='Standardized')\n",
        "seaborn.lineplot(x=range(pca.n_components),\n",
        "                 y=pca.explained_variance_ratio_, label='Scaled')\n",
        "plt.ylabel(\"Ratio of variance explained\")\n",
        "plt.xlabel(\"Components\")\n",
        "plt.legend()"
      ]
    },
    {
      "cell_type": "code",
      "execution_count": null,
      "metadata": {
        "id": "BOFYPu_hdiTA"
      },
      "outputs": [],
      "source": [
        "#data = melb_df_sample.sample(1000)\n",
        "#fig = plt.figure(figsize=(10, 10))\n",
        "#seaborn.scatterplot(data=data, x='pca1_standard', y='pca2_standard',\n",
        "#                    hue='Price')  # 'Landsize' 'Price' 'YearBuilt'"
      ]
    },
    {
      "cell_type": "code",
      "execution_count": null,
      "metadata": {
        "id": "Ds9_ErQYdkRE"
      },
      "outputs": [],
      "source": [
        "#Debido a que las variables numéricas de df_melb_cured ya habían sido escaladas. \n",
        "#Las únicas variables a escalar del df resultante: melb_data_mice son 'YearBuilt','BuildingArea'\n",
        "\n",
        "\n",
        "YearBuilt = df_melb_cured.YearBuilt.values.copy().reshape(-1,1)\n",
        "\n",
        "BuildingArea =df_melb_cured.BuildingArea.values.copy().reshape(-1,1)\n",
        "\n",
        "\n",
        "#Se emplea MinMaxscaler\n",
        "\n",
        "YearBuilt_scaled =MinMaxScaler().fit_transform(YearBuilt)\n",
        "\n",
        "BuildingArea_scaled =MinMaxScaler().fit_transform(BuildingArea)\n"
      ]
    },
    {
      "cell_type": "code",
      "execution_count": null,
      "metadata": {
        "id": "78ZEK-xN2I2h",
        "colab": {
          "base_uri": "https://localhost:8080/"
        },
        "outputId": "d3307a76-c8a9-4160-c52b-b81272cbec3e"
      },
      "outputs": [
        {
          "output_type": "stream",
          "name": "stderr",
          "text": [
            "/usr/local/lib/python3.7/dist-packages/seaborn/distributions.py:2619: FutureWarning: `distplot` is a deprecated function and will be removed in a future version. Please adapt your code to use either `displot` (a figure-level function with similar flexibility) or `histplot` (an axes-level function for histograms).\n",
            "  warnings.warn(msg, FutureWarning)\n",
            "/usr/local/lib/python3.7/dist-packages/seaborn/distributions.py:2619: FutureWarning: `distplot` is a deprecated function and will be removed in a future version. Please adapt your code to use either `displot` (a figure-level function with similar flexibility) or `histplot` (an axes-level function for histograms).\n",
            "  warnings.warn(msg, FutureWarning)\n",
            "/usr/local/lib/python3.7/dist-packages/seaborn/distributions.py:2619: FutureWarning: `distplot` is a deprecated function and will be removed in a future version. Please adapt your code to use either `displot` (a figure-level function with similar flexibility) or `histplot` (an axes-level function for histograms).\n",
            "  warnings.warn(msg, FutureWarning)\n",
            "/usr/local/lib/python3.7/dist-packages/seaborn/distributions.py:2619: FutureWarning: `distplot` is a deprecated function and will be removed in a future version. Please adapt your code to use either `displot` (a figure-level function with similar flexibility) or `histplot` (an axes-level function for histograms).\n",
            "  warnings.warn(msg, FutureWarning)\n"
          ]
        },
        {
          "output_type": "execute_result",
          "data": {
            "text/plain": [
              "Text(0.5, 1.0, 'Scaled data: BuildingArea')"
            ]
          },
          "metadata": {},
          "execution_count": 31
        },
        {
          "output_type": "display_data",
          "data": {
            "text/plain": [
              "<Figure size 1440x360 with 2 Axes>"
            ],
            "image/png": "[encoded data removed]"
          },
          "metadata": {
            "needs_background": "light"
          }
        },
        {
          "output_type": "display_data",
          "data": {
            "text/plain": [
              "<Figure size 1440x360 with 2 Axes>"
            ],
            "image/png": "[encoded data removed]"
          },
          "metadata": {
            "needs_background": "light"
          }
        }
      ],
      "source": [
        "# Se Plotea para comparar cada una de las variables numéricas antes y después de escalar\n",
        "\n",
        "fig, ax=plt.subplots(1,2,figsize=(20,5))\n",
        "seaborn.distplot(YearBuilt, ax=ax[0],color='Green')\n",
        "ax[0].set_title(\"Original Data: YearBuilt\")\n",
        "\n",
        "seaborn.distplot(YearBuilt_scaled, ax=ax[1])\n",
        "ax[1].set_title(\"Scaled data: YearBuilt\")\n",
        "\n",
        "fig, ax=plt.subplots(1,2,figsize=(20,5))\n",
        "seaborn.distplot(BuildingArea, ax=ax[0],color='Green')\n",
        "ax[0].set_title(\"Original Data: BuildingArea\")\n",
        "\n",
        "seaborn.distplot(BuildingArea_scaled, ax=ax[1])\n",
        "ax[1].set_title(\"Scaled data: BuildingArea\")"
      ]
    },
    {
      "cell_type": "code",
      "execution_count": null,
      "metadata": {
        "id": "cheFk3lM2nzc",
        "colab": {
          "base_uri": "https://localhost:8080/"
        },
        "outputId": "51d26acb-9653-41fd-c3d0-665d1459156e"
      },
      "outputs": [
        {
          "output_type": "stream",
          "name": "stdout",
          "text": [
            "Principal components\n",
            "[[ 2.06554704e-07  2.27167930e-07  9.13150704e-08 -3.09365929e-09\n",
            "   6.17308660e-08 -2.07108545e-10 -6.06600129e-08  2.22991472e-09\n",
            "   3.74963386e-08  1.10643575e-08 -1.36738132e-07 -2.99190697e-10\n",
            "   4.91866423e-10  2.53727480e-07 -1.28246381e-07  2.34205171e-07\n",
            "   4.70232942e-10  3.68903580e-10 -4.48527136e-09 -7.66737707e-10\n",
            "   1.52032579e-08 -4.42793464e-09  2.22386106e-09 -4.12481065e-09\n",
            "  -5.56452724e-10 -2.92024840e-09 -2.81674186e-10  7.68614438e-09\n",
            "  -6.97690068e-10  8.59283902e-09  1.45430522e-09  5.16325593e-11\n",
            "  -1.48710466e-10 -1.01005007e-10 -4.03864368e-09 -2.13203530e-09\n",
            "   9.90295371e-09  2.09701493e-08  1.82118331e-09 -7.88838500e-10\n",
            "   5.26925788e-09  2.02778481e-09  3.19724400e-10  9.53876895e-10\n",
            "   3.84885822e-10  1.61821614e-10  2.80161187e-09 -3.91528083e-09\n",
            "  -6.12200174e-10  2.98118423e-08  1.19172676e-08 -2.21073859e-09\n",
            "  -8.88198439e-10 -2.33692076e-09 -2.26649924e-09 -5.41728649e-09\n",
            "   1.75276051e-09 -1.86920847e-09  3.89159715e-10 -2.13070789e-10\n",
            "  -3.38669820e-10  3.33738187e-09  1.16458329e-10 -6.34944707e-10\n",
            "   1.36923576e-08 -4.72700657e-10  1.04235826e-08  3.84501978e-10\n",
            "   5.55317989e-09 -3.65012963e-09 -1.13132873e-09 -8.92568227e-10\n",
            "  -1.00904297e-10 -8.61504914e-11  7.98327228e-10 -6.51638833e-10\n",
            "  -2.35309735e-10 -6.55948346e-12  6.96538677e-10 -4.14433591e-10\n",
            "   1.62136834e-09 -6.70938559e-09 -3.07324501e-09 -1.71272137e-09\n",
            "  -5.79171511e-10 -5.30990861e-09 -4.83269098e-10 -1.53220301e-09\n",
            "  -1.21383785e-10 -3.97305862e-10 -5.93642843e-11 -9.41758680e-10\n",
            "   8.68720899e-11 -1.31329919e-09 -7.56847828e-10 -4.15237281e-10\n",
            "  -2.99190697e-10 -6.50875622e-10 -1.44259510e-10  4.42677343e-09\n",
            "   2.49966131e-09 -3.05151568e-10  3.91057199e-09  2.40029508e-09\n",
            "   3.67740608e-09 -1.05947500e-09 -3.73098848e-10 -4.58854850e-09\n",
            "  -5.73796254e-09 -1.87355633e-09 -9.38642333e-10 -4.12026170e-11\n",
            "   4.91738093e-11 -8.76517247e-09  1.83806357e-09  5.23323102e-09\n",
            "  -2.61271320e-09 -1.11642331e-08 -3.71233979e-10 -6.83176621e-11\n",
            "  -1.56702367e-09 -1.51627285e-09  1.91742869e-08  3.16110736e-09\n",
            "  -1.30748653e-08 -2.08147128e-09 -1.83236217e-09 -9.81215546e-10\n",
            "  -4.80375674e-09  1.55224949e-08  1.32339305e-10  3.86361496e-09\n",
            "   1.02441553e-08 -5.21006517e-10 -1.54884078e-09 -5.76124632e-09\n",
            "  -7.24888509e-09  1.62850960e-09 -1.50197256e-09 -4.11340972e-09\n",
            "   1.10203930e-10  2.08696420e-11  2.86577838e-09  3.09748392e-09\n",
            "  -3.14619882e-09 -1.89504798e-09 -4.08133426e-10 -9.50218805e-10\n",
            "  -6.34562722e-09 -1.91599586e-10 -1.91586931e-09 -6.37869107e-09\n",
            "   1.68482622e-08  5.92055325e-09 -5.04218360e-10 -1.06629084e-09\n",
            "  -1.76872449e-09  6.02177211e-10 -3.75590411e-09 -2.30404249e-10\n",
            "  -7.68715758e-09  7.89656135e-09  1.27653975e-08 -6.13211766e-09\n",
            "   6.51492448e-10 -2.16909603e-09 -4.92222133e-09 -6.04451809e-10\n",
            "   6.74234790e-09 -3.58913696e-09 -4.21600104e-10  2.54657606e-09\n",
            "  -5.22492492e-10  1.20486115e-09 -8.26759143e-10  3.15630958e-10\n",
            "   3.53730084e-09  1.36364195e-09 -1.42903724e-09 -1.08131383e-10\n",
            "  -1.46247879e-09 -8.51790916e-10 -3.39688344e-09 -3.28184402e-11\n",
            "   7.19957657e-09  1.08510885e-11 -2.15825346e-11 -3.15224401e-09\n",
            "   4.27629981e-10  6.30034176e-11 -8.85391765e-10  6.65736144e-10\n",
            "   1.14741562e-09  2.07069844e-09 -1.14410522e-08 -1.21804576e-09\n",
            "   7.03500955e-09  2.15017000e-09 -7.99092452e-09  9.19345623e-10\n",
            "  -3.09910318e-08  2.42895728e-09 -3.19992842e-10 -4.67185539e-10\n",
            "  -2.29756406e-10 -6.05717207e-10 -1.46584781e-09 -2.12076664e-09\n",
            "   2.35360757e-09 -1.25158506e-10 -3.48560047e-10 -1.30727025e-10\n",
            "  -1.02402307e-09 -1.67465177e-09  5.72280046e-09 -1.76286510e-09\n",
            "  -6.84140232e-10 -4.20508441e-09 -7.31142877e-10 -3.14936810e-10\n",
            "  -2.04118282e-10 -2.36402891e-09 -9.21831039e-11 -1.04390212e-08\n",
            "   1.51056916e-09 -5.68681010e-11 -8.71553048e-09 -5.91100537e-09\n",
            "  -8.02669599e-09  1.11283978e-08 -4.41496961e-10 -1.39678838e-09\n",
            "  -6.84497168e-10 -1.59895722e-09  1.61867324e-09  2.25186638e-09\n",
            "  -2.70449521e-09 -2.67445598e-09  8.51600786e-09 -4.59392207e-11\n",
            "  -7.35519445e-10 -1.29492564e-09  4.39819367e-11  4.18227412e-10\n",
            "  -9.72646940e-10 -8.22704169e-11 -4.95575842e-11  2.48670884e-10\n",
            "   1.14719410e-10 -3.62702952e-09 -6.88637329e-10 -5.95884681e-09\n",
            "  -6.64197859e-09 -2.70959827e-10 -1.18106395e-09  8.83555986e-10\n",
            "  -2.57964925e-10  6.08723017e-09 -9.94983595e-10 -1.20574326e-09\n",
            "  -1.19796128e-09 -2.60759079e-09  3.56402795e-07 -2.80052448e-08\n",
            "  -3.28397550e-07  3.96551250e-05 -1.64640936e-05  9.99999843e-01\n",
            "   5.58379082e-04  2.22861946e-05]\n",
            " [-9.44076939e-06 -5.20640842e-05 -2.77732552e-05  7.79555674e-06\n",
            "  -2.09189015e-05 -1.51961304e-07 -5.05609725e-06  1.83314034e-05\n",
            "   1.77977091e-05 -2.04523252e-05 -4.02098151e-05 -1.74458625e-07\n",
            "  -6.96222494e-06  1.30625009e-04 -6.28261848e-05 -5.28435802e-05\n",
            "  -9.43791438e-07  1.19975954e-06 -1.59014155e-06 -2.56777544e-07\n",
            "   1.91807578e-06 -2.82454515e-06 -6.29243094e-07 -2.46334038e-06\n",
            "  -3.88662545e-07 -2.26924578e-07 -3.06341317e-08  1.46245997e-06\n",
            "  -4.56346554e-06 -3.21386236e-06 -2.36555664e-06 -9.30571410e-09\n",
            "   1.09025525e-08 -9.32392112e-09  4.70720272e-07  4.31288674e-07\n",
            "  -2.43896256e-06  6.29841468e-06  1.87659787e-06 -9.83912142e-07\n",
            "   1.45527315e-06 -5.32557728e-06  1.54462521e-06 -4.10194285e-07\n",
            "  -2.32307629e-07 -2.29153591e-07 -2.48579496e-06 -9.53445932e-07\n",
            "  -5.00988005e-07  1.75077981e-05 -7.94310065e-06 -8.49047138e-07\n",
            "  -3.84692501e-09 -2.06013110e-06  1.09837505e-06 -3.22031244e-06\n",
            "  -1.74278654e-06 -1.96205251e-07  3.34315799e-07 -9.33454631e-09\n",
            "  -1.85088959e-08 -5.52726990e-06 -2.44103388e-07 -8.85762944e-08\n",
            "  -4.19424916e-07  1.03480340e-08 -6.94877782e-07  1.34829980e-06\n",
            "  -2.17674890e-06 -2.82897992e-06 -1.49558950e-07  9.25387959e-07\n",
            "  -4.71037783e-07  1.33921639e-06  3.36962516e-06 -1.22789611e-06\n",
            "  -3.70734737e-07 -1.39350330e-07 -7.06993696e-07 -5.90423938e-07\n",
            "   4.36957476e-07  8.89700627e-06  2.65663379e-06  1.64100006e-06\n",
            "  -1.51445569e-07 -1.97730444e-06  1.31604688e-06  1.09128838e-07\n",
            "   6.46231925e-09  2.98119935e-08  4.32981549e-09 -2.57231072e-07\n",
            "  -4.69280234e-08 -1.73211721e-07 -1.91370013e-07 -3.35861308e-08\n",
            "  -1.74458625e-07  1.30321964e-08  1.00639141e-07  1.06566514e-05\n",
            "   2.28733444e-06 -1.19107085e-07 -5.90736678e-07  8.34462121e-07\n",
            "   1.75860902e-06  4.05045689e-07  1.75118092e-07  6.09889666e-06\n",
            "  -1.75188831e-06  7.33322339e-06 -8.78377621e-07  8.14735459e-07\n",
            "  -5.66491141e-07 -5.25802852e-06  2.59973439e-06  4.72696553e-07\n",
            "  -7.28103226e-07 -4.31393941e-06 -4.46823380e-07  1.84663527e-07\n",
            "  -5.88182348e-07 -2.12896330e-07  9.85428032e-07 -1.32169093e-06\n",
            "  -7.41757853e-06 -8.61697369e-07 -1.99164239e-06 -4.01452813e-07\n",
            "  -2.96823237e-06  9.17260016e-06  2.31743354e-06  4.30628782e-05\n",
            "   1.52537803e-05  2.24823983e-07 -3.83824178e-07 -4.53833229e-06\n",
            "  -4.39915694e-06  8.27199276e-07 -5.15029334e-07 -8.96861176e-07\n",
            "  -1.34303519e-06 -2.68500361e-07 -2.90857328e-06 -9.42353939e-07\n",
            "  -1.19921787e-06 -6.44074685e-07 -1.74133653e-07 -3.54074349e-07\n",
            "  -7.21229819e-06  5.90197915e-08 -4.79802368e-07 -1.25138645e-06\n",
            "  -9.50395684e-06  4.68255267e-06 -1.71829876e-07 -2.77415746e-08\n",
            "  -1.53121805e-07  4.73158931e-07 -2.40141185e-06 -7.47369495e-08\n",
            "  -1.50004404e-07  1.48816952e-05 -8.53742150e-06 -2.52571262e-06\n",
            "   5.46734698e-08 -7.47374050e-07  2.16531243e-06 -1.09290457e-06\n",
            "   1.01365745e-06  3.68677264e-07 -1.78022785e-06 -1.17228470e-06\n",
            "  -3.45190713e-07 -6.30688340e-06 -1.29622675e-06 -4.23542161e-08\n",
            "  -2.35368218e-06 -1.51475691e-06 -1.63992103e-06 -2.95621294e-06\n",
            "  -2.43296045e-06 -6.15558531e-07  2.34034110e-06 -2.20378529e-08\n",
            "  -1.60870935e-06 -1.76089901e-07 -4.79222882e-07 -3.18705457e-06\n",
            "  -1.95018845e-06 -4.05692608e-07 -1.19300567e-06  1.24201618e-06\n",
            "  -1.21553739e-07 -1.44037553e-06 -5.73614396e-06 -5.99904278e-08\n",
            "   1.33507921e-05  3.67739467e-06 -1.02495134e-05 -2.74321807e-07\n",
            "  -1.23382910e-05  1.33300920e-05 -1.14940098e-06  6.88064383e-08\n",
            "  -4.50263239e-07  3.77154292e-07 -4.59116202e-07 -6.92535126e-07\n",
            "   1.36517628e-06 -2.61267677e-08 -1.87731648e-07 -1.19277111e-07\n",
            "  -2.38025434e-06 -3.01720534e-07  4.73082491e-06 -6.26279139e-07\n",
            "   7.45991493e-06  3.61230123e-06 -6.06988628e-07 -3.92063246e-07\n",
            "   1.15591295e-08 -9.28586575e-07 -1.30925278e-07  9.74786425e-06\n",
            "  -2.53388894e-06 -2.24788373e-07 -7.96348691e-06 -4.47589669e-06\n",
            "  -5.21547996e-06 -4.81473590e-06 -1.33508085e-07 -2.46328449e-07\n",
            "  -1.98278120e-07 -5.13327612e-07  9.58879573e-08 -3.87933917e-06\n",
            "  -8.86096511e-07  3.93886789e-07  7.05212610e-06 -3.78257778e-07\n",
            "  -1.19680660e-07 -3.84050771e-07  6.15035281e-07  5.79960380e-07\n",
            "  -3.02907655e-07 -1.98700493e-07 -2.58001354e-07 -1.48718304e-07\n",
            "  -1.22460198e-08 -2.18811920e-06 -4.62179575e-07 -7.96975281e-08\n",
            "  -2.96285534e-07  1.24007393e-07 -2.45412703e-07 -5.67202226e-07\n",
            "  -9.40351728e-08 -2.42672155e-06 -2.10233295e-07  2.03568870e-06\n",
            "  -1.46164298e-06  2.95597825e-06 -9.69335891e-05 -1.56366942e-06\n",
            "   9.84972585e-05 -7.12960662e-03 -2.28275218e-04 -5.58427633e-04\n",
            "   9.99759894e-01  2.07100268e-02]]\n",
            "Explained variance: \n",
            "[3.24170865e+11 1.93752347e+06]\n",
            "Explained variance ratio\n",
            "[9.99993986e-01 5.97682279e-06]\n"
          ]
        }
      ],
      "source": [
        "#Se ha decidido entonces escalar el Dataframe. A continuación se entrena la instancia de clase PCA\n",
        "\n",
        "from sklearn.decomposition import PCA\n",
        "\n",
        "pca = PCA(n_components=2)\n",
        "pca.fit(df_melb_cured)\n",
        "print(\"Principal components\")\n",
        "print(pca.components_)\n",
        "print(\"Explained variance: \")\n",
        "print(pca.explained_variance_)\n",
        "print(\"Explained variance ratio\")\n",
        "print(pca.explained_variance_ratio_)"
      ]
    },
    {
      "cell_type": "markdown",
      "metadata": {
        "id": "WrZTYmG_ZyDy"
      },
      "source": [
        "## Ejercicio 4: Composición del resultado\n",
        "\n",
        "Transformar nuevamente el conjunto de datos procesado en un `pandas.DataFrame` y guardarlo en un archivo.\n",
        "\n",
        "Para eso, será necesario recordar el nombre original de cada columna de la matriz, en el orden correcto. Tener en cuenta:\n",
        "1. El método `OneHotEncoder.get_feature_names` o el atributo `OneHotEncoder.categories_` permiten obtener una lista con los valores de la categoría que le corresponde a cada índice de la matriz.\n",
        "2. Ninguno de los métodos aplicados intercambia de lugar las columnas o las filas de la matriz."
      ]
    },
    {
      "cell_type": "markdown",
      "source": [
        "#Resolucion punto 4"
      ],
      "metadata": {
        "id": "1ECJuHxjJdiE"
      }
    },
    {
      "cell_type": "code",
      "source": [
        "n_dim = min(20, df_melb_cured.shape[0])\n",
        "pca = PCA(n_dim)\n",
        "melb_dim_transform = pca.fit_transform(df_melb_cured)"
      ],
      "metadata": {
        "id": "7zF1HEKfFpjE"
      },
      "execution_count": null,
      "outputs": []
    },
    {
      "cell_type": "code",
      "source": [
        "n_pca = 3\n",
        "melb_pca = melb_dim_transform[:, 0:n_pca]"
      ],
      "metadata": {
        "id": "mNuWRlc8FqK3"
      },
      "execution_count": null,
      "outputs": []
    },
    {
      "cell_type": "code",
      "source": [
        "melb_extended_pca = np.hstack([df_melb_cured, melb_pca])\n",
        "\n",
        "new_pca_cols = [f'pca{i}' for i in range(1, n_pca + 1)]\n",
        "all_columns = [col_name.lower() for col_name in df_melb_cured.columns.to_list()] + new_pca_cols\n",
        "melb_extended_pca_df = pd.DataFrame(data=melb_extended_pca, columns=all_columns)"
      ],
      "metadata": {
        "id": "eV4vytQnFs8L"
      },
      "execution_count": null,
      "outputs": []
    },
    {
      "cell_type": "code",
      "source": [
        "melb_extended_pca_df[:10]"
      ],
      "metadata": {
        "id": "qGv2CXpLGC0J",
        "colab": {
          "base_uri": "https://localhost:8080/"
        },
        "outputId": "3027fc7e-9684-42c1-c813-9cf4afdcfd77"
      },
      "execution_count": null,
      "outputs": [
        {
          "output_type": "execute_result",
          "data": {
            "text/plain": [
              "   bathroom  bedroom2       car  method=pi  method=s  method=sa  method=sp  \\\n",
              "0       0.0  0.333333  0.333333        0.0       1.0        0.0        0.0   \n",
              "1       0.0  0.333333  0.000000        0.0       1.0        0.0        0.0   \n",
              "2       0.5  0.666667  0.000000        0.0       0.0        0.0        1.0   \n",
              "3       0.5  0.666667  0.333333        1.0       0.0        0.0        0.0   \n",
              "4       0.0  0.666667  0.666667        0.0       0.0        0.0        0.0   \n",
              "5       0.0  0.333333  0.000000        0.0       1.0        0.0        0.0   \n",
              "6       0.5  1.000000  0.000000        0.0       1.0        0.0        0.0   \n",
              "7       0.0  0.333333  0.666667        0.0       1.0        0.0        0.0   \n",
              "8       0.0  0.000000  0.333333        0.0       1.0        0.0        0.0   \n",
              "9       0.0  0.666667  0.666667        0.0       1.0        0.0        0.0   \n",
              "\n",
              "   method=vb  postcode  regionname=eastern metropolitan  ...  type=t  type=u  \\\n",
              "0        0.0  0.089096                              0.0  ...     0.0     0.0   \n",
              "1        0.0  0.089096                              0.0  ...     0.0     0.0   \n",
              "2        0.0  0.089096                              0.0  ...     0.0     0.0   \n",
              "3        0.0  0.089096                              0.0  ...     0.0     0.0   \n",
              "4        1.0  0.089096                              0.0  ...     0.0     0.0   \n",
              "5        0.0  0.089096                              0.0  ...     0.0     0.0   \n",
              "6        0.0  0.089096                              0.0  ...     0.0     0.0   \n",
              "7        0.0  0.089096                              0.0  ...     0.0     0.0   \n",
              "8        0.0  0.089096                              0.0  ...     0.0     1.0   \n",
              "9        0.0  0.089096                              0.0  ...     0.0     0.0   \n",
              "\n",
              "   buildingarea  yearbuilt      price  airbnb_monthly_price_mean  \\\n",
              "0         103.8     1927.6  1480000.0                2187.032258   \n",
              "1          79.0     1900.0  1035000.0                2187.032258   \n",
              "2         150.0     1900.0  1465000.0                2187.032258   \n",
              "3         103.8     1927.6   850000.0                2187.032258   \n",
              "4         142.0     2014.0  1600000.0                2187.032258   \n",
              "5         103.8     1927.6   941000.0                2187.032258   \n",
              "6         210.0     1910.0  1876000.0                2187.032258   \n",
              "7         107.0     1890.0  1636000.0                2187.032258   \n",
              "8         103.8     1927.6   300000.0                2187.032258   \n",
              "9          75.0     1900.0  1097000.0                2187.032258   \n",
              "\n",
              "   airbnb_price_mean           pca1        pca2       pca3  \n",
              "0         130.624031  451898.537396 -621.381586 -48.691596  \n",
              "1         130.624031    6898.606761 -372.698165 -55.296604  \n",
              "2         130.624031  436898.542039 -613.328273  -2.707705  \n",
              "3         130.624031 -178101.363653 -269.572188 -21.946744  \n",
              "4         130.624031  571898.518641 -688.684998 -13.319888  \n",
              "5         130.624031  -87101.377946 -320.389083 -25.810572  \n",
              "6         130.624031  847898.479701 -843.272123  39.983849  \n",
              "7         130.624031  607898.513640 -708.510538 -53.143686  \n",
              "8         130.624031 -728101.277269   37.563251   1.399610  \n",
              "9         130.624031   68898.596864 -407.292196 -61.919312  \n",
              "\n",
              "[10 rows x 273 columns]"
            ],
            "text/html": [
              "\n",
              "  <div id=\"df-63b05f57-1500-4325-9ac9-6f714b906432\">\n",
              "    <div class=\"colab-df-container\">\n",
              "      <div>\n",
              "<style scoped>\n",
              "    .dataframe tbody tr th:only-of-type {\n",
              "        vertical-align: middle;\n",
              "    }\n",
              "\n",
              "    .dataframe tbody tr th {\n",
              "        vertical-align: top;\n",
              "    }\n",
              "\n",
              "    .dataframe thead th {\n",
              "        text-align: right;\n",
              "    }\n",
              "</style>\n",
              "<table border=\"1\" class=\"dataframe\">\n",
              "  <thead>\n",
              "    <tr style=\"text-align: right;\">\n",
              "      <th></th>\n",
              "      <th>bathroom</th>\n",
              "      <th>bedroom2</th>\n",
              "      <th>car</th>\n",
              "      <th>method=pi</th>\n",
              "      <th>method=s</th>\n",
              "      <th>method=sa</th>\n",
              "      <th>method=sp</th>\n",
              "      <th>method=vb</th>\n",
              "      <th>postcode</th>\n",
              "      <th>regionname=eastern metropolitan</th>\n",
              "      <th>...</th>\n",
              "      <th>type=t</th>\n",
              "      <th>type=u</th>\n",
              "      <th>buildingarea</th>\n",
              "      <th>yearbuilt</th>\n",
              "      <th>price</th>\n",
              "      <th>airbnb_monthly_price_mean</th>\n",
              "      <th>airbnb_price_mean</th>\n",
              "      <th>pca1</th>\n",
              "      <th>pca2</th>\n",
              "      <th>pca3</th>\n",
              "    </tr>\n",
              "  </thead>\n",
              "  <tbody>\n",
              "    <tr>\n",
              "      <th>0</th>\n",
              "      <td>0.0</td>\n",
              "      <td>0.333333</td>\n",
              "      <td>0.333333</td>\n",
              "      <td>0.0</td>\n",
              "      <td>1.0</td>\n",
              "      <td>0.0</td>\n",
              "      <td>0.0</td>\n",
              "      <td>0.0</td>\n",
              "      <td>0.089096</td>\n",
              "      <td>0.0</td>\n",
              "      <td>...</td>\n",
              "      <td>0.0</td>\n",
              "      <td>0.0</td>\n",
              "      <td>103.8</td>\n",
              "      <td>1927.6</td>\n",
              "      <td>1480000.0</td>\n",
              "      <td>2187.032258</td>\n",
              "      <td>130.624031</td>\n",
              "      <td>451898.537396</td>\n",
              "      <td>-621.381586</td>\n",
              "      <td>-48.691596</td>\n",
              "    </tr>\n",
              "    <tr>\n",
              "      <th>1</th>\n",
              "      <td>0.0</td>\n",
              "      <td>0.333333</td>\n",
              "      <td>0.000000</td>\n",
              "      <td>0.0</td>\n",
              "      <td>1.0</td>\n",
              "      <td>0.0</td>\n",
              "      <td>0.0</td>\n",
              "      <td>0.0</td>\n",
              "      <td>0.089096</td>\n",
              "      <td>0.0</td>\n",
              "      <td>...</td>\n",
              "      <td>0.0</td>\n",
              "      <td>0.0</td>\n",
              "      <td>79.0</td>\n",
              "      <td>1900.0</td>\n",
              "      <td>1035000.0</td>\n",
              "      <td>2187.032258</td>\n",
              "      <td>130.624031</td>\n",
              "      <td>6898.606761</td>\n",
              "      <td>-372.698165</td>\n",
              "      <td>-55.296604</td>\n",
              "    </tr>\n",
              "    <tr>\n",
              "      <th>2</th>\n",
              "      <td>0.5</td>\n",
              "      <td>0.666667</td>\n",
              "      <td>0.000000</td>\n",
              "      <td>0.0</td>\n",
              "      <td>0.0</td>\n",
              "      <td>0.0</td>\n",
              "      <td>1.0</td>\n",
              "      <td>0.0</td>\n",
              "      <td>0.089096</td>\n",
              "      <td>0.0</td>\n",
              "      <td>...</td>\n",
              "      <td>0.0</td>\n",
              "      <td>0.0</td>\n",
              "      <td>150.0</td>\n",
              "      <td>1900.0</td>\n",
              "      <td>1465000.0</td>\n",
              "      <td>2187.032258</td>\n",
              "      <td>130.624031</td>\n",
              "      <td>436898.542039</td>\n",
              "      <td>-613.328273</td>\n",
              "      <td>-2.707705</td>\n",
              "    </tr>\n",
              "    <tr>\n",
              "      <th>3</th>\n",
              "      <td>0.5</td>\n",
              "      <td>0.666667</td>\n",
              "      <td>0.333333</td>\n",
              "      <td>1.0</td>\n",
              "      <td>0.0</td>\n",
              "      <td>0.0</td>\n",
              "      <td>0.0</td>\n",
              "      <td>0.0</td>\n",
              "      <td>0.089096</td>\n",
              "      <td>0.0</td>\n",
              "      <td>...</td>\n",
              "      <td>0.0</td>\n",
              "      <td>0.0</td>\n",
              "      <td>103.8</td>\n",
              "      <td>1927.6</td>\n",
              "      <td>850000.0</td>\n",
              "      <td>2187.032258</td>\n",
              "      <td>130.624031</td>\n",
              "      <td>-178101.363653</td>\n",
              "      <td>-269.572188</td>\n",
              "      <td>-21.946744</td>\n",
              "    </tr>\n",
              "    <tr>\n",
              "      <th>4</th>\n",
              "      <td>0.0</td>\n",
              "      <td>0.666667</td>\n",
              "      <td>0.666667</td>\n",
              "      <td>0.0</td>\n",
              "      <td>0.0</td>\n",
              "      <td>0.0</td>\n",
              "      <td>0.0</td>\n",
              "      <td>1.0</td>\n",
              "      <td>0.089096</td>\n",
              "      <td>0.0</td>\n",
              "      <td>...</td>\n",
              "      <td>0.0</td>\n",
              "      <td>0.0</td>\n",
              "      <td>142.0</td>\n",
              "      <td>2014.0</td>\n",
              "      <td>1600000.0</td>\n",
              "      <td>2187.032258</td>\n",
              "      <td>130.624031</td>\n",
              "      <td>571898.518641</td>\n",
              "      <td>-688.684998</td>\n",
              "      <td>-13.319888</td>\n",
              "    </tr>\n",
              "    <tr>\n",
              "      <th>5</th>\n",
              "      <td>0.0</td>\n",
              "      <td>0.333333</td>\n",
              "      <td>0.000000</td>\n",
              "      <td>0.0</td>\n",
              "      <td>1.0</td>\n",
              "      <td>0.0</td>\n",
              "      <td>0.0</td>\n",
              "      <td>0.0</td>\n",
              "      <td>0.089096</td>\n",
              "      <td>0.0</td>\n",
              "      <td>...</td>\n",
              "      <td>0.0</td>\n",
              "      <td>0.0</td>\n",
              "      <td>103.8</td>\n",
              "      <td>1927.6</td>\n",
              "      <td>941000.0</td>\n",
              "      <td>2187.032258</td>\n",
              "      <td>130.624031</td>\n",
              "      <td>-87101.377946</td>\n",
              "      <td>-320.389083</td>\n",
              "      <td>-25.810572</td>\n",
              "    </tr>\n",
              "    <tr>\n",
              "      <th>6</th>\n",
              "      <td>0.5</td>\n",
              "      <td>1.000000</td>\n",
              "      <td>0.000000</td>\n",
              "      <td>0.0</td>\n",
              "      <td>1.0</td>\n",
              "      <td>0.0</td>\n",
              "      <td>0.0</td>\n",
              "      <td>0.0</td>\n",
              "      <td>0.089096</td>\n",
              "      <td>0.0</td>\n",
              "      <td>...</td>\n",
              "      <td>0.0</td>\n",
              "      <td>0.0</td>\n",
              "      <td>210.0</td>\n",
              "      <td>1910.0</td>\n",
              "      <td>1876000.0</td>\n",
              "      <td>2187.032258</td>\n",
              "      <td>130.624031</td>\n",
              "      <td>847898.479701</td>\n",
              "      <td>-843.272123</td>\n",
              "      <td>39.983849</td>\n",
              "    </tr>\n",
              "    <tr>\n",
              "      <th>7</th>\n",
              "      <td>0.0</td>\n",
              "      <td>0.333333</td>\n",
              "      <td>0.666667</td>\n",
              "      <td>0.0</td>\n",
              "      <td>1.0</td>\n",
              "      <td>0.0</td>\n",
              "      <td>0.0</td>\n",
              "      <td>0.0</td>\n",
              "      <td>0.089096</td>\n",
              "      <td>0.0</td>\n",
              "      <td>...</td>\n",
              "      <td>0.0</td>\n",
              "      <td>0.0</td>\n",
              "      <td>107.0</td>\n",
              "      <td>1890.0</td>\n",
              "      <td>1636000.0</td>\n",
              "      <td>2187.032258</td>\n",
              "      <td>130.624031</td>\n",
              "      <td>607898.513640</td>\n",
              "      <td>-708.510538</td>\n",
              "      <td>-53.143686</td>\n",
              "    </tr>\n",
              "    <tr>\n",
              "      <th>8</th>\n",
              "      <td>0.0</td>\n",
              "      <td>0.000000</td>\n",
              "      <td>0.333333</td>\n",
              "      <td>0.0</td>\n",
              "      <td>1.0</td>\n",
              "      <td>0.0</td>\n",
              "      <td>0.0</td>\n",
              "      <td>0.0</td>\n",
              "      <td>0.089096</td>\n",
              "      <td>0.0</td>\n",
              "      <td>...</td>\n",
              "      <td>0.0</td>\n",
              "      <td>1.0</td>\n",
              "      <td>103.8</td>\n",
              "      <td>1927.6</td>\n",
              "      <td>300000.0</td>\n",
              "      <td>2187.032258</td>\n",
              "      <td>130.624031</td>\n",
              "      <td>-728101.277269</td>\n",
              "      <td>37.563251</td>\n",
              "      <td>1.399610</td>\n",
              "    </tr>\n",
              "    <tr>\n",
              "      <th>9</th>\n",
              "      <td>0.0</td>\n",
              "      <td>0.666667</td>\n",
              "      <td>0.666667</td>\n",
              "      <td>0.0</td>\n",
              "      <td>1.0</td>\n",
              "      <td>0.0</td>\n",
              "      <td>0.0</td>\n",
              "      <td>0.0</td>\n",
              "      <td>0.089096</td>\n",
              "      <td>0.0</td>\n",
              "      <td>...</td>\n",
              "      <td>0.0</td>\n",
              "      <td>0.0</td>\n",
              "      <td>75.0</td>\n",
              "      <td>1900.0</td>\n",
              "      <td>1097000.0</td>\n",
              "      <td>2187.032258</td>\n",
              "      <td>130.624031</td>\n",
              "      <td>68898.596864</td>\n",
              "      <td>-407.292196</td>\n",
              "      <td>-61.919312</td>\n",
              "    </tr>\n",
              "  </tbody>\n",
              "</table>\n",
              "<p>10 rows × 273 columns</p>\n",
              "</div>\n",
              "      <button class=\"colab-df-convert\" onclick=\"convertToInteractive('df-63b05f57-1500-4325-9ac9-6f714b906432')\"\n",
              "              title=\"Convert this dataframe to an interactive table.\"\n",
              "              style=\"display:none;\">\n",
              "        \n",
              "  <svg xmlns=\"http://www.w3.org/2000/svg\" height=\"24px\"viewBox=\"0 0 24 24\"\n",
              "       width=\"24px\">\n",
              "    <path d=\"M0 0h24v24H0V0z\" fill=\"none\"/>\n",
              "    <path d=\"M18.56 5.44l.94 2.06.94-2.06 2.06-.94-2.06-.94-.94-2.06-.94 2.06-2.06.94zm-11 1L8.5 8.5l.94-2.06 2.06-.94-2.06-.94L8.5 2.5l-.94 2.06-2.06.94zm10 10l.94 2.06.94-2.06 2.06-.94-2.06-.94-.94-2.06-.94 2.06-2.06.94z\"/><path d=\"M17.41 7.96l-1.37-1.37c-.4-.4-.92-.59-1.43-.59-.52 0-1.04.2-1.43.59L10.3 9.45l-7.72 7.72c-.78.78-.78 2.05 0 2.83L4 21.41c.39.39.9.59 1.41.59.51 0 1.02-.2 1.41-.59l7.78-7.78 2.81-2.81c.8-.78.8-2.07 0-2.86zM5.41 20L4 18.59l7.72-7.72 1.47 1.35L5.41 20z\"/>\n",
              "  </svg>\n",
              "      </button>\n",
              "      \n",
              "  <style>\n",
              "    .colab-df-container {\n",
              "      display:flex;\n",
              "      flex-wrap:wrap;\n",
              "      gap: 12px;\n",
              "    }\n",
              "\n",
              "    .colab-df-convert {\n",
              "      background-color: #E8F0FE;\n",
              "      border: none;\n",
              "      border-radius: 50%;\n",
              "      cursor: pointer;\n",
              "      display: none;\n",
              "      fill: #1967D2;\n",
              "      height: 32px;\n",
              "      padding: 0 0 0 0;\n",
              "      width: 32px;\n",
              "    }\n",
              "\n",
              "    .colab-df-convert:hover {\n",
              "      background-color: #E2EBFA;\n",
              "      box-shadow: 0px 1px 2px rgba(60, 64, 67, 0.3), 0px 1px 3px 1px rgba(60, 64, 67, 0.15);\n",
              "      fill: #174EA6;\n",
              "    }\n",
              "\n",
              "    [theme=dark] .colab-df-convert {\n",
              "      background-color: #3B4455;\n",
              "      fill: #D2E3FC;\n",
              "    }\n",
              "\n",
              "    [theme=dark] .colab-df-convert:hover {\n",
              "      background-color: #434B5C;\n",
              "      box-shadow: 0px 1px 3px 1px rgba(0, 0, 0, 0.15);\n",
              "      filter: drop-shadow(0px 1px 2px rgba(0, 0, 0, 0.3));\n",
              "      fill: #FFFFFF;\n",
              "    }\n",
              "  </style>\n",
              "\n",
              "      <script>\n",
              "        const buttonEl =\n",
              "          document.querySelector('#df-63b05f57-1500-4325-9ac9-6f714b906432 button.colab-df-convert');\n",
              "        buttonEl.style.display =\n",
              "          google.colab.kernel.accessAllowed ? 'block' : 'none';\n",
              "\n",
              "        async function convertToInteractive(key) {\n",
              "          const element = document.querySelector('#df-63b05f57-1500-4325-9ac9-6f714b906432');\n",
              "          const dataTable =\n",
              "            await google.colab.kernel.invokeFunction('convertToInteractive',\n",
              "                                                     [key], {});\n",
              "          if (!dataTable) return;\n",
              "\n",
              "          const docLinkHtml = 'Like what you see? Visit the ' +\n",
              "            '<a target=\"_blank\" href=https://colab.research.google.com/notebooks/data_table.ipynb>data table notebook</a>'\n",
              "            + ' to learn more about interactive tables.';\n",
              "          element.innerHTML = '';\n",
              "          dataTable['output_type'] = 'display_data';\n",
              "          await google.colab.output.renderOutput(dataTable, element);\n",
              "          const docLink = document.createElement('div');\n",
              "          docLink.innerHTML = docLinkHtml;\n",
              "          element.appendChild(docLink);\n",
              "        }\n",
              "      </script>\n",
              "    </div>\n",
              "  </div>\n",
              "  "
            ]
          },
          "metadata": {},
          "execution_count": 36
        }
      ]
    },
    {
      "cell_type": "code",
      "source": [
        "melb_extended_pca_df.columns"
      ],
      "metadata": {
        "id": "oaMQ3y7aGDLQ",
        "colab": {
          "base_uri": "https://localhost:8080/"
        },
        "outputId": "2532c3fb-f5b8-48bd-b4ad-df7c6df97b9f"
      },
      "execution_count": null,
      "outputs": [
        {
          "output_type": "execute_result",
          "data": {
            "text/plain": [
              "Index(['bathroom', 'bedroom2', 'car', 'method=pi', 'method=s', 'method=sa',\n",
              "       'method=sp', 'method=vb', 'postcode', 'regionname=eastern metropolitan',\n",
              "       ...\n",
              "       'type=t', 'type=u', 'buildingarea', 'yearbuilt', 'price',\n",
              "       'airbnb_monthly_price_mean', 'airbnb_price_mean', 'pca1', 'pca2',\n",
              "       'pca3'],\n",
              "      dtype='object', length=273)"
            ]
          },
          "metadata": {},
          "execution_count": 37
        }
      ]
    },
    {
      "cell_type": "code",
      "source": [
        "melb_extended_pca_df.to_csv('melb_pca_extended.csv')"
      ],
      "metadata": {
        "id": "LfAqGuIbGDeP"
      },
      "execution_count": null,
      "outputs": []
    },
    {
      "cell_type": "code",
      "execution_count": null,
      "metadata": {
        "id": "DfchYPgTxvQ4"
      },
      "outputs": [],
      "source": [
        "## Small example\n",
        "\n",
        "## If we process our data with the following steps:\n",
        "#categorical_cols = [\"Suburb\",\"Type\", \"Method\",\"Regionname\"]\n",
        "#numerical_cols =[\"Rooms\",\"Postcode\",\"Bedroom2\",\"Bathroom\",\"Car\",\"YearBuilt\",\"BuildingArea\",\"Price\"]\n",
        "#new_columns = []\n",
        "\n",
        "# Step 1: encode categorical columns\n",
        "#encoder = OneHotEncoder(handle_unknown='ignore', sparse=False)\n",
        "#X_cat = encoder.fit_transform(melb_df[categorical_cols])\n",
        "#for col, col_values in zip(categorical_cols, encoder.categories_):\n",
        "#  for col_value in col_values:\n",
        "#    new_columns.append('{}={}'.format(col, col_value))\n",
        "#print(\"Matrix has shape {}, with columns: {}\".format(X_cat.shape, new_columns))\n",
        "\n",
        "# Step 2: Append the numerical columns\n",
        "#X = np.hstack([X_cat, df_0[numerical_cols].values])\n",
        "#new_columns.extend(numerical_cols)\n",
        "#print(\"Matrix has shape {}, with columns: {}\".format(X_cat.shape, new_columns))\n",
        "\n",
        "# Step 3: Append some new features, like PCA\n",
        "#pca = PCA(n_components=2)\n",
        "#pca_dummy_features = pca.fit_transform(X)\n",
        "#X_pca = np.hstack([X, pca_dummy_features])\n",
        "#new_columns.extend(['pca1', 'pca2'])\n",
        "\n",
        "## Re-build dataframe\n",
        "#processed_melb_df = pd.DataFrame(data=X_pca, columns=new_columns)\n",
        "#processed_melb_df.head()"
      ]
    },
    {
      "cell_type": "markdown",
      "metadata": {
        "id": "mVBLFc8PhRtW"
      },
      "source": [
        "## Ejercicio 5: Documentación\n",
        "\n",
        "En un documento `.pdf` o `.md` realizar un reporte de las operaciones que realizaron para obtener el conjunto de datos final. Se debe incluir:\n",
        "  1. Criterios de exclusión (o inclusión) de filas\n",
        "  2. Interpretación de las columnas presentes\n",
        "  2. Todas las transofrmaciones realizadas\n",
        "\n",
        "Este documento es de uso técnico exclusivamente, y su objetivo es permitir que otres desarrolladores puedan reproducir los mismos pasos y obtener el mismo resultado. Debe ser detallado pero consiso. Por ejemplo:\n",
        "\n",
        "```\n",
        "  ## Criterios de exclusión de ejemplos\n",
        "  1. Se eliminan ejemplos donde el año de construcción es previo a 1900\n",
        "\n",
        "  ## Características seleccionadas\n",
        "  ### Características categóricas\n",
        "  1. Type: tipo de propiedad. 3 valores posibles\n",
        "  2. ...\n",
        "  Todas las características categóricas fueron codificadas con un\n",
        "  método OneHotEncoding utilizando como máximo sus 30 valores más \n",
        "  frecuentes.\n",
        "  \n",
        "  ### Características numéricas\n",
        "  1. Rooms: Cantidad de habitaciones\n",
        "  2. Distance: Distancia al centro de la ciudad.\n",
        "  3. airbnb_mean_price: Se agrega el precio promedio diario de \n",
        "     publicaciones de la plataforma AirBnB en el mismo código \n",
        "     postal. [Link al repositorio con datos externos].\n",
        "\n",
        "  ### Transformaciones:\n",
        "  1. Todas las características numéricas fueron estandarizadas.\n",
        "  2. La columna `Suburb` fue imputada utilizando el método ...\n",
        "  3. Las columnas `YearBuilt` y ... fueron imputadas utilizando el \n",
        "     algoritmo ...\n",
        "  4. ...\n",
        "\n",
        "  ### Datos aumentados\n",
        "  1. Se agregan las 5 primeras columnas obtenidas a través del\n",
        "     método de PCA, aplicado sobre el conjunto de datos\n",
        "     totalmente procesado.\n",
        "```\n"
      ]
    },
    {
      "cell_type": "markdown",
      "metadata": {
        "id": "Bq7nuPg2HIYx"
      },
      "source": [
        ""
      ]
    }
  ],
  "metadata": {
    "colab": {
      "collapsed_sections": [],
      "name": "Grupo_1_AyCD_Entregable_Parte_2_2022.ipynb",
      "provenance": [],
      "include_colab_link": true
    },
    "kernelspec": {
      "display_name": "Python 3",
      "name": "python3"
    },
    "language_info": {
      "name": "python"
    }
  },
  "nbformat": 4,
  "nbformat_minor": 0
}